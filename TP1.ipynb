{
  "cells": [
    {
      "cell_type": "markdown",
      "metadata": {
        "id": "view-in-github",
        "colab_type": "text"
      },
      "source": [
        "<a href=\"https://colab.research.google.com/github/EmmaCarlos/CLASE_22_CRUD_EDU/blob/main/TP1.ipynb\" target=\"_parent\"><img src=\"https://colab.research.google.com/assets/colab-badge.svg\" alt=\"Open In Colab\"/></a>"
      ]
    },
    {
      "cell_type": "code",
      "execution_count": null,
      "metadata": {
        "colab": {
          "base_uri": "https://localhost:8080/",
          "resources": {
            "http://localhost:8080/nbextensions/google.colab/files.js": {
              "data": "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",
              "headers": [
                [
                  "content-type",
                  "application/javascript"
                ]
              ],
              "ok": true,
              "status": 200,
              "status_text": ""
            }
          }
        },
        "id": "5e99bf98-ccae-4210-b1fa-754ebd08382c",
        "outputId": "c30f5f04-7639-44b9-cd88-8a973f17ec6d"
      },
      "outputs": [
        {
          "data": {
            "text/html": [
              "\n",
              "     <input type=\"file\" id=\"files-ee08edb6-5e19-430e-9ef6-3be5955c713e\" name=\"files[]\" multiple disabled\n",
              "        style=\"border:none\" />\n",
              "     <output id=\"result-ee08edb6-5e19-430e-9ef6-3be5955c713e\">\n",
              "      Upload widget is only available when the cell has been executed in the\n",
              "      current browser session. Please rerun this cell to enable.\n",
              "      </output>\n",
              "      <script src=\"/nbextensions/google.colab/files.js\"></script> "
            ],
            "text/plain": [
              "<IPython.core.display.HTML object>"
            ]
          },
          "metadata": {},
          "output_type": "display_data"
        },
        {
          "ename": "TypeError",
          "evalue": "ignored",
          "output_type": "error",
          "traceback": [
            "\u001b[0;31m---------------------------------------------------------------------------\u001b[0m",
            "\u001b[0;31mTypeError\u001b[0m                                 Traceback (most recent call last)",
            "\u001b[0;32m<ipython-input-3-55e6f6c683f6>\u001b[0m in \u001b[0;36m<module>\u001b[0;34m()\u001b[0m\n\u001b[1;32m     11\u001b[0m \u001b[0;34m\u001b[0m\u001b[0m\n\u001b[1;32m     12\u001b[0m \u001b[0;34m\u001b[0m\u001b[0m\n\u001b[0;32m---> 13\u001b[0;31m \u001b[0muploaded\u001b[0m \u001b[0;34m=\u001b[0m \u001b[0mfiles\u001b[0m\u001b[0;34m.\u001b[0m\u001b[0mupload\u001b[0m\u001b[0;34m(\u001b[0m\u001b[0;34m)\u001b[0m\u001b[0;34m\u001b[0m\u001b[0;34m\u001b[0m\u001b[0m\n\u001b[0m\u001b[1;32m     14\u001b[0m \u001b[0;31m#cargamos y leemos el archivo csv como DataFrame\u001b[0m\u001b[0;34m\u001b[0m\u001b[0;34m\u001b[0m\u001b[0;34m\u001b[0m\u001b[0m\n\u001b[1;32m     15\u001b[0m \u001b[0mdata_location\u001b[0m \u001b[0;34m=\u001b[0m \u001b[0;34m'/content/properatti.csv'\u001b[0m\u001b[0;34m\u001b[0m\u001b[0;34m\u001b[0m\u001b[0m\n",
            "\u001b[0;32m/usr/local/lib/python3.7/dist-packages/google/colab/files.py\u001b[0m in \u001b[0;36mupload\u001b[0;34m()\u001b[0m\n\u001b[1;32m     44\u001b[0m   \"\"\"\n\u001b[1;32m     45\u001b[0m \u001b[0;34m\u001b[0m\u001b[0m\n\u001b[0;32m---> 46\u001b[0;31m   \u001b[0muploaded_files\u001b[0m \u001b[0;34m=\u001b[0m \u001b[0m_upload_files\u001b[0m\u001b[0;34m(\u001b[0m\u001b[0mmultiple\u001b[0m\u001b[0;34m=\u001b[0m\u001b[0;32mTrue\u001b[0m\u001b[0;34m)\u001b[0m\u001b[0;34m\u001b[0m\u001b[0;34m\u001b[0m\u001b[0m\n\u001b[0m\u001b[1;32m     47\u001b[0m   \u001b[0;31m# Mapping from original filename to filename as saved locally.\u001b[0m\u001b[0;34m\u001b[0m\u001b[0;34m\u001b[0m\u001b[0;34m\u001b[0m\u001b[0m\n\u001b[1;32m     48\u001b[0m   \u001b[0mlocal_filenames\u001b[0m \u001b[0;34m=\u001b[0m \u001b[0mdict\u001b[0m\u001b[0;34m(\u001b[0m\u001b[0;34m)\u001b[0m\u001b[0;34m\u001b[0m\u001b[0;34m\u001b[0m\u001b[0m\n",
            "\u001b[0;32m/usr/local/lib/python3.7/dist-packages/google/colab/files.py\u001b[0m in \u001b[0;36m_upload_files\u001b[0;34m(multiple)\u001b[0m\n\u001b[1;32m    124\u001b[0m   \u001b[0mfiles\u001b[0m \u001b[0;34m=\u001b[0m \u001b[0m_collections\u001b[0m\u001b[0;34m.\u001b[0m\u001b[0mdefaultdict\u001b[0m\u001b[0;34m(\u001b[0m\u001b[0m_six\u001b[0m\u001b[0;34m.\u001b[0m\u001b[0mbinary_type\u001b[0m\u001b[0;34m)\u001b[0m\u001b[0;34m\u001b[0m\u001b[0;34m\u001b[0m\u001b[0m\n\u001b[1;32m    125\u001b[0m \u001b[0;34m\u001b[0m\u001b[0m\n\u001b[0;32m--> 126\u001b[0;31m   \u001b[0;32mwhile\u001b[0m \u001b[0mresult\u001b[0m\u001b[0;34m[\u001b[0m\u001b[0;34m'action'\u001b[0m\u001b[0;34m]\u001b[0m \u001b[0;34m!=\u001b[0m \u001b[0;34m'complete'\u001b[0m\u001b[0;34m:\u001b[0m\u001b[0;34m\u001b[0m\u001b[0;34m\u001b[0m\u001b[0m\n\u001b[0m\u001b[1;32m    127\u001b[0m     result = _output.eval_js(\n\u001b[1;32m    128\u001b[0m         'google.colab._files._uploadFilesContinue(\"{output_id}\")'.format(\n",
            "\u001b[0;31mTypeError\u001b[0m: 'NoneType' object is not subscriptable"
          ]
        }
      ],
      "source": [
        "  # importamos las librerías\n",
        "  %matplotlib inline\n",
        "  import sys\n",
        "  import pandas as pd\n",
        "  import numpy as np\n",
        "  import seaborn as sns\n",
        "  import matplotlib.pyplot as plt\n",
        "  import re\n",
        "  from scipy.stats import iqr\n",
        "  from google.colab import files \n",
        "  \n",
        "  \n",
        "uploaded = files.upload()\n",
        "#cargamos y leemos el archivo csv como DataFrame\n",
        "data_location = '/content/properatti.csv'\n",
        "\n",
        "data = pd.read_csv('/content/properatti.csv',  encoding='latin1', dtype= str, sep=\",\")\n",
        "# Mostramos primeros 10 registros del df\n",
        "data.head(10)\n",
        "     "
      ],
      "id": "5e99bf98-ccae-4210-b1fa-754ebd08382c"
    },
    {
      "cell_type": "code",
      "execution_count": null,
      "metadata": {
        "colab": {
          "background_save": true
        },
        "id": "Rf8X8qKxtyaL"
      },
      "outputs": [],
      "source": [
        "from google.colab import drive\n",
        "drive.mount('/content/drive')"
      ],
      "id": "Rf8X8qKxtyaL"
    },
    {
      "cell_type": "markdown",
      "metadata": {
        "id": "SJIWBgRQ7mEc"
      },
      "source": [
        "# Sección nueva"
      ],
      "id": "SJIWBgRQ7mEc"
    },
    {
      "cell_type": "code",
      "execution_count": null,
      "metadata": {
        "id": "4c5387c0-c4b0-453f-83ab-787f7cdb0628",
        "outputId": "02e0f532-1fbc-443e-82f0-47aaf3b606a1"
      },
      "outputs": [
        {
          "data": {
            "text/plain": [
              "Unnamed: 0                    object\n",
              "operation                     object\n",
              "property_type                 object\n",
              "place_name                    object\n",
              "place_with_parent_names       object\n",
              "country_name                  object\n",
              "state_name                    object\n",
              "geonames_id                   object\n",
              "lat-lon                       object\n",
              "lat                           object\n",
              "lon                           object\n",
              "price                         object\n",
              "currency                      object\n",
              "price_aprox_local_currency    object\n",
              "price_aprox_usd               object\n",
              "surface_total_in_m2           object\n",
              "surface_covered_in_m2         object\n",
              "price_usd_per_m2              object\n",
              "price_per_m2                  object\n",
              "floor                         object\n",
              "rooms                         object\n",
              "expenses                      object\n",
              "properati_url                 object\n",
              "description                   object\n",
              "title                         object\n",
              "image_thumbnail               object\n",
              "dtype: object"
            ]
          },
          "execution_count": 2,
          "metadata": {},
          "output_type": "execute_result"
        }
      ],
      "source": [
        "#evaluamos datos y modificamos los tipos de datos según variable \n",
        "data.dtypes\n",
        "\n",
        "pd.to_numeric(data.price_aprox_local_currency, downcast='float')\n",
        "data.operation.astype(str)\n",
        "data.property_type.astype(str)\n",
        "data.place_name.astype(str)\n",
        "data.place_with_parent_names.astype(str)\n",
        "data.country_name.astype(str)\n",
        "data.state_name.astype(str)\n",
        "data.geonames_id.astype(str)\n",
        "pd.to_numeric(data.lat, downcast='float')\n",
        "pd.to_numeric(data.lon, downcast='float')\n",
        "pd.to_numeric(data.price, downcast='float')\n",
        "data.currency.astype(str)\n",
        "pd.to_numeric(data.price_aprox_local_currency, downcast='float')\n",
        "pd.to_numeric(data.price_aprox_usd, downcast='float')\n",
        "pd.to_numeric(data.surface_total_in_m2, downcast='float')\n",
        "pd.to_numeric(data.surface_covered_in_m2, downcast='float')\n",
        "pd.to_numeric(data.price_usd_per_m2, downcast='float')\n",
        "pd.to_numeric(data.price_per_m2, downcast='float')\n",
        "data.properati_url.astype(str)\n",
        "data.description.astype(str)\n",
        "data.title.astype(str)"
      ],
      "id": "4c5387c0-c4b0-453f-83ab-787f7cdb0628"
    },
    {
      "cell_type": "code",
      "execution_count": null,
      "metadata": {
        "id": "8F8oalPzbnFB",
        "colab": {
          "base_uri": "https://localhost:8080/",
          "height": 183
        },
        "outputId": "df6045db-8d5a-48ab-f97c-c750a9781076"
      },
      "outputs": [
        {
          "output_type": "error",
          "ename": "NameError",
          "evalue": "ignored",
          "traceback": [
            "\u001b[0;31m---------------------------------------------------------------------------\u001b[0m",
            "\u001b[0;31mNameError\u001b[0m                                 Traceback (most recent call last)",
            "\u001b[0;32m<ipython-input-2-8be2e46481f2>\u001b[0m in \u001b[0;36m<module>\u001b[0;34m()\u001b[0m\n\u001b[1;32m      1\u001b[0m \u001b[0;31m# Evaluamos % datos nulos por columna\u001b[0m\u001b[0;34m\u001b[0m\u001b[0;34m\u001b[0m\u001b[0;34m\u001b[0m\u001b[0m\n\u001b[0;32m----> 2\u001b[0;31m \u001b[0mdata\u001b[0m\u001b[0;34m.\u001b[0m\u001b[0misna\u001b[0m\u001b[0;34m(\u001b[0m\u001b[0;34m)\u001b[0m\u001b[0;34m.\u001b[0m\u001b[0msum\u001b[0m\u001b[0;34m(\u001b[0m\u001b[0;34m)\u001b[0m\u001b[0;34m*\u001b[0m\u001b[0;36m100\u001b[0m\u001b[0;34m/\u001b[0m\u001b[0mlen\u001b[0m\u001b[0;34m(\u001b[0m\u001b[0mdata\u001b[0m\u001b[0;34m)\u001b[0m\u001b[0;34m\u001b[0m\u001b[0;34m\u001b[0m\u001b[0m\n\u001b[0m",
            "\u001b[0;31mNameError\u001b[0m: name 'data' is not defined"
          ]
        }
      ],
      "source": [
        "# Evaluamos % datos nulos por columna y graficamos\n",
        "data.isna().sum()*100/len(data)\n",
        "plt.figure(figsize=(10,6))\n",
        "sns.displot(data=data.isna().melt(value_name=\"missing\"), y=\"variable\", hue=\"missing\", multiple=\"fill\", aspect=1.25, palette='Paired')"
      ],
      "id": "8F8oalPzbnFB"
    },
    {
      "cell_type": "code",
      "source": [
        "#Eliminamos variables irrelevantes, redundantes, y con porcentaje de valores nulos mayor al 50%\n",
        "data.drop(['expenses', 'rooms', 'lat-lon', 'image_thumbnail'], axis=1, inplace=True)"
      ],
      "metadata": {
        "id": "7qlCLggH-Hgi"
      },
      "id": "7qlCLggH-Hgi",
      "execution_count": null,
      "outputs": []
    },
    {
      "cell_type": "code",
      "execution_count": null,
      "metadata": {
        "id": "f1b10d5b-c057-4bb6-b2ac-74f71464c025",
        "outputId": "9716ce67-0190-48f3-8b3f-3002f5a04889"
      },
      "outputs": [
        {
          "data": {
            "text/plain": [
              "<bound method DataFrame.info of        Unnamed: 0 operation property_type       place_name  \\\n",
              "0               0      sell            PH        Mataderos   \n",
              "1               1      sell     apartment         La Plata   \n",
              "2               2      sell     apartment        Mataderos   \n",
              "3               3      sell            PH          Liniers   \n",
              "4               4      sell     apartment           Centro   \n",
              "...           ...       ...           ...              ...   \n",
              "121215     121215      sell     apartment         Belgrano   \n",
              "121216     121216      sell         house           Beccar   \n",
              "121217     121217      sell     apartment    Villa Urquiza   \n",
              "121218     121218      sell     apartment     Plaza ColÃ³n   \n",
              "121219     121219      sell     apartment  Capital Federal   \n",
              "\n",
              "                                  place_with_parent_names country_name  \\\n",
              "0                   |Argentina|Capital Federal|Mataderos|    Argentina   \n",
              "1             |Argentina|Bs.As. G.B.A. Zona Sur|La Plata|    Argentina   \n",
              "2                   |Argentina|Capital Federal|Mataderos|    Argentina   \n",
              "3                     |Argentina|Capital Federal|Liniers|    Argentina   \n",
              "4       |Argentina|Buenos Aires Costa AtlÃ¡ntica|Mar d...    Argentina   \n",
              "...                                                   ...          ...   \n",
              "121215               |Argentina|Capital Federal|Belgrano|    Argentina   \n",
              "121216  |Argentina|Bs.As. G.B.A. Zona Norte|San Isidro...    Argentina   \n",
              "121217          |Argentina|Capital Federal|Villa Urquiza|    Argentina   \n",
              "121218  |Argentina|Buenos Aires Costa AtlÃ¡ntica|Mar d...    Argentina   \n",
              "121219                        |Argentina|Capital Federal|    Argentina   \n",
              "\n",
              "                           state_name geonames_id  \\\n",
              "0                     Capital Federal   3430787.0   \n",
              "1              Bs.As. G.B.A. Zona Sur   3432039.0   \n",
              "2                     Capital Federal   3430787.0   \n",
              "3                     Capital Federal   3431333.0   \n",
              "4       Buenos Aires Costa AtlÃ¡ntica   3435548.0   \n",
              "...                               ...         ...   \n",
              "121215                Capital Federal   3436077.0   \n",
              "121216       Bs.As. G.B.A. Zona Norte   3436080.0   \n",
              "121217                Capital Federal   3433775.0   \n",
              "121218  Buenos Aires Costa AtlÃ¡ntica         NaN   \n",
              "121219                Capital Federal   3433955.0   \n",
              "\n",
              "                              lat-lon                  lat  ...  \\\n",
              "0             -34.6618237,-58.5088387          -34.6618237  ...   \n",
              "1             -34.9038831,-57.9643295          -34.9038831  ...   \n",
              "2             -34.6522615,-58.5229825          -34.6522615  ...   \n",
              "3             -34.6477969,-58.5164244  -34.647796899999996  ...   \n",
              "4             -38.0026256,-57.5494468          -38.0026256  ...   \n",
              "...                               ...                  ...  ...   \n",
              "121215                            NaN                  NaN  ...   \n",
              "121216                            NaN                  NaN  ...   \n",
              "121217  -34.5706388726,-58.4755963355       -34.5706388726  ...   \n",
              "121218                            NaN                  NaN  ...   \n",
              "121219                            NaN                  NaN  ...   \n",
              "\n",
              "       surface_covered_in_m2    price_usd_per_m2        price_per_m2 floor  \\\n",
              "0                       40.0  1127.2727272727273              1550.0   NaN   \n",
              "1                        NaN                 NaN                 NaN   NaN   \n",
              "2                       55.0   1309.090909090909   1309.090909090909   NaN   \n",
              "3                        NaN                 NaN                 NaN   NaN   \n",
              "4                       35.0   1828.571428571429   1828.571428571429   NaN   \n",
              "...                      ...                 ...                 ...   ...   \n",
              "121215                  93.0  7699.1150442477865   9354.838709677419   NaN   \n",
              "121216                 360.0   1383.333333333333   1383.333333333333   NaN   \n",
              "121217                  39.0   2858.695652173913   3371.794871794872   NaN   \n",
              "121218                  48.0   1997.916666666667   1997.916666666667   NaN   \n",
              "121219                  77.0  1675.3246753246756  1675.3246753246756   NaN   \n",
              "\n",
              "       rooms expenses                                      properati_url  \\\n",
              "0        NaN      NaN  http://www.properati.com.ar/15bo8_venta_ph_mat...   \n",
              "1        NaN      NaN  http://www.properati.com.ar/15bob_venta_depart...   \n",
              "2        NaN      NaN  http://www.properati.com.ar/15bod_venta_depart...   \n",
              "3        NaN      NaN  http://www.properati.com.ar/15boh_venta_ph_lin...   \n",
              "4        NaN      NaN  http://www.properati.com.ar/15bok_venta_depart...   \n",
              "...      ...      ...                                                ...   \n",
              "121215   NaN  10000.0  http://www.properati.com.ar/1cja2_venta_depart...   \n",
              "121216   NaN      NaN  http://www.properati.com.ar/1cja6_venta_casa_b...   \n",
              "121217   NaN      NaN  http://www.properati.com.ar/1cja7_venta_depart...   \n",
              "121218   NaN      NaN  http://www.properati.com.ar/1cja8_venta_depart...   \n",
              "121219   NaN   3500.0  http://www.properati.com.ar/1cjaa_venta_depart...   \n",
              "\n",
              "                                              description  \\\n",
              "0       2 AMBIENTES TIPO CASA PLANTA BAJA POR PASILLO,...   \n",
              "1       Venta de departamento en dÃ©cimo piso al frent...   \n",
              "2       2 AMBIENTES 3ER PISO LATERAL LIVING COMEDOR AM...   \n",
              "3       PH 3 ambientes con patio. Hay 3 deptos en lote...   \n",
              "4       DEPARTAMENTO CON FANTÃSTICA ILUMINACIÃN NATU...   \n",
              "...                                                   ...   \n",
              "121215  TORRE FORUM ALCORTA - MÃXIMA CATEGORÃA.Impec...   \n",
              "121216  Excelente e impecable casa en Venta en Las Lom...   \n",
              "121217  VENTA DEPARTAMENTO AMBIENTE DIVISIBLE A ESTREN...   \n",
              "121218  2 Amb al contrafrente,  luminoso. El departame...   \n",
              "121219  Departamento de 77 m2 apto profesional. Edific...   \n",
              "\n",
              "                                                    title  \\\n",
              "0                      2 AMB TIPO CASA SIN EXPENSAS EN PB   \n",
              "1       VENTA Depto 2 dorm. a estrenar 7 e/ 36 y 37   ...   \n",
              "2                2 AMB 3ER PISO CON ASCENSOR APTO CREDITO   \n",
              "3                            PH 3 amb. cfte. reciclado      \n",
              "4       DEPTO 2 AMB AL CONTRAFRENTE ZONA CENTRO/PLAZA ...   \n",
              "...                                                   ...   \n",
              "121215         Torre Forum Alcorta- Impecable 3 ambientes   \n",
              "121216  Ruca Inmuebles | Venta | Lomas de San Isidro |...   \n",
              "121217  VENTA DEPARTAMENTO AMBIENTE DIVISIBLE A ESTREN...   \n",
              "121218  2 amb. C/ dep. de servicio al contrafrente| Re...   \n",
              "121219         Departamento apto profesional en el Centro   \n",
              "\n",
              "                                          image_thumbnail  \n",
              "0       https://thumbs4.properati.com/8/BluUYiHJLhgIIK...  \n",
              "1       https://thumbs4.properati.com/7/ikpVBu2ztHA7jv...  \n",
              "2       https://thumbs4.properati.com/5/SXKr34F_IwG3W_...  \n",
              "3       https://thumbs4.properati.com/3/DgIfX-85Mog5SP...  \n",
              "4       https://thumbs4.properati.com/5/xrRqlNcSI_vs-f...  \n",
              "...                                                   ...  \n",
              "121215  https://thumbs4.properati.com/1/bjms0KnaAnlNoQ...  \n",
              "121216  https://thumbs4.properati.com/2/PCc3WuQDjpNZc4...  \n",
              "121217  https://thumbs4.properati.com/9/YAe_-2gRVykADP...  \n",
              "121218  https://thumbs4.properati.com/8/Q12PTvU6BQJ0ib...  \n",
              "121219  https://thumbs4.properati.com/8/mNEsnQWqB7joBF...  \n",
              "\n",
              "[121220 rows x 26 columns]>"
            ]
          },
          "execution_count": 4,
          "metadata": {},
          "output_type": "execute_result"
        }
      ],
      "source": [
        "# Mostramos información de cada serie del df\n",
        "data.info"
      ],
      "id": "f1b10d5b-c057-4bb6-b2ac-74f71464c025"
    },
    {
      "cell_type": "code",
      "execution_count": null,
      "metadata": {
        "id": "f91c40f1-0e5f-4799-9a60-ffc1ac0d0cc4"
      },
      "outputs": [],
      "source": [
        "# Chequeamos que no existan registros duplicados mediante la columna properati_url\n",
        "data_duplicada = data.properati_url.duplicated(keep = False)\n",
        "any(data_duplicada)\n"
      ],
      "id": "f91c40f1-0e5f-4799-9a60-ffc1ac0d0cc4"
    },
    {
      "cell_type": "code",
      "execution_count": null,
      "metadata": {
        "id": "6726b8c4-3542-48af-b1a2-90c7b7d02fec"
      },
      "outputs": [],
      "source": [
        "# con columna price aprox usd y surface_total_in m2 podríamos completar price_usd_per_m2"
      ],
      "id": "6726b8c4-3542-48af-b1a2-90c7b7d02fec"
    },
    {
      "cell_type": "code",
      "execution_count": null,
      "metadata": {
        "id": "79a69a34-79f6-4983-a9ac-2be9ea545f1b"
      },
      "outputs": [],
      "source": [
        ""
      ],
      "id": "79a69a34-79f6-4983-a9ac-2be9ea545f1b"
    },
    {
      "cell_type": "code",
      "execution_count": null,
      "metadata": {
        "id": "f062e702-649c-4d23-8c66-4a6131c44816"
      },
      "outputs": [],
      "source": [
        ""
      ],
      "id": "f062e702-649c-4d23-8c66-4a6131c44816"
    }
  ],
  "metadata": {
    "colab": {
      "collapsed_sections": [],
      "name": "TP1.ipynb",
      "provenance": [],
      "include_colab_link": true
    },
    "kernelspec": {
      "display_name": "Python [conda env:dhdsblend2021] *",
      "language": "python",
      "name": "conda-env-dhdsblend2021-py"
    },
    "language_info": {
      "codemirror_mode": {
        "name": "ipython",
        "version": 3
      },
      "file_extension": ".py",
      "mimetype": "text/x-python",
      "name": "python",
      "nbconvert_exporter": "python",
      "pygments_lexer": "ipython3",
      "version": "3.8.13"
    }
  },
  "nbformat": 4,
  "nbformat_minor": 5
}