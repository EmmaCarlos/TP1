{
 "cells": [
  {
   "cell_type": "code",
   "execution_count": 1,
   "id": "0a468603",
   "metadata": {},
   "outputs": [
    {
     "data": {
      "text/html": [
       "<div>\n",
       "<style scoped>\n",
       "    .dataframe tbody tr th:only-of-type {\n",
       "        vertical-align: middle;\n",
       "    }\n",
       "\n",
       "    .dataframe tbody tr th {\n",
       "        vertical-align: top;\n",
       "    }\n",
       "\n",
       "    .dataframe thead th {\n",
       "        text-align: right;\n",
       "    }\n",
       "</style>\n",
       "<table border=\"1\" class=\"dataframe\">\n",
       "  <thead>\n",
       "    <tr style=\"text-align: right;\">\n",
       "      <th></th>\n",
       "      <th>Unnamed: 0</th>\n",
       "      <th>operation</th>\n",
       "      <th>property_type</th>\n",
       "      <th>place_name</th>\n",
       "      <th>place_with_parent_names</th>\n",
       "      <th>country_name</th>\n",
       "      <th>state_name</th>\n",
       "      <th>geonames_id</th>\n",
       "      <th>lat-lon</th>\n",
       "      <th>lat</th>\n",
       "      <th>...</th>\n",
       "      <th>surface_covered_in_m2</th>\n",
       "      <th>price_usd_per_m2</th>\n",
       "      <th>price_per_m2</th>\n",
       "      <th>floor</th>\n",
       "      <th>rooms</th>\n",
       "      <th>expenses</th>\n",
       "      <th>properati_url</th>\n",
       "      <th>description</th>\n",
       "      <th>title</th>\n",
       "      <th>image_thumbnail</th>\n",
       "    </tr>\n",
       "  </thead>\n",
       "  <tbody>\n",
       "    <tr>\n",
       "      <th>0</th>\n",
       "      <td>0</td>\n",
       "      <td>sell</td>\n",
       "      <td>PH</td>\n",
       "      <td>Mataderos</td>\n",
       "      <td>|Argentina|Capital Federal|Mataderos|</td>\n",
       "      <td>Argentina</td>\n",
       "      <td>Capital Federal</td>\n",
       "      <td>3430787.0</td>\n",
       "      <td>-34.6618237,-58.5088387</td>\n",
       "      <td>-34.6618237</td>\n",
       "      <td>...</td>\n",
       "      <td>40.0</td>\n",
       "      <td>1127.2727272727273</td>\n",
       "      <td>1550.0</td>\n",
       "      <td>NaN</td>\n",
       "      <td>NaN</td>\n",
       "      <td>NaN</td>\n",
       "      <td>http://www.properati.com.ar/15bo8_venta_ph_mat...</td>\n",
       "      <td>2 AMBIENTES TIPO CASA PLANTA BAJA POR PASILLO,...</td>\n",
       "      <td>2 AMB TIPO CASA SIN EXPENSAS EN PB</td>\n",
       "      <td>https://thumbs4.properati.com/8/BluUYiHJLhgIIK...</td>\n",
       "    </tr>\n",
       "    <tr>\n",
       "      <th>1</th>\n",
       "      <td>1</td>\n",
       "      <td>sell</td>\n",
       "      <td>apartment</td>\n",
       "      <td>La Plata</td>\n",
       "      <td>|Argentina|Bs.As. G.B.A. Zona Sur|La Plata|</td>\n",
       "      <td>Argentina</td>\n",
       "      <td>Bs.As. G.B.A. Zona Sur</td>\n",
       "      <td>3432039.0</td>\n",
       "      <td>-34.9038831,-57.9643295</td>\n",
       "      <td>-34.9038831</td>\n",
       "      <td>...</td>\n",
       "      <td>NaN</td>\n",
       "      <td>NaN</td>\n",
       "      <td>NaN</td>\n",
       "      <td>NaN</td>\n",
       "      <td>NaN</td>\n",
       "      <td>NaN</td>\n",
       "      <td>http://www.properati.com.ar/15bob_venta_depart...</td>\n",
       "      <td>Venta de departamento en dÃ©cimo piso al frent...</td>\n",
       "      <td>VENTA Depto 2 dorm. a estrenar 7 e/ 36 y 37   ...</td>\n",
       "      <td>https://thumbs4.properati.com/7/ikpVBu2ztHA7jv...</td>\n",
       "    </tr>\n",
       "    <tr>\n",
       "      <th>2</th>\n",
       "      <td>2</td>\n",
       "      <td>sell</td>\n",
       "      <td>apartment</td>\n",
       "      <td>Mataderos</td>\n",
       "      <td>|Argentina|Capital Federal|Mataderos|</td>\n",
       "      <td>Argentina</td>\n",
       "      <td>Capital Federal</td>\n",
       "      <td>3430787.0</td>\n",
       "      <td>-34.6522615,-58.5229825</td>\n",
       "      <td>-34.6522615</td>\n",
       "      <td>...</td>\n",
       "      <td>55.0</td>\n",
       "      <td>1309.090909090909</td>\n",
       "      <td>1309.090909090909</td>\n",
       "      <td>NaN</td>\n",
       "      <td>NaN</td>\n",
       "      <td>NaN</td>\n",
       "      <td>http://www.properati.com.ar/15bod_venta_depart...</td>\n",
       "      <td>2 AMBIENTES 3ER PISO LATERAL LIVING COMEDOR AM...</td>\n",
       "      <td>2 AMB 3ER PISO CON ASCENSOR APTO CREDITO</td>\n",
       "      <td>https://thumbs4.properati.com/5/SXKr34F_IwG3W_...</td>\n",
       "    </tr>\n",
       "    <tr>\n",
       "      <th>3</th>\n",
       "      <td>3</td>\n",
       "      <td>sell</td>\n",
       "      <td>PH</td>\n",
       "      <td>Liniers</td>\n",
       "      <td>|Argentina|Capital Federal|Liniers|</td>\n",
       "      <td>Argentina</td>\n",
       "      <td>Capital Federal</td>\n",
       "      <td>3431333.0</td>\n",
       "      <td>-34.6477969,-58.5164244</td>\n",
       "      <td>-34.647796899999996</td>\n",
       "      <td>...</td>\n",
       "      <td>NaN</td>\n",
       "      <td>NaN</td>\n",
       "      <td>NaN</td>\n",
       "      <td>NaN</td>\n",
       "      <td>NaN</td>\n",
       "      <td>NaN</td>\n",
       "      <td>http://www.properati.com.ar/15boh_venta_ph_lin...</td>\n",
       "      <td>PH 3 ambientes con patio. Hay 3 deptos en lote...</td>\n",
       "      <td>PH 3 amb. cfte. reciclado</td>\n",
       "      <td>https://thumbs4.properati.com/3/DgIfX-85Mog5SP...</td>\n",
       "    </tr>\n",
       "    <tr>\n",
       "      <th>4</th>\n",
       "      <td>4</td>\n",
       "      <td>sell</td>\n",
       "      <td>apartment</td>\n",
       "      <td>Centro</td>\n",
       "      <td>|Argentina|Buenos Aires Costa AtlÃ¡ntica|Mar d...</td>\n",
       "      <td>Argentina</td>\n",
       "      <td>Buenos Aires Costa AtlÃ¡ntica</td>\n",
       "      <td>3435548.0</td>\n",
       "      <td>-38.0026256,-57.5494468</td>\n",
       "      <td>-38.0026256</td>\n",
       "      <td>...</td>\n",
       "      <td>35.0</td>\n",
       "      <td>1828.571428571429</td>\n",
       "      <td>1828.571428571429</td>\n",
       "      <td>NaN</td>\n",
       "      <td>NaN</td>\n",
       "      <td>NaN</td>\n",
       "      <td>http://www.properati.com.ar/15bok_venta_depart...</td>\n",
       "      <td>DEPARTAMENTO CON FANTÃSTICA ILUMINACIÃN NATU...</td>\n",
       "      <td>DEPTO 2 AMB AL CONTRAFRENTE ZONA CENTRO/PLAZA ...</td>\n",
       "      <td>https://thumbs4.properati.com/5/xrRqlNcSI_vs-f...</td>\n",
       "    </tr>\n",
       "  </tbody>\n",
       "</table>\n",
       "<p>5 rows × 26 columns</p>\n",
       "</div>"
      ],
      "text/plain": [
       "  Unnamed: 0 operation property_type place_name  \\\n",
       "0          0      sell            PH  Mataderos   \n",
       "1          1      sell     apartment   La Plata   \n",
       "2          2      sell     apartment  Mataderos   \n",
       "3          3      sell            PH    Liniers   \n",
       "4          4      sell     apartment     Centro   \n",
       "\n",
       "                             place_with_parent_names country_name  \\\n",
       "0              |Argentina|Capital Federal|Mataderos|    Argentina   \n",
       "1        |Argentina|Bs.As. G.B.A. Zona Sur|La Plata|    Argentina   \n",
       "2              |Argentina|Capital Federal|Mataderos|    Argentina   \n",
       "3                |Argentina|Capital Federal|Liniers|    Argentina   \n",
       "4  |Argentina|Buenos Aires Costa AtlÃ¡ntica|Mar d...    Argentina   \n",
       "\n",
       "                      state_name geonames_id                  lat-lon  \\\n",
       "0                Capital Federal   3430787.0  -34.6618237,-58.5088387   \n",
       "1         Bs.As. G.B.A. Zona Sur   3432039.0  -34.9038831,-57.9643295   \n",
       "2                Capital Federal   3430787.0  -34.6522615,-58.5229825   \n",
       "3                Capital Federal   3431333.0  -34.6477969,-58.5164244   \n",
       "4  Buenos Aires Costa AtlÃ¡ntica   3435548.0  -38.0026256,-57.5494468   \n",
       "\n",
       "                   lat  ... surface_covered_in_m2    price_usd_per_m2  \\\n",
       "0          -34.6618237  ...                  40.0  1127.2727272727273   \n",
       "1          -34.9038831  ...                   NaN                 NaN   \n",
       "2          -34.6522615  ...                  55.0   1309.090909090909   \n",
       "3  -34.647796899999996  ...                   NaN                 NaN   \n",
       "4          -38.0026256  ...                  35.0   1828.571428571429   \n",
       "\n",
       "        price_per_m2 floor rooms expenses  \\\n",
       "0             1550.0   NaN   NaN      NaN   \n",
       "1                NaN   NaN   NaN      NaN   \n",
       "2  1309.090909090909   NaN   NaN      NaN   \n",
       "3                NaN   NaN   NaN      NaN   \n",
       "4  1828.571428571429   NaN   NaN      NaN   \n",
       "\n",
       "                                       properati_url  \\\n",
       "0  http://www.properati.com.ar/15bo8_venta_ph_mat...   \n",
       "1  http://www.properati.com.ar/15bob_venta_depart...   \n",
       "2  http://www.properati.com.ar/15bod_venta_depart...   \n",
       "3  http://www.properati.com.ar/15boh_venta_ph_lin...   \n",
       "4  http://www.properati.com.ar/15bok_venta_depart...   \n",
       "\n",
       "                                         description  \\\n",
       "0  2 AMBIENTES TIPO CASA PLANTA BAJA POR PASILLO,...   \n",
       "1  Venta de departamento en dÃ©cimo piso al frent...   \n",
       "2  2 AMBIENTES 3ER PISO LATERAL LIVING COMEDOR AM...   \n",
       "3  PH 3 ambientes con patio. Hay 3 deptos en lote...   \n",
       "4  DEPARTAMENTO CON FANTÃSTICA ILUMINACIÃN NATU...   \n",
       "\n",
       "                                               title  \\\n",
       "0                 2 AMB TIPO CASA SIN EXPENSAS EN PB   \n",
       "1  VENTA Depto 2 dorm. a estrenar 7 e/ 36 y 37   ...   \n",
       "2           2 AMB 3ER PISO CON ASCENSOR APTO CREDITO   \n",
       "3                       PH 3 amb. cfte. reciclado      \n",
       "4  DEPTO 2 AMB AL CONTRAFRENTE ZONA CENTRO/PLAZA ...   \n",
       "\n",
       "                                     image_thumbnail  \n",
       "0  https://thumbs4.properati.com/8/BluUYiHJLhgIIK...  \n",
       "1  https://thumbs4.properati.com/7/ikpVBu2ztHA7jv...  \n",
       "2  https://thumbs4.properati.com/5/SXKr34F_IwG3W_...  \n",
       "3  https://thumbs4.properati.com/3/DgIfX-85Mog5SP...  \n",
       "4  https://thumbs4.properati.com/5/xrRqlNcSI_vs-f...  \n",
       "\n",
       "[5 rows x 26 columns]"
      ]
     },
     "execution_count": 1,
     "metadata": {},
     "output_type": "execute_result"
    }
   ],
   "source": [
    "#importamos librerías\n",
    "%matplotlib inline\n",
    "import pandas as pd\n",
    "import numpy as np\n",
    "import seaborn as sns\n",
    "import matplotlib.pyplot as plt\n",
    "import geopandas as gpd\n",
    "import re\n",
    "#cargamos y leemos el archivo csv como DataFrame\n",
    "data_location = 'properatti.csv'\n",
    "\n",
    "data = pd.read_csv('properatti.csv', encoding='latin1', dtype= str, sep=\",\")\n",
    "# Mostramos los 5 primeros registros del df\n",
    "data.head()\n"
   ]
  },
  {
   "cell_type": "code",
   "execution_count": 2,
   "id": "9778b2c8",
   "metadata": {},
   "outputs": [
    {
     "data": {
      "text/plain": [
       "Unnamed: 0                    object\n",
       "operation                     object\n",
       "property_type                 object\n",
       "place_name                    object\n",
       "place_with_parent_names       object\n",
       "country_name                  object\n",
       "state_name                    object\n",
       "geonames_id                   object\n",
       "lat-lon                       object\n",
       "lat                           object\n",
       "lon                           object\n",
       "price                         object\n",
       "currency                      object\n",
       "price_aprox_local_currency    object\n",
       "price_aprox_usd               object\n",
       "surface_total_in_m2           object\n",
       "surface_covered_in_m2         object\n",
       "price_usd_per_m2              object\n",
       "price_per_m2                  object\n",
       "floor                         object\n",
       "rooms                         object\n",
       "expenses                      object\n",
       "properati_url                 object\n",
       "description                   object\n",
       "title                         object\n",
       "image_thumbnail               object\n",
       "dtype: object"
      ]
     },
     "execution_count": 2,
     "metadata": {},
     "output_type": "execute_result"
    }
   ],
   "source": [
    "#analizamos el tipo de datos de cada columna\n",
    "data.dtypes"
   ]
  },
  {
   "cell_type": "code",
   "execution_count": 3,
   "id": "501ef5b2",
   "metadata": {},
   "outputs": [
    {
     "data": {
      "text/plain": [
       "(121220, 26)"
      ]
     },
     "execution_count": 3,
     "metadata": {},
     "output_type": "execute_result"
    }
   ],
   "source": [
    "# Contabilizamos los registros del df\n",
    "data.shape"
   ]
  },
  {
   "cell_type": "code",
   "execution_count": 4,
   "id": "4f2944c7",
   "metadata": {},
   "outputs": [
    {
     "data": {
      "text/html": [
       "<div>\n",
       "<style scoped>\n",
       "    .dataframe tbody tr th:only-of-type {\n",
       "        vertical-align: middle;\n",
       "    }\n",
       "\n",
       "    .dataframe tbody tr th {\n",
       "        vertical-align: top;\n",
       "    }\n",
       "\n",
       "    .dataframe thead th {\n",
       "        text-align: right;\n",
       "    }\n",
       "</style>\n",
       "<table border=\"1\" class=\"dataframe\">\n",
       "  <thead>\n",
       "    <tr style=\"text-align: right;\">\n",
       "      <th></th>\n",
       "      <th>Unnamed: 0</th>\n",
       "      <th>operation</th>\n",
       "      <th>property_type</th>\n",
       "      <th>place_name</th>\n",
       "      <th>place_with_parent_names</th>\n",
       "      <th>country_name</th>\n",
       "      <th>state_name</th>\n",
       "      <th>geonames_id</th>\n",
       "      <th>lat-lon</th>\n",
       "      <th>lat</th>\n",
       "      <th>...</th>\n",
       "      <th>surface_covered_in_m2</th>\n",
       "      <th>price_usd_per_m2</th>\n",
       "      <th>price_per_m2</th>\n",
       "      <th>floor</th>\n",
       "      <th>rooms</th>\n",
       "      <th>expenses</th>\n",
       "      <th>properati_url</th>\n",
       "      <th>description</th>\n",
       "      <th>title</th>\n",
       "      <th>image_thumbnail</th>\n",
       "    </tr>\n",
       "  </thead>\n",
       "  <tbody>\n",
       "    <tr>\n",
       "      <th>count</th>\n",
       "      <td>121220</td>\n",
       "      <td>121220</td>\n",
       "      <td>121220</td>\n",
       "      <td>121197</td>\n",
       "      <td>121220</td>\n",
       "      <td>121220</td>\n",
       "      <td>121220</td>\n",
       "      <td>102503</td>\n",
       "      <td>69670</td>\n",
       "      <td>69670</td>\n",
       "      <td>...</td>\n",
       "      <td>101313</td>\n",
       "      <td>68617</td>\n",
       "      <td>87658</td>\n",
       "      <td>7899</td>\n",
       "      <td>47390</td>\n",
       "      <td>14262</td>\n",
       "      <td>121220</td>\n",
       "      <td>121218</td>\n",
       "      <td>121220</td>\n",
       "      <td>118108</td>\n",
       "    </tr>\n",
       "    <tr>\n",
       "      <th>unique</th>\n",
       "      <td>121220</td>\n",
       "      <td>1</td>\n",
       "      <td>4</td>\n",
       "      <td>1060</td>\n",
       "      <td>1164</td>\n",
       "      <td>1</td>\n",
       "      <td>28</td>\n",
       "      <td>646</td>\n",
       "      <td>47203</td>\n",
       "      <td>46495</td>\n",
       "      <td>...</td>\n",
       "      <td>995</td>\n",
       "      <td>25569</td>\n",
       "      <td>25185</td>\n",
       "      <td>182</td>\n",
       "      <td>31</td>\n",
       "      <td>982</td>\n",
       "      <td>121220</td>\n",
       "      <td>104055</td>\n",
       "      <td>72705</td>\n",
       "      <td>114389</td>\n",
       "    </tr>\n",
       "    <tr>\n",
       "      <th>top</th>\n",
       "      <td>95462</td>\n",
       "      <td>sell</td>\n",
       "      <td>apartment</td>\n",
       "      <td>CÃ³rdoba</td>\n",
       "      <td>|Argentina|Santa Fe|Rosario|</td>\n",
       "      <td>Argentina</td>\n",
       "      <td>Capital Federal</td>\n",
       "      <td>3838574.0</td>\n",
       "      <td>-34.4026444,-58.6684776</td>\n",
       "      <td>-34.40264439999999</td>\n",
       "      <td>...</td>\n",
       "      <td>40.0</td>\n",
       "      <td>2000.0</td>\n",
       "      <td>2000.0</td>\n",
       "      <td>1.0</td>\n",
       "      <td>3.0</td>\n",
       "      <td>1.0</td>\n",
       "      <td>http://www.properati.com.ar/1as9v_venta_casa_r...</td>\n",
       "      <td>AVISO LEGAL: Las descripciones arquitectÃ³nica...</td>\n",
       "      <td>DEPARTAMENTO EN VENTA</td>\n",
       "      <td>https://thumbs4.properati.com/5/yyMiu8BHQI9KXC...</td>\n",
       "    </tr>\n",
       "    <tr>\n",
       "      <th>freq</th>\n",
       "      <td>1</td>\n",
       "      <td>121220</td>\n",
       "      <td>71065</td>\n",
       "      <td>9254</td>\n",
       "      <td>8504</td>\n",
       "      <td>121220</td>\n",
       "      <td>32316</td>\n",
       "      <td>8504</td>\n",
       "      <td>312</td>\n",
       "      <td>312</td>\n",
       "      <td>...</td>\n",
       "      <td>2736</td>\n",
       "      <td>574</td>\n",
       "      <td>892</td>\n",
       "      <td>2080</td>\n",
       "      <td>12567</td>\n",
       "      <td>1028</td>\n",
       "      <td>1</td>\n",
       "      <td>358</td>\n",
       "      <td>4855</td>\n",
       "      <td>255</td>\n",
       "    </tr>\n",
       "  </tbody>\n",
       "</table>\n",
       "<p>4 rows × 26 columns</p>\n",
       "</div>"
      ],
      "text/plain": [
       "       Unnamed: 0 operation property_type place_name  \\\n",
       "count      121220    121220        121220     121197   \n",
       "unique     121220         1             4       1060   \n",
       "top         95462      sell     apartment   CÃ³rdoba   \n",
       "freq            1    121220         71065       9254   \n",
       "\n",
       "             place_with_parent_names country_name       state_name  \\\n",
       "count                         121220       121220           121220   \n",
       "unique                          1164            1               28   \n",
       "top     |Argentina|Santa Fe|Rosario|    Argentina  Capital Federal   \n",
       "freq                            8504       121220            32316   \n",
       "\n",
       "       geonames_id                  lat-lon                 lat  ...  \\\n",
       "count       102503                    69670               69670  ...   \n",
       "unique         646                    47203               46495  ...   \n",
       "top      3838574.0  -34.4026444,-58.6684776  -34.40264439999999  ...   \n",
       "freq          8504                      312                 312  ...   \n",
       "\n",
       "       surface_covered_in_m2 price_usd_per_m2 price_per_m2 floor  rooms  \\\n",
       "count                 101313            68617        87658  7899  47390   \n",
       "unique                   995            25569        25185   182     31   \n",
       "top                     40.0           2000.0       2000.0   1.0    3.0   \n",
       "freq                    2736              574          892  2080  12567   \n",
       "\n",
       "       expenses                                      properati_url  \\\n",
       "count     14262                                             121220   \n",
       "unique      982                                             121220   \n",
       "top         1.0  http://www.properati.com.ar/1as9v_venta_casa_r...   \n",
       "freq       1028                                                  1   \n",
       "\n",
       "                                              description  \\\n",
       "count                                              121218   \n",
       "unique                                             104055   \n",
       "top     AVISO LEGAL: Las descripciones arquitectÃ³nica...   \n",
       "freq                                                  358   \n",
       "\n",
       "                        title  \\\n",
       "count                  121220   \n",
       "unique                  72705   \n",
       "top     DEPARTAMENTO EN VENTA   \n",
       "freq                     4855   \n",
       "\n",
       "                                          image_thumbnail  \n",
       "count                                              118108  \n",
       "unique                                             114389  \n",
       "top     https://thumbs4.properati.com/5/yyMiu8BHQI9KXC...  \n",
       "freq                                                  255  \n",
       "\n",
       "[4 rows x 26 columns]"
      ]
     },
     "execution_count": 4,
     "metadata": {},
     "output_type": "execute_result"
    }
   ],
   "source": [
    "# Describimos los registros del df\n",
    "data.describe()"
   ]
  },
  {
   "cell_type": "code",
   "execution_count": 5,
   "id": "5ffe94c1",
   "metadata": {},
   "outputs": [
    {
     "data": {
      "text/html": [
       "<div>\n",
       "<style scoped>\n",
       "    .dataframe tbody tr th:only-of-type {\n",
       "        vertical-align: middle;\n",
       "    }\n",
       "\n",
       "    .dataframe tbody tr th {\n",
       "        vertical-align: top;\n",
       "    }\n",
       "\n",
       "    .dataframe thead th {\n",
       "        text-align: right;\n",
       "    }\n",
       "</style>\n",
       "<table border=\"1\" class=\"dataframe\">\n",
       "  <thead>\n",
       "    <tr style=\"text-align: right;\">\n",
       "      <th></th>\n",
       "      <th>Null</th>\n",
       "      <th>% Null</th>\n",
       "      <th>Types</th>\n",
       "    </tr>\n",
       "  </thead>\n",
       "  <tbody>\n",
       "    <tr>\n",
       "      <th>Unnamed: 0</th>\n",
       "      <td>0</td>\n",
       "      <td>0.000</td>\n",
       "      <td>object</td>\n",
       "    </tr>\n",
       "    <tr>\n",
       "      <th>operation</th>\n",
       "      <td>0</td>\n",
       "      <td>0.000</td>\n",
       "      <td>object</td>\n",
       "    </tr>\n",
       "    <tr>\n",
       "      <th>property_type</th>\n",
       "      <td>0</td>\n",
       "      <td>0.000</td>\n",
       "      <td>object</td>\n",
       "    </tr>\n",
       "    <tr>\n",
       "      <th>place_name</th>\n",
       "      <td>23</td>\n",
       "      <td>0.019</td>\n",
       "      <td>object</td>\n",
       "    </tr>\n",
       "    <tr>\n",
       "      <th>place_with_parent_names</th>\n",
       "      <td>0</td>\n",
       "      <td>0.000</td>\n",
       "      <td>object</td>\n",
       "    </tr>\n",
       "    <tr>\n",
       "      <th>country_name</th>\n",
       "      <td>0</td>\n",
       "      <td>0.000</td>\n",
       "      <td>object</td>\n",
       "    </tr>\n",
       "    <tr>\n",
       "      <th>state_name</th>\n",
       "      <td>0</td>\n",
       "      <td>0.000</td>\n",
       "      <td>object</td>\n",
       "    </tr>\n",
       "    <tr>\n",
       "      <th>geonames_id</th>\n",
       "      <td>18717</td>\n",
       "      <td>15.441</td>\n",
       "      <td>object</td>\n",
       "    </tr>\n",
       "    <tr>\n",
       "      <th>lat-lon</th>\n",
       "      <td>51550</td>\n",
       "      <td>42.526</td>\n",
       "      <td>object</td>\n",
       "    </tr>\n",
       "    <tr>\n",
       "      <th>lat</th>\n",
       "      <td>51550</td>\n",
       "      <td>42.526</td>\n",
       "      <td>object</td>\n",
       "    </tr>\n",
       "    <tr>\n",
       "      <th>lon</th>\n",
       "      <td>51550</td>\n",
       "      <td>42.526</td>\n",
       "      <td>object</td>\n",
       "    </tr>\n",
       "    <tr>\n",
       "      <th>price</th>\n",
       "      <td>20410</td>\n",
       "      <td>16.837</td>\n",
       "      <td>object</td>\n",
       "    </tr>\n",
       "    <tr>\n",
       "      <th>currency</th>\n",
       "      <td>20411</td>\n",
       "      <td>16.838</td>\n",
       "      <td>object</td>\n",
       "    </tr>\n",
       "    <tr>\n",
       "      <th>price_aprox_local_currency</th>\n",
       "      <td>20410</td>\n",
       "      <td>16.837</td>\n",
       "      <td>object</td>\n",
       "    </tr>\n",
       "    <tr>\n",
       "      <th>price_aprox_usd</th>\n",
       "      <td>20410</td>\n",
       "      <td>16.837</td>\n",
       "      <td>object</td>\n",
       "    </tr>\n",
       "    <tr>\n",
       "      <th>surface_total_in_m2</th>\n",
       "      <td>39328</td>\n",
       "      <td>32.443</td>\n",
       "      <td>object</td>\n",
       "    </tr>\n",
       "    <tr>\n",
       "      <th>surface_covered_in_m2</th>\n",
       "      <td>19907</td>\n",
       "      <td>16.422</td>\n",
       "      <td>object</td>\n",
       "    </tr>\n",
       "    <tr>\n",
       "      <th>price_usd_per_m2</th>\n",
       "      <td>52603</td>\n",
       "      <td>43.395</td>\n",
       "      <td>object</td>\n",
       "    </tr>\n",
       "    <tr>\n",
       "      <th>price_per_m2</th>\n",
       "      <td>33562</td>\n",
       "      <td>27.687</td>\n",
       "      <td>object</td>\n",
       "    </tr>\n",
       "    <tr>\n",
       "      <th>floor</th>\n",
       "      <td>113321</td>\n",
       "      <td>93.484</td>\n",
       "      <td>object</td>\n",
       "    </tr>\n",
       "    <tr>\n",
       "      <th>rooms</th>\n",
       "      <td>73830</td>\n",
       "      <td>60.906</td>\n",
       "      <td>object</td>\n",
       "    </tr>\n",
       "    <tr>\n",
       "      <th>expenses</th>\n",
       "      <td>106958</td>\n",
       "      <td>88.235</td>\n",
       "      <td>object</td>\n",
       "    </tr>\n",
       "    <tr>\n",
       "      <th>properati_url</th>\n",
       "      <td>0</td>\n",
       "      <td>0.000</td>\n",
       "      <td>object</td>\n",
       "    </tr>\n",
       "    <tr>\n",
       "      <th>description</th>\n",
       "      <td>2</td>\n",
       "      <td>0.002</td>\n",
       "      <td>object</td>\n",
       "    </tr>\n",
       "    <tr>\n",
       "      <th>title</th>\n",
       "      <td>0</td>\n",
       "      <td>0.000</td>\n",
       "      <td>object</td>\n",
       "    </tr>\n",
       "    <tr>\n",
       "      <th>image_thumbnail</th>\n",
       "      <td>3112</td>\n",
       "      <td>2.567</td>\n",
       "      <td>object</td>\n",
       "    </tr>\n",
       "  </tbody>\n",
       "</table>\n",
       "</div>"
      ],
      "text/plain": [
       "                              Null  % Null   Types\n",
       "Unnamed: 0                       0   0.000  object\n",
       "operation                        0   0.000  object\n",
       "property_type                    0   0.000  object\n",
       "place_name                      23   0.019  object\n",
       "place_with_parent_names          0   0.000  object\n",
       "country_name                     0   0.000  object\n",
       "state_name                       0   0.000  object\n",
       "geonames_id                  18717  15.441  object\n",
       "lat-lon                      51550  42.526  object\n",
       "lat                          51550  42.526  object\n",
       "lon                          51550  42.526  object\n",
       "price                        20410  16.837  object\n",
       "currency                     20411  16.838  object\n",
       "price_aprox_local_currency   20410  16.837  object\n",
       "price_aprox_usd              20410  16.837  object\n",
       "surface_total_in_m2          39328  32.443  object\n",
       "surface_covered_in_m2        19907  16.422  object\n",
       "price_usd_per_m2             52603  43.395  object\n",
       "price_per_m2                 33562  27.687  object\n",
       "floor                       113321  93.484  object\n",
       "rooms                        73830  60.906  object\n",
       "expenses                    106958  88.235  object\n",
       "properati_url                    0   0.000  object\n",
       "description                      2   0.002  object\n",
       "title                            0   0.000  object\n",
       "image_thumbnail               3112   2.567  object"
      ]
     },
     "execution_count": 5,
     "metadata": {},
     "output_type": "execute_result"
    }
   ],
   "source": [
    "# Evaluamos el porcentaje de datos nulos por columna\n",
    "def describe_data(cols: list, data: pd.DataFrame) -> pd.DataFrame:\n",
    "    \n",
    "    diccionario = {\n",
    "        'Null': data.shape[0] - data.count(), \n",
    "        '% Null': round((data.shape[0] - data.count()) / data.shape[0] * 100, 3),\n",
    "        'Types': data.dtypes\n",
    "    }    \n",
    "    return pd.DataFrame(index=cols, data=diccionario)\n",
    "\n",
    "dataset=describe_data(cols=data.columns,data=data)\n",
    "dataset"
   ]
  },
  {
   "cell_type": "code",
   "execution_count": 6,
   "id": "1b05bee3",
   "metadata": {},
   "outputs": [],
   "source": [
    "#modificamos los tipos de datos según la variable \n",
    "\n",
    "data['operation'] = data['operation'].astype(str)\n",
    "data['price_aprox_local_currency'] = data['price_aprox_local_currency'].astype(float)\n",
    "data['property_type'] = data['property_type'].astype(str)\n",
    "data['place_name'] = data['place_name'].astype(str)\n",
    "data['place_with_parent_names'] = data['place_with_parent_names'].astype(str)\n",
    "data['state_name'] = data['state_name'].astype(str)\n",
    "data['geonames_id'] = data['geonames_id'].astype(float)\n",
    "data['lat'] = data['lat'].astype(float)\n",
    "data['lon']= data['lon'].astype(float)\n",
    "data['price'] = data['price'].astype(float)\n",
    "data['currency'] = data['currency'].astype(str) \n",
    "data['price_aprox_local_currency'] = data['price_aprox_local_currency'].astype(float) \n",
    "data['price_aprox_usd'] = data['price_aprox_usd'].astype(float)\n",
    "data['surface_total_in_m2'] = data['surface_total_in_m2'].astype(float)\n",
    "data['surface_covered_in_m2'] = data['surface_covered_in_m2'].astype(float)\n",
    "data['price_usd_per_m2'] = data['price_usd_per_m2'].astype(float)\n",
    "data['price_per_m2'] = data['price_per_m2'].astype(float)\n",
    "data['properati_url'] = data['properati_url'].astype(str)\n",
    "data['description'] = data['description'].astype(str)\n",
    "data['title'] = data['title'].astype(str)\n",
    "data['rooms'] = data['rooms'].astype(float)\n"
   ]
  },
  {
   "cell_type": "code",
   "execution_count": 7,
   "id": "708ee1f5",
   "metadata": {},
   "outputs": [
    {
     "data": {
      "text/plain": [
       "Unnamed: 0                     object\n",
       "operation                      object\n",
       "property_type                  object\n",
       "place_name                     object\n",
       "place_with_parent_names        object\n",
       "country_name                   object\n",
       "state_name                     object\n",
       "geonames_id                   float64\n",
       "lat-lon                        object\n",
       "lat                           float64\n",
       "lon                           float64\n",
       "price                         float64\n",
       "currency                       object\n",
       "price_aprox_local_currency    float64\n",
       "price_aprox_usd               float64\n",
       "surface_total_in_m2           float64\n",
       "surface_covered_in_m2         float64\n",
       "price_usd_per_m2              float64\n",
       "price_per_m2                  float64\n",
       "floor                          object\n",
       "rooms                         float64\n",
       "expenses                       object\n",
       "properati_url                  object\n",
       "description                    object\n",
       "title                          object\n",
       "image_thumbnail                object\n",
       "dtype: object"
      ]
     },
     "execution_count": 7,
     "metadata": {},
     "output_type": "execute_result"
    }
   ],
   "source": [
    "#chequeamos el cambio de tipo de datos\n",
    "data.dtypes"
   ]
  },
  {
   "cell_type": "code",
   "execution_count": 8,
   "id": "b7f0f0b6",
   "metadata": {},
   "outputs": [
    {
     "data": {
      "text/plain": [
       "True"
      ]
     },
     "execution_count": 8,
     "metadata": {},
     "output_type": "execute_result"
    }
   ],
   "source": [
    "# La columna \"unnamed :0\" no brinda mayor información dado que es una columa de números secuenciales\n",
    "data['Unnamed: 0'].unique()\n",
    "len(data['Unnamed: 0']) == data.shape[0]"
   ]
  },
  {
   "cell_type": "code",
   "execution_count": 9,
   "id": "032468e6",
   "metadata": {},
   "outputs": [
    {
     "data": {
      "text/plain": [
       "array(['sell'], dtype=object)"
      ]
     },
     "execution_count": 9,
     "metadata": {},
     "output_type": "execute_result"
    }
   ],
   "source": [
    "#El ejercicio se efectuará sobre los precios de las propiedades en venta (no incluye precios de alquileres)\n",
    "data.operation.unique()"
   ]
  },
  {
   "cell_type": "code",
   "execution_count": 10,
   "id": "b1d47767",
   "metadata": {},
   "outputs": [],
   "source": [
    "#Se descartaron aquellas variables que no consideramos relevantes ofueron redundantes para el objetivo (“country name”, “image_thumbnall”) y de aquellas que contenían más del 50% de datos nulos (“expenses”, ”floor”) con excepción de la columna ‘rooms’ que es crítica al momento de pricear una propiedad y para la cual se aplicó una estrategia para lidiar con la falta de datos \n",
    "data.drop(['expenses', 'image_thumbnail', 'Unnamed: 0','country_name', 'floor', 'operation'], axis=1, inplace=True)"
   ]
  },
  {
   "cell_type": "code",
   "execution_count": 11,
   "id": "56904519",
   "metadata": {},
   "outputs": [
    {
     "data": {
      "text/plain": [
       "<seaborn.axisgrid.FacetGrid at 0x1c080030eb0>"
      ]
     },
     "execution_count": 11,
     "metadata": {},
     "output_type": "execute_result"
    },
    {
     "data": {
      "text/plain": [
       "<Figure size 720x432 with 0 Axes>"
      ]
     },
     "metadata": {},
     "output_type": "display_data"
    },
    {
     "data": {
      "image/png": "[encoded data removed]",
      "text/plain": [
       "<Figure size 511.25x360 with 1 Axes>"
      ]
     },
     "metadata": {
      "needs_background": "light"
     },
     "output_type": "display_data"
    }
   ],
   "source": [
    "#Graficamos la proporcion de datos nulos en las columnas\n",
    "plt.figure(figsize=(10,6))\n",
    "sns.displot(data=data.isna().melt(value_name=\"missing\"), y=\"variable\", hue=\"missing\", multiple=\"fill\", aspect=1.25, palette='Paired')"
   ]
  },
  {
   "cell_type": "code",
   "execution_count": 12,
   "id": "c2a357fa",
   "metadata": {},
   "outputs": [
    {
     "data": {
      "text/plain": [
       "False"
      ]
     },
     "execution_count": 12,
     "metadata": {},
     "output_type": "execute_result"
    }
   ],
   "source": [
    "# Chequeamos que no existen registros duplicados tomando como base la columna properati_url\n",
    "data_duplicada = data.properati_url.duplicated(keep = False)\n",
    "any(data_duplicada)"
   ]
  },
  {
   "cell_type": "code",
   "execution_count": 13,
   "id": "ac878065",
   "metadata": {},
   "outputs": [
    {
     "data": {
      "text/plain": [
       "<AxesSubplot:xlabel='property_type', ylabel='Count'>"
      ]
     },
     "execution_count": 13,
     "metadata": {},
     "output_type": "execute_result"
    },
    {
     "data": {
      "image/png": "[encoded data removed]",
      "text/plain": [
       "<Figure size 432x288 with 1 Axes>"
      ]
     },
     "metadata": {
      "needs_background": "light"
     },
     "output_type": "display_data"
    }
   ],
   "source": [
    "# Observamos mayor presencia relativa de departamentos y casas en venta en relación con PH´s y tiendas\n",
    "sns.histplot(data.property_type, bins=20, alpha=1, edgecolor = 'black',  linewidth=1)"
   ]
  },
  {
   "cell_type": "markdown",
   "id": "17af8d11",
   "metadata": {},
   "source": [
    "COMPLETAMOS DATOS FALTANTES "
   ]
  },
  {
   "cell_type": "code",
   "execution_count": 14,
   "id": "63862925",
   "metadata": {
    "tags": []
   },
   "outputs": [],
   "source": [
    "# Imputación de la variable 'Rooms' definiendo un patrón de búsqueda para encontrar la cantidad de ambientes \n",
    "pat_rooms_a = '(?i)((?P<u>((mono)|(1)))|(?P<d>dos)|(?P<t>tres)|(?P<c>cuatro)|(?P<ci>cinco)|(?P<s>seis)|(?P<si>siete)|(?P<o>ocho)|(?P<n>nueve))\\s?((amb)|(dor))'\n",
    "reg_rooms_a = re.compile(pat_rooms_a)\n"
   ]
  },
  {
   "cell_type": "code",
   "execution_count": 15,
   "id": "9c5aeeee",
   "metadata": {},
   "outputs": [],
   "source": [
    "def rooms_a(x):\n",
    "    \n",
    "    match = reg_rooms_a.search(x)\n",
    "    \n",
    "    if match is not None:\n",
    "        group = match.group('u','d','t','c','ci','s','si','o','n')        \n",
    "        for i in range(len(group)):            \n",
    "            if group[i] is None:\n",
    "                continue\n",
    "            else:\n",
    "                return float(i+1)\n",
    "        return None"
   ]
  },
  {
   "cell_type": "code",
   "execution_count": 16,
   "id": "baba11f1",
   "metadata": {},
   "outputs": [],
   "source": [
    "def parse_rooms(row, parse_from_column, parsed_column, recursive = False):\n",
    "    \n",
    "    if not np.isnan(row[parsed_column]):\n",
    "        return row[parsed_column]\n",
    "    \n",
    "    lower_text = row[parse_from_column].lower()\n",
    "    \n",
    "    # regex\n",
    "    regex_0 = re.search(r'((monoamb|monoambiente))', lower_text) # 'monoamb'\n",
    "    regex_1 = re.search(r'(\\d+)(\\s)(\\b(amb))', lower_text) # '2 amb'\n",
    "    regex_2 = re.search(r'((\\b(amb))(\\D)(\\d+))', lower_text) # ' amb:2'\n",
    "    regex_3 = re.search(r'(\\d+)((amb)\\b)', lower_text) # ' 3amb'\n",
    "    regex_4 = re.search(r'(\\b(dos))(\\s)(\\b(amb))', lower_text) # 'dos ambientes'\n",
    "    regex_5 = re.search(r'(\\b(tres))(\\s)(\\b(amb))', lower_text) # 'tres ambientes'\n",
    "    regex_6 = re.search(r'(\\b(cuatro))(\\s)(\\b(amb))', lower_text) # 'cuatro ambientes'\n",
    "    regex_7 = re.search(r'(\\b(cinco))(\\s)(\\b(amb))', lower_text) # 'cinco ambientes'\n",
    "    regex_8 = re.search(r'(\\b(seis))(\\s)(\\b(amb))', lower_text) # 'seis ambientes'\n",
    "    regex_9 = re.search(r'(\\b(siete))(\\s)(\\b(amb))', lower_text) # 'siete ambientes'\n",
    "    \n",
    "    parse_digits = lambda x: re.search(r'(\\d+)', x)\n",
    "    \n",
    "    if regex_0:\n",
    "        return 1\n",
    "    \n",
    "    if regex_1:\n",
    "        result = parse_digits(regex_1.group(1))\n",
    "        if result:\n",
    "            return int(result.group(1))\n",
    "        \n",
    "    if regex_2:\n",
    "        result = parse_digits(regex_2.group(1))\n",
    "        if result:\n",
    "            return int(result.group(1))\n",
    "        \n",
    "    if regex_3:\n",
    "        result = parse_digits(regex_3.group(1))\n",
    "        if result:\n",
    "            return int(result.group(1))\n",
    "    \n",
    "    if regex_4:\n",
    "        return 2\n",
    "    \n",
    "    if regex_5:\n",
    "        return 3\n",
    "    \n",
    "    if regex_6:\n",
    "        return 4\n",
    "    \n",
    "    if regex_7:\n",
    "        return 5\n",
    "    \n",
    "    if regex_8:\n",
    "        return 6\n",
    "    \n",
    "    if regex_9:\n",
    "        return 7\n",
    "    \n",
    "    result = rooms_a(lower_text)\n",
    "    if result:\n",
    "        return result\n",
    "    \n",
    "    # recursive call - parsing title.\n",
    "    if not recursive:\n",
    "        return parse_rooms(row, 'title', 'rooms', True)\n",
    "        \n",
    "    return result if result is not None else np.nan"
   ]
  },
  {
   "cell_type": "code",
   "execution_count": 17,
   "id": "ed08367c",
   "metadata": {},
   "outputs": [],
   "source": [
    "data['rooms'] = data.apply(parse_rooms, args=['description', 'rooms'], axis=1)"
   ]
  },
  {
   "cell_type": "code",
   "execution_count": 18,
   "id": "44594aec",
   "metadata": {},
   "outputs": [
    {
     "data": {
      "text/plain": [
       "Null        32912\n",
       "% Null     27.151\n",
       "Types     float64\n",
       "Name: rooms, dtype: object"
      ]
     },
     "execution_count": 18,
     "metadata": {},
     "output_type": "execute_result"
    }
   ],
   "source": [
    "describe_data(data.columns, data).loc['rooms']"
   ]
  },
  {
   "cell_type": "markdown",
   "id": "25dd4b8b",
   "metadata": {},
   "source": [
    "ANÁLISIS DE OUTLIERS"
   ]
  },
  {
   "cell_type": "code",
   "execution_count": 19,
   "id": "807b731b",
   "metadata": {},
   "outputs": [
    {
     "data": {
      "text/plain": [
       "<AxesSubplot:xlabel='rooms', ylabel='Count'>"
      ]
     },
     "execution_count": 19,
     "metadata": {},
     "output_type": "execute_result"
    },
    {
     "data": {
      "image/png": "[encoded data removed]",
      "text/plain": [
       "<Figure size 432x288 with 1 Axes>"
      ]
     },
     "metadata": {
      "needs_background": "light"
     },
     "output_type": "display_data"
    }
   ],
   "source": [
    "#Observamos la distribución de los datos sobre ambientes y notamos que la limpieza previa permitió eliminar outliers\n",
    "sns.histplot(data.rooms.astype(float), bins=20\n",
    "             , alpha=1, edgecolor = 'black',  linewidth=1)"
   ]
  },
  {
   "cell_type": "markdown",
   "id": "ef0a7672",
   "metadata": {},
   "source": [
    "Completamos datos de la columna precio por metro cuadrado con datos existentes"
   ]
  },
  {
   "cell_type": "code",
   "execution_count": 20,
   "id": "4608f421",
   "metadata": {},
   "outputs": [
    {
     "data": {
      "text/plain": [
       "Index(['property_type', 'place_name', 'place_with_parent_names', 'state_name',\n",
       "       'geonames_id', 'lat-lon', 'lat', 'lon', 'price', 'currency',\n",
       "       'price_aprox_local_currency', 'price_aprox_usd', 'surface_total_in_m2',\n",
       "       'surface_covered_in_m2', 'price_usd_per_m2', 'price_per_m2', 'rooms',\n",
       "       'properati_url', 'description', 'title'],\n",
       "      dtype='object')"
      ]
     },
     "execution_count": 20,
     "metadata": {},
     "output_type": "execute_result"
    }
   ],
   "source": [
    "data.columns"
   ]
  },
  {
   "cell_type": "code",
   "execution_count": 21,
   "id": "54279faf",
   "metadata": {},
   "outputs": [
    {
     "name": "stdout",
     "output_type": "stream",
     "text": [
      "La cantidad de registros vacios en la columna price_aprox_usd es: 20410\n"
     ]
    }
   ],
   "source": [
    "price_aprox_usd_null_mask = data.price_aprox_usd.isnull()\n",
    "price_aprox_usd_null = data.price_aprox_usd[price_aprox_usd_null_mask ]\n",
    "print(\"La cantidad de registros vacios en la columna price_aprox_usd es: \" + str(len(price_aprox_usd_null)))"
   ]
  },
  {
   "cell_type": "code",
   "execution_count": 22,
   "id": "830f2aa9",
   "metadata": {},
   "outputs": [
    {
     "name": "stdout",
     "output_type": "stream",
     "text": [
      "La cantidad de registros vacios en la columna surface_total_in_m2 es: 39328\n"
     ]
    }
   ],
   "source": [
    "surface_total_in_m2_null_mask = data.surface_total_in_m2.isnull()\n",
    "surface_total_in_m2_null = data.surface_total_in_m2[surface_total_in_m2_null_mask]\n",
    "print(\"La cantidad de registros vacios en la columna surface_total_in_m2 es: \" + str(len(surface_total_in_m2_null)))"
   ]
  },
  {
   "cell_type": "code",
   "execution_count": 23,
   "id": "250502b2",
   "metadata": {},
   "outputs": [
    {
     "name": "stdout",
     "output_type": "stream",
     "text": [
      "La cantidad de registros vacios en la columna price_usd_per_m2 es: 52603\n"
     ]
    }
   ],
   "source": [
    "price_usd_per_m2_null_mask = data.price_usd_per_m2.isnull()\n",
    "price_usd_per_m2_null = data.price_usd_per_m2 [price_usd_per_m2_null_mask]\n",
    "print(\"La cantidad de registros vacios en la columna price_usd_per_m2 es: \" + str(len(price_usd_per_m2_null)))"
   ]
  },
  {
   "cell_type": "code",
   "execution_count": 24,
   "id": "811937b9",
   "metadata": {},
   "outputs": [],
   "source": [
    "#Busco valores de superficie sin nulls\n",
    "surface_total_in_m2_notnull_mask = data.surface_total_in_m2.notnull()\n",
    "surface_total_in_m2_notnull = data.surface_total_in_m2[surface_total_in_m2_notnull_mask] #Eliminmar el tonumeric cuando compilemos\n",
    "#surface_total_in_m2_notnull\n"
   ]
  },
  {
   "cell_type": "code",
   "execution_count": 25,
   "id": "4a8fdc10",
   "metadata": {},
   "outputs": [],
   "source": [
    "#Uso los indices de los campos que no tienen nulls para encontrar los campos en precio\n",
    "price_aprox_usd_aux = data.iloc[surface_total_in_m2_notnull.index, [11]]\n",
    "price_aprox_usd_col = price_aprox_usd_aux.price_aprox_usd\n",
    "#price_aprox_usd_col"
   ]
  },
  {
   "cell_type": "code",
   "execution_count": 26,
   "id": "ddc6c290",
   "metadata": {},
   "outputs": [],
   "source": [
    "#Calculo precio por metro cuadrado para las filas donde el valor de la columna orginal es null\n",
    "price_usd_per_m2_aux = price_aprox_usd_col.div(surface_total_in_m2_notnull)\n",
    "price_usd_per_m2_aux = price_usd_per_m2_aux.dropna() #Elimino NaN\n",
    "price_usd_per_m2_aux[price_usd_per_m2_aux>0] #Dejo valores mayores a 0\n",
    "price_usd_per_m2_aux= pd.DataFrame(price_usd_per_m2_aux, columns=['price_usd_per_m2_aux'])\n",
    "#price_usd_per_m2_aux"
   ]
  },
  {
   "cell_type": "code",
   "execution_count": 27,
   "id": "bcdfcd1a",
   "metadata": {},
   "outputs": [],
   "source": [
    "#Reemplazo los nulls de price_usd_per_m2 con los valores de la columna auxiliar\n",
    "data[\"price_usd_per_m2\"].fillna(price_usd_per_m2_aux[\"price_usd_per_m2_aux\"], inplace = True)"
   ]
  },
  {
   "cell_type": "code",
   "execution_count": 28,
   "id": "bad47971",
   "metadata": {},
   "outputs": [
    {
     "name": "stdout",
     "output_type": "stream",
     "text": [
      "La cantidad de registros vacios en la columna price_usd_per_m2 es: 52354\n"
     ]
    }
   ],
   "source": [
    "price_usd_per_m2_null_mask = data.price_usd_per_m2.isnull()\n",
    "price_usd_per_m2_null = data.price_usd_per_m2 [price_usd_per_m2_null_mask]\n",
    "print(\"La cantidad de registros vacios en la columna price_usd_per_m2 es: \" + str(len(price_usd_per_m2_null)))"
   ]
  },
  {
   "cell_type": "code",
   "execution_count": 29,
   "id": "4ff809cf",
   "metadata": {},
   "outputs": [
    {
     "data": {
      "text/html": [
       "<div>\n",
       "<style scoped>\n",
       "    .dataframe tbody tr th:only-of-type {\n",
       "        vertical-align: middle;\n",
       "    }\n",
       "\n",
       "    .dataframe tbody tr th {\n",
       "        vertical-align: top;\n",
       "    }\n",
       "\n",
       "    .dataframe thead th {\n",
       "        text-align: right;\n",
       "    }\n",
       "</style>\n",
       "<table border=\"1\" class=\"dataframe\">\n",
       "  <thead>\n",
       "    <tr style=\"text-align: right;\">\n",
       "      <th></th>\n",
       "      <th>Null</th>\n",
       "      <th>% Null</th>\n",
       "      <th>Types</th>\n",
       "    </tr>\n",
       "  </thead>\n",
       "  <tbody>\n",
       "    <tr>\n",
       "      <th>property_type</th>\n",
       "      <td>0</td>\n",
       "      <td>0.000</td>\n",
       "      <td>object</td>\n",
       "    </tr>\n",
       "    <tr>\n",
       "      <th>place_name</th>\n",
       "      <td>0</td>\n",
       "      <td>0.000</td>\n",
       "      <td>object</td>\n",
       "    </tr>\n",
       "    <tr>\n",
       "      <th>place_with_parent_names</th>\n",
       "      <td>0</td>\n",
       "      <td>0.000</td>\n",
       "      <td>object</td>\n",
       "    </tr>\n",
       "    <tr>\n",
       "      <th>state_name</th>\n",
       "      <td>0</td>\n",
       "      <td>0.000</td>\n",
       "      <td>object</td>\n",
       "    </tr>\n",
       "    <tr>\n",
       "      <th>geonames_id</th>\n",
       "      <td>18717</td>\n",
       "      <td>15.441</td>\n",
       "      <td>float64</td>\n",
       "    </tr>\n",
       "    <tr>\n",
       "      <th>lat-lon</th>\n",
       "      <td>51550</td>\n",
       "      <td>42.526</td>\n",
       "      <td>object</td>\n",
       "    </tr>\n",
       "    <tr>\n",
       "      <th>lat</th>\n",
       "      <td>51550</td>\n",
       "      <td>42.526</td>\n",
       "      <td>float64</td>\n",
       "    </tr>\n",
       "    <tr>\n",
       "      <th>lon</th>\n",
       "      <td>51550</td>\n",
       "      <td>42.526</td>\n",
       "      <td>float64</td>\n",
       "    </tr>\n",
       "    <tr>\n",
       "      <th>price</th>\n",
       "      <td>20410</td>\n",
       "      <td>16.837</td>\n",
       "      <td>float64</td>\n",
       "    </tr>\n",
       "    <tr>\n",
       "      <th>currency</th>\n",
       "      <td>0</td>\n",
       "      <td>0.000</td>\n",
       "      <td>object</td>\n",
       "    </tr>\n",
       "    <tr>\n",
       "      <th>price_aprox_local_currency</th>\n",
       "      <td>20410</td>\n",
       "      <td>16.837</td>\n",
       "      <td>float64</td>\n",
       "    </tr>\n",
       "    <tr>\n",
       "      <th>price_aprox_usd</th>\n",
       "      <td>20410</td>\n",
       "      <td>16.837</td>\n",
       "      <td>float64</td>\n",
       "    </tr>\n",
       "    <tr>\n",
       "      <th>surface_total_in_m2</th>\n",
       "      <td>39328</td>\n",
       "      <td>32.443</td>\n",
       "      <td>float64</td>\n",
       "    </tr>\n",
       "    <tr>\n",
       "      <th>surface_covered_in_m2</th>\n",
       "      <td>19907</td>\n",
       "      <td>16.422</td>\n",
       "      <td>float64</td>\n",
       "    </tr>\n",
       "    <tr>\n",
       "      <th>price_usd_per_m2</th>\n",
       "      <td>52354</td>\n",
       "      <td>43.189</td>\n",
       "      <td>float64</td>\n",
       "    </tr>\n",
       "    <tr>\n",
       "      <th>price_per_m2</th>\n",
       "      <td>33562</td>\n",
       "      <td>27.687</td>\n",
       "      <td>float64</td>\n",
       "    </tr>\n",
       "    <tr>\n",
       "      <th>rooms</th>\n",
       "      <td>32912</td>\n",
       "      <td>27.151</td>\n",
       "      <td>float64</td>\n",
       "    </tr>\n",
       "    <tr>\n",
       "      <th>properati_url</th>\n",
       "      <td>0</td>\n",
       "      <td>0.000</td>\n",
       "      <td>object</td>\n",
       "    </tr>\n",
       "    <tr>\n",
       "      <th>description</th>\n",
       "      <td>0</td>\n",
       "      <td>0.000</td>\n",
       "      <td>object</td>\n",
       "    </tr>\n",
       "    <tr>\n",
       "      <th>title</th>\n",
       "      <td>0</td>\n",
       "      <td>0.000</td>\n",
       "      <td>object</td>\n",
       "    </tr>\n",
       "  </tbody>\n",
       "</table>\n",
       "</div>"
      ],
      "text/plain": [
       "                             Null  % Null    Types\n",
       "property_type                   0   0.000   object\n",
       "place_name                      0   0.000   object\n",
       "place_with_parent_names         0   0.000   object\n",
       "state_name                      0   0.000   object\n",
       "geonames_id                 18717  15.441  float64\n",
       "lat-lon                     51550  42.526   object\n",
       "lat                         51550  42.526  float64\n",
       "lon                         51550  42.526  float64\n",
       "price                       20410  16.837  float64\n",
       "currency                        0   0.000   object\n",
       "price_aprox_local_currency  20410  16.837  float64\n",
       "price_aprox_usd             20410  16.837  float64\n",
       "surface_total_in_m2         39328  32.443  float64\n",
       "surface_covered_in_m2       19907  16.422  float64\n",
       "price_usd_per_m2            52354  43.189  float64\n",
       "price_per_m2                33562  27.687  float64\n",
       "rooms                       32912  27.151  float64\n",
       "properati_url                   0   0.000   object\n",
       "description                     0   0.000   object\n",
       "title                           0   0.000   object"
      ]
     },
     "execution_count": 29,
     "metadata": {},
     "output_type": "execute_result"
    }
   ],
   "source": [
    "dataset=describe_data(cols=data.columns,data=data)\n",
    "dataset"
   ]
  },
  {
   "cell_type": "markdown",
   "id": "ab2d28d8",
   "metadata": {},
   "source": [
    "Completamos datos de las columnas lat y lon con datos del dataset AR.txt (https://download.geonames.org/export/dump/) "
   ]
  },
  {
   "cell_type": "code",
   "execution_count": 30,
   "id": "b8512c3e",
   "metadata": {},
   "outputs": [
    {
     "data": {
      "text/html": [
       "<div>\n",
       "<style scoped>\n",
       "    .dataframe tbody tr th:only-of-type {\n",
       "        vertical-align: middle;\n",
       "    }\n",
       "\n",
       "    .dataframe tbody tr th {\n",
       "        vertical-align: top;\n",
       "    }\n",
       "\n",
       "    .dataframe thead th {\n",
       "        text-align: right;\n",
       "    }\n",
       "</style>\n",
       "<table border=\"1\" class=\"dataframe\">\n",
       "  <thead>\n",
       "    <tr style=\"text-align: right;\">\n",
       "      <th></th>\n",
       "      <th>lat-lon</th>\n",
       "      <th>lat</th>\n",
       "      <th>lon</th>\n",
       "    </tr>\n",
       "  </thead>\n",
       "  <tbody>\n",
       "    <tr>\n",
       "      <th>0</th>\n",
       "      <td>-34.6618237,-58.5088387</td>\n",
       "      <td>-34.661824</td>\n",
       "      <td>-58.508839</td>\n",
       "    </tr>\n",
       "    <tr>\n",
       "      <th>1</th>\n",
       "      <td>-34.9038831,-57.9643295</td>\n",
       "      <td>-34.903883</td>\n",
       "      <td>-57.964330</td>\n",
       "    </tr>\n",
       "    <tr>\n",
       "      <th>2</th>\n",
       "      <td>-34.6522615,-58.5229825</td>\n",
       "      <td>-34.652262</td>\n",
       "      <td>-58.522982</td>\n",
       "    </tr>\n",
       "    <tr>\n",
       "      <th>3</th>\n",
       "      <td>-34.6477969,-58.5164244</td>\n",
       "      <td>-34.647797</td>\n",
       "      <td>-58.516424</td>\n",
       "    </tr>\n",
       "    <tr>\n",
       "      <th>4</th>\n",
       "      <td>-38.0026256,-57.5494468</td>\n",
       "      <td>-38.002626</td>\n",
       "      <td>-57.549447</td>\n",
       "    </tr>\n",
       "    <tr>\n",
       "      <th>...</th>\n",
       "      <td>...</td>\n",
       "      <td>...</td>\n",
       "      <td>...</td>\n",
       "    </tr>\n",
       "    <tr>\n",
       "      <th>121215</th>\n",
       "      <td>NaN</td>\n",
       "      <td>NaN</td>\n",
       "      <td>NaN</td>\n",
       "    </tr>\n",
       "    <tr>\n",
       "      <th>121216</th>\n",
       "      <td>NaN</td>\n",
       "      <td>NaN</td>\n",
       "      <td>NaN</td>\n",
       "    </tr>\n",
       "    <tr>\n",
       "      <th>121217</th>\n",
       "      <td>-34.5706388726,-58.4755963355</td>\n",
       "      <td>-34.570639</td>\n",
       "      <td>-58.475596</td>\n",
       "    </tr>\n",
       "    <tr>\n",
       "      <th>121218</th>\n",
       "      <td>NaN</td>\n",
       "      <td>NaN</td>\n",
       "      <td>NaN</td>\n",
       "    </tr>\n",
       "    <tr>\n",
       "      <th>121219</th>\n",
       "      <td>NaN</td>\n",
       "      <td>NaN</td>\n",
       "      <td>NaN</td>\n",
       "    </tr>\n",
       "  </tbody>\n",
       "</table>\n",
       "<p>121220 rows × 3 columns</p>\n",
       "</div>"
      ],
      "text/plain": [
       "                              lat-lon        lat        lon\n",
       "0             -34.6618237,-58.5088387 -34.661824 -58.508839\n",
       "1             -34.9038831,-57.9643295 -34.903883 -57.964330\n",
       "2             -34.6522615,-58.5229825 -34.652262 -58.522982\n",
       "3             -34.6477969,-58.5164244 -34.647797 -58.516424\n",
       "4             -38.0026256,-57.5494468 -38.002626 -57.549447\n",
       "...                               ...        ...        ...\n",
       "121215                            NaN        NaN        NaN\n",
       "121216                            NaN        NaN        NaN\n",
       "121217  -34.5706388726,-58.4755963355 -34.570639 -58.475596\n",
       "121218                            NaN        NaN        NaN\n",
       "121219                            NaN        NaN        NaN\n",
       "\n",
       "[121220 rows x 3 columns]"
      ]
     },
     "execution_count": 30,
     "metadata": {},
     "output_type": "execute_result"
    }
   ],
   "source": [
    "#limpiamos y completamos datos de columnas lat-lon \n",
    "mask_lat_lon = data[['lat-lon', 'lat', 'lon']]\n",
    "mask_lat_lon"
   ]
  },
  {
   "cell_type": "code",
   "execution_count": 31,
   "id": "3155b2f0",
   "metadata": {},
   "outputs": [
    {
     "name": "stdout",
     "output_type": "stream",
     "text": [
      "lat-lon    51550\n",
      "lat        51550\n",
      "lon        51550\n",
      "dtype: int64\n"
     ]
    }
   ],
   "source": [
    "#cantidad de nulos en ambas columnas\n",
    "cant_nulos_por_campo_lato_lon = mask_lat_lon.apply(lambda x: x.isnull().sum(), axis=0)\n",
    "print(cant_nulos_por_campo_lato_lon)"
   ]
  },
  {
   "cell_type": "code",
   "execution_count": 32,
   "id": "de4a34cb",
   "metadata": {},
   "outputs": [
    {
     "name": "stdout",
     "output_type": "stream",
     "text": [
      "42.52598581092229\n",
      "42.52598581092229\n",
      "42.52598581092229\n"
     ]
    }
   ],
   "source": [
    "#porcentajes de nulos en las columas enunciadas abajo\n",
    "nulos_lat_lon=(data['lat-lon'].isnull().sum()*100 / len(data))\n",
    "nulos_lat=(data['lat'].isnull().sum()*100 / len(data))\n",
    "nulos_lon=(data['lon'].isnull().sum()*100 / len(data))\n",
    "print(nulos_lat_lon)\n",
    "print(nulos_lat)\n",
    "print(nulos_lon)"
   ]
  },
  {
   "cell_type": "code",
   "execution_count": 33,
   "id": "54627436",
   "metadata": {},
   "outputs": [
    {
     "name": "stdout",
     "output_type": "stream",
     "text": [
      "57.47401418907771\n",
      "57.47401418907771\n",
      "57.47401418907771\n"
     ]
    }
   ],
   "source": [
    "#porcentajes de valores no-nulos\n",
    "nulos_lat_lon_not=(data['lat-lon'].notnull().sum()*100 / len(data))\n",
    "nulos_lat_not=(data['lat'].notnull().sum()*100 / len(data))\n",
    "nulos_lon_not=(data['lon'].notnull().sum()*100 / len(data))\n",
    "print(nulos_lat_lon_not)\n",
    "print(nulos_lat_not)\n",
    "print(nulos_lon_not)"
   ]
  },
  {
   "cell_type": "code",
   "execution_count": 34,
   "id": "8542ff9a",
   "metadata": {},
   "outputs": [
    {
     "data": {
      "text/html": [
       "<div>\n",
       "<style scoped>\n",
       "    .dataframe tbody tr th:only-of-type {\n",
       "        vertical-align: middle;\n",
       "    }\n",
       "\n",
       "    .dataframe tbody tr th {\n",
       "        vertical-align: top;\n",
       "    }\n",
       "\n",
       "    .dataframe thead th {\n",
       "        text-align: right;\n",
       "    }\n",
       "</style>\n",
       "<table border=\"1\" class=\"dataframe\">\n",
       "  <thead>\n",
       "    <tr style=\"text-align: right;\">\n",
       "      <th></th>\n",
       "      <th>lat-lon</th>\n",
       "      <th>lat</th>\n",
       "      <th>lon</th>\n",
       "    </tr>\n",
       "  </thead>\n",
       "  <tbody>\n",
       "    <tr>\n",
       "      <th>0</th>\n",
       "      <td>-34.6618237,-58.5088387</td>\n",
       "      <td>-34.661824</td>\n",
       "      <td>-58.508839</td>\n",
       "    </tr>\n",
       "    <tr>\n",
       "      <th>1</th>\n",
       "      <td>-34.9038831,-57.9643295</td>\n",
       "      <td>-34.903883</td>\n",
       "      <td>-57.964330</td>\n",
       "    </tr>\n",
       "    <tr>\n",
       "      <th>2</th>\n",
       "      <td>-34.6522615,-58.5229825</td>\n",
       "      <td>-34.652262</td>\n",
       "      <td>-58.522982</td>\n",
       "    </tr>\n",
       "    <tr>\n",
       "      <th>3</th>\n",
       "      <td>-34.6477969,-58.5164244</td>\n",
       "      <td>-34.647797</td>\n",
       "      <td>-58.516424</td>\n",
       "    </tr>\n",
       "    <tr>\n",
       "      <th>4</th>\n",
       "      <td>-38.0026256,-57.5494468</td>\n",
       "      <td>-38.002626</td>\n",
       "      <td>-57.549447</td>\n",
       "    </tr>\n",
       "  </tbody>\n",
       "</table>\n",
       "</div>"
      ],
      "text/plain": [
       "                   lat-lon        lat        lon\n",
       "0  -34.6618237,-58.5088387 -34.661824 -58.508839\n",
       "1  -34.9038831,-57.9643295 -34.903883 -57.964330\n",
       "2  -34.6522615,-58.5229825 -34.652262 -58.522982\n",
       "3  -34.6477969,-58.5164244 -34.647797 -58.516424\n",
       "4  -38.0026256,-57.5494468 -38.002626 -57.549447"
      ]
     },
     "execution_count": 34,
     "metadata": {},
     "output_type": "execute_result"
    }
   ],
   "source": [
    "#tomamos unicamente los valores no nulos \n",
    "lat_lot_not_null = mask_lat_lon.loc[mask_lat_lon['lat-lon'].notnull()]\n",
    "lat_lot_not_null.head()"
   ]
  },
  {
   "cell_type": "code",
   "execution_count": 35,
   "id": "22c6a33e",
   "metadata": {},
   "outputs": [
    {
     "name": "stderr",
     "output_type": "stream",
     "text": [
      "C:\\Users\\fox00\\AppData\\Local\\Temp\\ipykernel_6632\\678879428.py:1: SettingWithCopyWarning: \n",
      "A value is trying to be set on a copy of a slice from a DataFrame.\n",
      "Try using .loc[row_indexer,col_indexer] = value instead\n",
      "\n",
      "See the caveats in the documentation: https://pandas.pydata.org/pandas-docs/stable/user_guide/indexing.html#returning-a-view-versus-a-copy\n",
      "  lat_lot_not_null['valor_lat_sin_lon'] = lat_lot_not_null['lat-lon'].apply(lambda x: x.split(',')[0])\n",
      "C:\\Users\\fox00\\AppData\\Local\\Temp\\ipykernel_6632\\678879428.py:2: SettingWithCopyWarning: \n",
      "A value is trying to be set on a copy of a slice from a DataFrame.\n",
      "Try using .loc[row_indexer,col_indexer] = value instead\n",
      "\n",
      "See the caveats in the documentation: https://pandas.pydata.org/pandas-docs/stable/user_guide/indexing.html#returning-a-view-versus-a-copy\n",
      "  lat_lot_not_null['valor_lon_sin_lat'] = lat_lot_not_null['lat-lon'].apply(lambda x: x.split(',')[1])\n"
     ]
    },
    {
     "data": {
      "text/html": [
       "<div>\n",
       "<style scoped>\n",
       "    .dataframe tbody tr th:only-of-type {\n",
       "        vertical-align: middle;\n",
       "    }\n",
       "\n",
       "    .dataframe tbody tr th {\n",
       "        vertical-align: top;\n",
       "    }\n",
       "\n",
       "    .dataframe thead th {\n",
       "        text-align: right;\n",
       "    }\n",
       "</style>\n",
       "<table border=\"1\" class=\"dataframe\">\n",
       "  <thead>\n",
       "    <tr style=\"text-align: right;\">\n",
       "      <th></th>\n",
       "      <th>lat-lon</th>\n",
       "      <th>lat</th>\n",
       "      <th>lon</th>\n",
       "      <th>valor_lat_sin_lon</th>\n",
       "      <th>valor_lon_sin_lat</th>\n",
       "    </tr>\n",
       "  </thead>\n",
       "  <tbody>\n",
       "    <tr>\n",
       "      <th>0</th>\n",
       "      <td>-34.6618237,-58.5088387</td>\n",
       "      <td>-34.661824</td>\n",
       "      <td>-58.508839</td>\n",
       "      <td>-34.6618237</td>\n",
       "      <td>-58.5088387</td>\n",
       "    </tr>\n",
       "    <tr>\n",
       "      <th>1</th>\n",
       "      <td>-34.9038831,-57.9643295</td>\n",
       "      <td>-34.903883</td>\n",
       "      <td>-57.964330</td>\n",
       "      <td>-34.9038831</td>\n",
       "      <td>-57.9643295</td>\n",
       "    </tr>\n",
       "    <tr>\n",
       "      <th>2</th>\n",
       "      <td>-34.6522615,-58.5229825</td>\n",
       "      <td>-34.652262</td>\n",
       "      <td>-58.522982</td>\n",
       "      <td>-34.6522615</td>\n",
       "      <td>-58.5229825</td>\n",
       "    </tr>\n",
       "    <tr>\n",
       "      <th>3</th>\n",
       "      <td>-34.6477969,-58.5164244</td>\n",
       "      <td>-34.647797</td>\n",
       "      <td>-58.516424</td>\n",
       "      <td>-34.6477969</td>\n",
       "      <td>-58.5164244</td>\n",
       "    </tr>\n",
       "    <tr>\n",
       "      <th>4</th>\n",
       "      <td>-38.0026256,-57.5494468</td>\n",
       "      <td>-38.002626</td>\n",
       "      <td>-57.549447</td>\n",
       "      <td>-38.0026256</td>\n",
       "      <td>-57.5494468</td>\n",
       "    </tr>\n",
       "  </tbody>\n",
       "</table>\n",
       "</div>"
      ],
      "text/plain": [
       "                   lat-lon        lat        lon valor_lat_sin_lon  \\\n",
       "0  -34.6618237,-58.5088387 -34.661824 -58.508839       -34.6618237   \n",
       "1  -34.9038831,-57.9643295 -34.903883 -57.964330       -34.9038831   \n",
       "2  -34.6522615,-58.5229825 -34.652262 -58.522982       -34.6522615   \n",
       "3  -34.6477969,-58.5164244 -34.647797 -58.516424       -34.6477969   \n",
       "4  -38.0026256,-57.5494468 -38.002626 -57.549447       -38.0026256   \n",
       "\n",
       "  valor_lon_sin_lat  \n",
       "0       -58.5088387  \n",
       "1       -57.9643295  \n",
       "2       -58.5229825  \n",
       "3       -58.5164244  \n",
       "4       -57.5494468  "
      ]
     },
     "execution_count": 35,
     "metadata": {},
     "output_type": "execute_result"
    }
   ],
   "source": [
    "lat_lot_not_null['valor_lat_sin_lon'] = lat_lot_not_null['lat-lon'].apply(lambda x: x.split(',')[0])\n",
    "lat_lot_not_null['valor_lon_sin_lat'] = lat_lot_not_null['lat-lon'].apply(lambda x: x.split(',')[1])\n",
    "lat_lot_not_null.head()"
   ]
  },
  {
   "cell_type": "code",
   "execution_count": 36,
   "id": "beaf1d88",
   "metadata": {},
   "outputs": [
    {
     "data": {
      "text/html": [
       "<div>\n",
       "<style scoped>\n",
       "    .dataframe tbody tr th:only-of-type {\n",
       "        vertical-align: middle;\n",
       "    }\n",
       "\n",
       "    .dataframe tbody tr th {\n",
       "        vertical-align: top;\n",
       "    }\n",
       "\n",
       "    .dataframe thead th {\n",
       "        text-align: right;\n",
       "    }\n",
       "</style>\n",
       "<table border=\"1\" class=\"dataframe\">\n",
       "  <thead>\n",
       "    <tr style=\"text-align: right;\">\n",
       "      <th></th>\n",
       "      <th>Null</th>\n",
       "      <th>% Null</th>\n",
       "      <th>Types</th>\n",
       "    </tr>\n",
       "  </thead>\n",
       "  <tbody>\n",
       "    <tr>\n",
       "      <th>lat</th>\n",
       "      <td>51550</td>\n",
       "      <td>42.526</td>\n",
       "      <td>float64</td>\n",
       "    </tr>\n",
       "    <tr>\n",
       "      <th>lon</th>\n",
       "      <td>51550</td>\n",
       "      <td>42.526</td>\n",
       "      <td>float64</td>\n",
       "    </tr>\n",
       "  </tbody>\n",
       "</table>\n",
       "</div>"
      ],
      "text/plain": [
       "      Null  % Null    Types\n",
       "lat  51550  42.526  float64\n",
       "lon  51550  42.526  float64"
      ]
     },
     "execution_count": 36,
     "metadata": {},
     "output_type": "execute_result"
    }
   ],
   "source": [
    "data['lat'] = data['lat'].astype('float64')\n",
    "data['lon'] = data['lon'].astype('float64')\n",
    "describe_data(data.columns, data).loc[['lat', 'lon']]"
   ]
  },
  {
   "cell_type": "code",
   "execution_count": 37,
   "id": "33c53c7f",
   "metadata": {},
   "outputs": [
    {
     "data": {
      "text/html": [
       "<div>\n",
       "<style scoped>\n",
       "    .dataframe tbody tr th:only-of-type {\n",
       "        vertical-align: middle;\n",
       "    }\n",
       "\n",
       "    .dataframe tbody tr th {\n",
       "        vertical-align: top;\n",
       "    }\n",
       "\n",
       "    .dataframe thead th {\n",
       "        text-align: right;\n",
       "    }\n",
       "</style>\n",
       "<table border=\"1\" class=\"dataframe\">\n",
       "  <thead>\n",
       "    <tr style=\"text-align: right;\">\n",
       "      <th></th>\n",
       "      <th>geonames_id</th>\n",
       "      <th>lat</th>\n",
       "      <th>lon</th>\n",
       "    </tr>\n",
       "  </thead>\n",
       "  <tbody>\n",
       "    <tr>\n",
       "      <th>13</th>\n",
       "      <td>3430234.0</td>\n",
       "      <td>NaN</td>\n",
       "      <td>NaN</td>\n",
       "    </tr>\n",
       "    <tr>\n",
       "      <th>14</th>\n",
       "      <td>3430234.0</td>\n",
       "      <td>NaN</td>\n",
       "      <td>NaN</td>\n",
       "    </tr>\n",
       "    <tr>\n",
       "      <th>42</th>\n",
       "      <td>3429979.0</td>\n",
       "      <td>NaN</td>\n",
       "      <td>NaN</td>\n",
       "    </tr>\n",
       "    <tr>\n",
       "      <th>49</th>\n",
       "      <td>3434130.0</td>\n",
       "      <td>NaN</td>\n",
       "      <td>NaN</td>\n",
       "    </tr>\n",
       "    <tr>\n",
       "      <th>62</th>\n",
       "      <td>3436042.0</td>\n",
       "      <td>NaN</td>\n",
       "      <td>NaN</td>\n",
       "    </tr>\n",
       "  </tbody>\n",
       "</table>\n",
       "</div>"
      ],
      "text/plain": [
       "    geonames_id  lat  lon\n",
       "13    3430234.0  NaN  NaN\n",
       "14    3430234.0  NaN  NaN\n",
       "42    3429979.0  NaN  NaN\n",
       "49    3434130.0  NaN  NaN\n",
       "62    3436042.0  NaN  NaN"
      ]
     },
     "execution_count": 37,
     "metadata": {},
     "output_type": "execute_result"
    }
   ],
   "source": [
    "#tomo los nulos lat y lon y los no_nulos de geonames_id del dataset data\n",
    "geo_colums = data[['geonames_id', 'lat', 'lon']]\n",
    "geo_subset_null_mask = (data.loc[:,'geonames_id'].notnull()) & (data.loc[:,'lat'].isnull()) & (data.loc[:,'lon'].isnull())\n",
    "geo_subset_null = geo_colums[geo_subset_null_mask]\n",
    "describe_data(geo_subset_null.columns, geo_subset_null)\n",
    "geo_subset_null.head()\n"
   ]
  },
  {
   "cell_type": "code",
   "execution_count": 38,
   "id": "95a1f98a",
   "metadata": {},
   "outputs": [
    {
     "data": {
      "text/html": [
       "<div>\n",
       "<style scoped>\n",
       "    .dataframe tbody tr th:only-of-type {\n",
       "        vertical-align: middle;\n",
       "    }\n",
       "\n",
       "    .dataframe tbody tr th {\n",
       "        vertical-align: top;\n",
       "    }\n",
       "\n",
       "    .dataframe thead th {\n",
       "        text-align: right;\n",
       "    }\n",
       "</style>\n",
       "<table border=\"1\" class=\"dataframe\">\n",
       "  <thead>\n",
       "    <tr style=\"text-align: right;\">\n",
       "      <th></th>\n",
       "      <th>name</th>\n",
       "      <th>asciiname</th>\n",
       "      <th>alternatenames</th>\n",
       "      <th>latitude</th>\n",
       "      <th>longitude</th>\n",
       "      <th>feature_class</th>\n",
       "      <th>feature_code</th>\n",
       "      <th>country_code</th>\n",
       "      <th>cc2</th>\n",
       "      <th>admin1_code</th>\n",
       "      <th>admin2_code</th>\n",
       "      <th>admin3_code</th>\n",
       "      <th>admin4 code</th>\n",
       "      <th>population</th>\n",
       "      <th>elevation</th>\n",
       "      <th>dem</th>\n",
       "      <th>timezone</th>\n",
       "      <th>modification date</th>\n",
       "    </tr>\n",
       "    <tr>\n",
       "      <th>geonames_id</th>\n",
       "      <th></th>\n",
       "      <th></th>\n",
       "      <th></th>\n",
       "      <th></th>\n",
       "      <th></th>\n",
       "      <th></th>\n",
       "      <th></th>\n",
       "      <th></th>\n",
       "      <th></th>\n",
       "      <th></th>\n",
       "      <th></th>\n",
       "      <th></th>\n",
       "      <th></th>\n",
       "      <th></th>\n",
       "      <th></th>\n",
       "      <th></th>\n",
       "      <th></th>\n",
       "      <th></th>\n",
       "    </tr>\n",
       "  </thead>\n",
       "  <tbody>\n",
       "    <tr>\n",
       "      <th>3427200</th>\n",
       "      <td>Sierra del 15</td>\n",
       "      <td>Sierra del 15</td>\n",
       "      <td>NaN</td>\n",
       "      <td>-37.96613</td>\n",
       "      <td>-57.94670</td>\n",
       "      <td>T</td>\n",
       "      <td>HLL</td>\n",
       "      <td>AR</td>\n",
       "      <td>NaN</td>\n",
       "      <td>1.0</td>\n",
       "      <td>6357.0</td>\n",
       "      <td>NaN</td>\n",
       "      <td>NaN</td>\n",
       "      <td>0</td>\n",
       "      <td>NaN</td>\n",
       "      <td>200</td>\n",
       "      <td>America/Argentina/Buenos_Aires</td>\n",
       "      <td>2016-01-30</td>\n",
       "    </tr>\n",
       "    <tr>\n",
       "      <th>3427201</th>\n",
       "      <td>Puesto 1 Napoleón Cué</td>\n",
       "      <td>Puesto 1 Napoleon Cue</td>\n",
       "      <td>NaN</td>\n",
       "      <td>-28.63333</td>\n",
       "      <td>-56.11667</td>\n",
       "      <td>S</td>\n",
       "      <td>HSE</td>\n",
       "      <td>AR</td>\n",
       "      <td>NaN</td>\n",
       "      <td>6.0</td>\n",
       "      <td>18168.0</td>\n",
       "      <td>NaN</td>\n",
       "      <td>NaN</td>\n",
       "      <td>0</td>\n",
       "      <td>NaN</td>\n",
       "      <td>79</td>\n",
       "      <td>America/Argentina/Cordoba</td>\n",
       "      <td>2016-01-30</td>\n",
       "    </tr>\n",
       "    <tr>\n",
       "      <th>3427202</th>\n",
       "      <td>Cañada del Zorro</td>\n",
       "      <td>Canada del Zorro</td>\n",
       "      <td>NaN</td>\n",
       "      <td>-32.16667</td>\n",
       "      <td>-59.50000</td>\n",
       "      <td>H</td>\n",
       "      <td>STM</td>\n",
       "      <td>AR</td>\n",
       "      <td>NaN</td>\n",
       "      <td>8.0</td>\n",
       "      <td>NaN</td>\n",
       "      <td>NaN</td>\n",
       "      <td>NaN</td>\n",
       "      <td>0</td>\n",
       "      <td>NaN</td>\n",
       "      <td>65</td>\n",
       "      <td>America/Argentina/Cordoba</td>\n",
       "      <td>1993-12-21</td>\n",
       "    </tr>\n",
       "    <tr>\n",
       "      <th>3427203</th>\n",
       "      <td>Estancia Zorraquín</td>\n",
       "      <td>Estancia Zorraquin</td>\n",
       "      <td>NaN</td>\n",
       "      <td>-31.51553</td>\n",
       "      <td>-58.55208</td>\n",
       "      <td>S</td>\n",
       "      <td>RNCH</td>\n",
       "      <td>AR</td>\n",
       "      <td>NaN</td>\n",
       "      <td>8.0</td>\n",
       "      <td>30113.0</td>\n",
       "      <td>NaN</td>\n",
       "      <td>NaN</td>\n",
       "      <td>0</td>\n",
       "      <td>NaN</td>\n",
       "      <td>71</td>\n",
       "      <td>America/Argentina/Cordoba</td>\n",
       "      <td>2016-01-30</td>\n",
       "    </tr>\n",
       "    <tr>\n",
       "      <th>3427204</th>\n",
       "      <td>Estancia Zequeira Cué</td>\n",
       "      <td>Estancia Zequeira Cue</td>\n",
       "      <td>NaN</td>\n",
       "      <td>-28.43825</td>\n",
       "      <td>-56.08838</td>\n",
       "      <td>S</td>\n",
       "      <td>RNCH</td>\n",
       "      <td>AR</td>\n",
       "      <td>NaN</td>\n",
       "      <td>6.0</td>\n",
       "      <td>18168.0</td>\n",
       "      <td>NaN</td>\n",
       "      <td>NaN</td>\n",
       "      <td>0</td>\n",
       "      <td>NaN</td>\n",
       "      <td>98</td>\n",
       "      <td>America/Argentina/Cordoba</td>\n",
       "      <td>2016-01-30</td>\n",
       "    </tr>\n",
       "  </tbody>\n",
       "</table>\n",
       "</div>"
      ],
      "text/plain": [
       "                              name              asciiname alternatenames  \\\n",
       "geonames_id                                                                \n",
       "3427200              Sierra del 15          Sierra del 15            NaN   \n",
       "3427201      Puesto 1 Napoleón Cué  Puesto 1 Napoleon Cue            NaN   \n",
       "3427202           Cañada del Zorro       Canada del Zorro            NaN   \n",
       "3427203         Estancia Zorraquín     Estancia Zorraquin            NaN   \n",
       "3427204      Estancia Zequeira Cué  Estancia Zequeira Cue            NaN   \n",
       "\n",
       "             latitude  longitude feature_class feature_code country_code  cc2  \\\n",
       "geonames_id                                                                     \n",
       "3427200     -37.96613  -57.94670             T          HLL           AR  NaN   \n",
       "3427201     -28.63333  -56.11667             S          HSE           AR  NaN   \n",
       "3427202     -32.16667  -59.50000             H          STM           AR  NaN   \n",
       "3427203     -31.51553  -58.55208             S         RNCH           AR  NaN   \n",
       "3427204     -28.43825  -56.08838             S         RNCH           AR  NaN   \n",
       "\n",
       "             admin1_code  admin2_code  admin3_code  admin4 code  population  \\\n",
       "geonames_id                                                                   \n",
       "3427200              1.0       6357.0          NaN          NaN           0   \n",
       "3427201              6.0      18168.0          NaN          NaN           0   \n",
       "3427202              8.0          NaN          NaN          NaN           0   \n",
       "3427203              8.0      30113.0          NaN          NaN           0   \n",
       "3427204              6.0      18168.0          NaN          NaN           0   \n",
       "\n",
       "             elevation  dem                        timezone modification date  \n",
       "geonames_id                                                                    \n",
       "3427200            NaN  200  America/Argentina/Buenos_Aires        2016-01-30  \n",
       "3427201            NaN   79       America/Argentina/Cordoba        2016-01-30  \n",
       "3427202            NaN   65       America/Argentina/Cordoba        1993-12-21  \n",
       "3427203            NaN   71       America/Argentina/Cordoba        2016-01-30  \n",
       "3427204            NaN   98       America/Argentina/Cordoba        2016-01-30  "
      ]
     },
     "execution_count": 38,
     "metadata": {},
     "output_type": "execute_result"
    }
   ],
   "source": [
    "#los nombres de columnas se encuentran en el archivo readme.txt\n",
    "geonames_columns = ['geonames_id', 'name', 'asciiname', 'alternatenames', 'latitude', 'longitude', 'feature_class', 'feature_code', 'country_code', 'cc2', \n",
    "                    'admin1_code', 'admin2_code', 'admin3_code', 'admin4 code', 'population', 'elevation', 'dem', 'timezone', 'modification date']\n",
    "\n",
    "geonames_data = pd.read_csv('AR.txt', delimiter='\\t', names=geonames_columns)\n",
    "geonames_data.set_index('geonames_id', inplace=True)\n",
    "geonames_data.head()"
   ]
  },
  {
   "cell_type": "code",
   "execution_count": 39,
   "id": "67df2f33",
   "metadata": {},
   "outputs": [],
   "source": [
    "#creo un diccionario tomando unicamente las key de los geonames_id y le asigno conforme su index la key de su coordenada (lat y/o lon)\n",
    "geonames_lat_mapping_dict = { indx: geonames_data.loc[int(indx)].loc['latitude'] for indx in geo_subset_null['geonames_id'].unique().astype('float') if indx in geonames_data.index }\n",
    "geonames_lon_mapping_dict = { indx: geonames_data.loc[int(indx)].loc['longitude'] for indx in geo_subset_null['geonames_id'].unique().astype('float') if indx in geonames_data.index }\n",
    "#describe_data(data.columns, data)\n",
    "#geonames_lon_mapping_dict"
   ]
  },
  {
   "cell_type": "code",
   "execution_count": 40,
   "id": "c2e1e074",
   "metadata": {},
   "outputs": [],
   "source": [
    "#ahora le asignamos su key por cada fila que tenga nulo , conforme a su correspondiente index \n",
    "data['lat'] = data.apply(lambda x: geonames_lat_mapping_dict.get(x['geonames_id'], np.nan) if np.isnan(x['lat']) else x['lat'], axis=1)\n",
    "data['lon'] = data.apply(lambda x: geonames_lon_mapping_dict.get(x['geonames_id'], np.nan) if np.isnan(x['lon']) else x['lon'], axis=1)\n",
    "#describe_data(data.columns, data)"
   ]
  },
  {
   "cell_type": "code",
   "execution_count": 41,
   "id": "ce015001",
   "metadata": {},
   "outputs": [
    {
     "data": {
      "text/html": [
       "<div>\n",
       "<style scoped>\n",
       "    .dataframe tbody tr th:only-of-type {\n",
       "        vertical-align: middle;\n",
       "    }\n",
       "\n",
       "    .dataframe tbody tr th {\n",
       "        vertical-align: top;\n",
       "    }\n",
       "\n",
       "    .dataframe thead th {\n",
       "        text-align: right;\n",
       "    }\n",
       "</style>\n",
       "<table border=\"1\" class=\"dataframe\">\n",
       "  <thead>\n",
       "    <tr style=\"text-align: right;\">\n",
       "      <th></th>\n",
       "      <th>Null</th>\n",
       "      <th>% Null</th>\n",
       "      <th>Types</th>\n",
       "    </tr>\n",
       "  </thead>\n",
       "  <tbody>\n",
       "    <tr>\n",
       "      <th>lat</th>\n",
       "      <td>8346</td>\n",
       "      <td>6.885</td>\n",
       "      <td>float64</td>\n",
       "    </tr>\n",
       "    <tr>\n",
       "      <th>lon</th>\n",
       "      <td>8346</td>\n",
       "      <td>6.885</td>\n",
       "      <td>float64</td>\n",
       "    </tr>\n",
       "  </tbody>\n",
       "</table>\n",
       "</div>"
      ],
      "text/plain": [
       "     Null  % Null    Types\n",
       "lat  8346   6.885  float64\n",
       "lon  8346   6.885  float64"
      ]
     },
     "execution_count": 41,
     "metadata": {},
     "output_type": "execute_result"
    }
   ],
   "source": [
    "describe_data(data.columns, data).loc[['lat', 'lon']]"
   ]
  },
  {
   "cell_type": "code",
   "execution_count": 42,
   "id": "d8274e39",
   "metadata": {},
   "outputs": [
    {
     "data": {
      "text/html": [
       "<div>\n",
       "<style scoped>\n",
       "    .dataframe tbody tr th:only-of-type {\n",
       "        vertical-align: middle;\n",
       "    }\n",
       "\n",
       "    .dataframe tbody tr th {\n",
       "        vertical-align: top;\n",
       "    }\n",
       "\n",
       "    .dataframe thead th {\n",
       "        text-align: right;\n",
       "    }\n",
       "</style>\n",
       "<table border=\"1\" class=\"dataframe\">\n",
       "  <thead>\n",
       "    <tr style=\"text-align: right;\">\n",
       "      <th></th>\n",
       "      <th>name</th>\n",
       "      <th>asciiname</th>\n",
       "      <th>alternatenames</th>\n",
       "      <th>latitude</th>\n",
       "      <th>longitude</th>\n",
       "      <th>feature_class</th>\n",
       "      <th>feature_code</th>\n",
       "      <th>country_code</th>\n",
       "      <th>cc2</th>\n",
       "      <th>admin1_code</th>\n",
       "      <th>admin2_code</th>\n",
       "      <th>admin3_code</th>\n",
       "      <th>admin4 code</th>\n",
       "      <th>population</th>\n",
       "      <th>elevation</th>\n",
       "      <th>dem</th>\n",
       "      <th>timezone</th>\n",
       "      <th>modification date</th>\n",
       "    </tr>\n",
       "    <tr>\n",
       "      <th>geonames_id</th>\n",
       "      <th></th>\n",
       "      <th></th>\n",
       "      <th></th>\n",
       "      <th></th>\n",
       "      <th></th>\n",
       "      <th></th>\n",
       "      <th></th>\n",
       "      <th></th>\n",
       "      <th></th>\n",
       "      <th></th>\n",
       "      <th></th>\n",
       "      <th></th>\n",
       "      <th></th>\n",
       "      <th></th>\n",
       "      <th></th>\n",
       "      <th></th>\n",
       "      <th></th>\n",
       "      <th></th>\n",
       "    </tr>\n",
       "  </thead>\n",
       "  <tbody>\n",
       "    <tr>\n",
       "      <th>3429980</th>\n",
       "      <td>Pilar</td>\n",
       "      <td>Pilar</td>\n",
       "      <td>Pilar</td>\n",
       "      <td>-34.45866</td>\n",
       "      <td>-58.91420</td>\n",
       "      <td>P</td>\n",
       "      <td>PPLA2</td>\n",
       "      <td>AR</td>\n",
       "      <td>NaN</td>\n",
       "      <td>1.0</td>\n",
       "      <td>6638.0</td>\n",
       "      <td>NaN</td>\n",
       "      <td>NaN</td>\n",
       "      <td>226517</td>\n",
       "      <td>NaN</td>\n",
       "      <td>27</td>\n",
       "      <td>America/Argentina/Buenos_Aires</td>\n",
       "      <td>2017-12-21</td>\n",
       "    </tr>\n",
       "    <tr>\n",
       "      <th>3480748</th>\n",
       "      <td>Pilar</td>\n",
       "      <td>Pilar</td>\n",
       "      <td>NaN</td>\n",
       "      <td>-34.43750</td>\n",
       "      <td>-58.90556</td>\n",
       "      <td>L</td>\n",
       "      <td>LCTY</td>\n",
       "      <td>AR</td>\n",
       "      <td>NaN</td>\n",
       "      <td>1.0</td>\n",
       "      <td>NaN</td>\n",
       "      <td>NaN</td>\n",
       "      <td>NaN</td>\n",
       "      <td>0</td>\n",
       "      <td>NaN</td>\n",
       "      <td>18</td>\n",
       "      <td>America/Argentina/Buenos_Aires</td>\n",
       "      <td>2013-08-08</td>\n",
       "    </tr>\n",
       "    <tr>\n",
       "      <th>3841149</th>\n",
       "      <td>Pilar</td>\n",
       "      <td>Pilar</td>\n",
       "      <td>Pilar</td>\n",
       "      <td>-31.67890</td>\n",
       "      <td>-63.87964</td>\n",
       "      <td>P</td>\n",
       "      <td>PPL</td>\n",
       "      <td>AR</td>\n",
       "      <td>NaN</td>\n",
       "      <td>5.0</td>\n",
       "      <td>14119.0</td>\n",
       "      <td>NaN</td>\n",
       "      <td>NaN</td>\n",
       "      <td>12488</td>\n",
       "      <td>NaN</td>\n",
       "      <td>334</td>\n",
       "      <td>America/Argentina/Cordoba</td>\n",
       "      <td>2016-01-30</td>\n",
       "    </tr>\n",
       "    <tr>\n",
       "      <th>3841150</th>\n",
       "      <td>Pilar</td>\n",
       "      <td>Pilar</td>\n",
       "      <td>NaN</td>\n",
       "      <td>-31.43937</td>\n",
       "      <td>-61.25884</td>\n",
       "      <td>P</td>\n",
       "      <td>PPL</td>\n",
       "      <td>AR</td>\n",
       "      <td>NaN</td>\n",
       "      <td>21.0</td>\n",
       "      <td>82070.0</td>\n",
       "      <td>NaN</td>\n",
       "      <td>NaN</td>\n",
       "      <td>0</td>\n",
       "      <td>NaN</td>\n",
       "      <td>62</td>\n",
       "      <td>America/Argentina/Cordoba</td>\n",
       "      <td>2016-01-30</td>\n",
       "    </tr>\n",
       "  </tbody>\n",
       "</table>\n",
       "</div>"
      ],
      "text/plain": [
       "              name asciiname alternatenames  latitude  longitude  \\\n",
       "geonames_id                                                        \n",
       "3429980      Pilar     Pilar          Pilar -34.45866  -58.91420   \n",
       "3480748      Pilar     Pilar            NaN -34.43750  -58.90556   \n",
       "3841149      Pilar     Pilar          Pilar -31.67890  -63.87964   \n",
       "3841150      Pilar     Pilar            NaN -31.43937  -61.25884   \n",
       "\n",
       "            feature_class feature_code country_code  cc2  admin1_code  \\\n",
       "geonames_id                                                             \n",
       "3429980                 P        PPLA2           AR  NaN          1.0   \n",
       "3480748                 L         LCTY           AR  NaN          1.0   \n",
       "3841149                 P          PPL           AR  NaN          5.0   \n",
       "3841150                 P          PPL           AR  NaN         21.0   \n",
       "\n",
       "             admin2_code  admin3_code  admin4 code  population  elevation  \\\n",
       "geonames_id                                                                 \n",
       "3429980           6638.0          NaN          NaN      226517        NaN   \n",
       "3480748              NaN          NaN          NaN           0        NaN   \n",
       "3841149          14119.0          NaN          NaN       12488        NaN   \n",
       "3841150          82070.0          NaN          NaN           0        NaN   \n",
       "\n",
       "             dem                        timezone modification date  \n",
       "geonames_id                                                         \n",
       "3429980       27  America/Argentina/Buenos_Aires        2017-12-21  \n",
       "3480748       18  America/Argentina/Buenos_Aires        2013-08-08  \n",
       "3841149      334       America/Argentina/Cordoba        2016-01-30  \n",
       "3841150       62       America/Argentina/Cordoba        2016-01-30  "
      ]
     },
     "execution_count": 42,
     "metadata": {},
     "output_type": "execute_result"
    }
   ],
   "source": [
    "#agregar descripción\n",
    "geonames_data.loc[ geonames_data['name'] == 'Pilar' ]"
   ]
  },
  {
   "cell_type": "code",
   "execution_count": 43,
   "id": "cc3059d3",
   "metadata": {},
   "outputs": [
    {
     "data": {
      "text/plain": [
       "|Argentina|Santa Fe|Rosario|                               8504\n",
       "|Argentina|CÃ³rdoba|CÃ³rdoba|                              6606\n",
       "|Argentina|Buenos Aires Costa AtlÃ¡ntica|Mar del Plata|    6534\n",
       "Name: place_with_parent_names, dtype: int64"
      ]
     },
     "execution_count": 43,
     "metadata": {},
     "output_type": "execute_result"
    }
   ],
   "source": [
    "#Calculo cuántos valores distintos tengo en la columna place_with_parent_names que incluye provincia y barrio.\n",
    "\n",
    "data.place_with_parent_names.value_counts().head(3)"
   ]
  },
  {
   "cell_type": "code",
   "execution_count": 44,
   "id": "3ddd33bf",
   "metadata": {},
   "outputs": [
    {
     "data": {
      "text/plain": [
       "0               [, Argentina, Capital Federal, Mataderos, ]\n",
       "1         [, Argentina, Bs.As. G.B.A. Zona Sur, La Plata, ]\n",
       "2               [, Argentina, Capital Federal, Mataderos, ]\n",
       "3                 [, Argentina, Capital Federal, Liniers, ]\n",
       "4         [, Argentina, Buenos Aires Costa AtlÃ¡ntica, M...\n",
       "                                ...                        \n",
       "121215           [, Argentina, Capital Federal, Belgrano, ]\n",
       "121216    [, Argentina, Bs.As. G.B.A. Zona Norte, San Is...\n",
       "121217      [, Argentina, Capital Federal, Villa Urquiza, ]\n",
       "121218    [, Argentina, Buenos Aires Costa AtlÃ¡ntica, M...\n",
       "121219                     [, Argentina, Capital Federal, ]\n",
       "Name: place_with_parent_names, Length: 121220, dtype: object"
      ]
     },
     "execution_count": 44,
     "metadata": {},
     "output_type": "execute_result"
    }
   ],
   "source": [
    "#Hacemos el split de los valores que contiene la columna 'place_with_parents_name'.\n",
    "\n",
    "splitted_locations = data.place_with_parent_names.str.split('|')\n",
    "splitted_locations"
   ]
  },
  {
   "cell_type": "code",
   "execution_count": 45,
   "id": "a5f0a561",
   "metadata": {},
   "outputs": [],
   "source": [
    "#como el tercer valor es capital federal se toma tercera posicion x[3] y el x[-2] del ultimo -2\n",
    "data['ciudad'] = splitted_locations.apply(lambda x: x[3])\n",
    "data['barrio'] = splitted_locations.apply(lambda x: x[-2])"
   ]
  },
  {
   "cell_type": "code",
   "execution_count": 46,
   "id": "cd5f64d5",
   "metadata": {},
   "outputs": [
    {
     "data": {
      "text/plain": [
       "CÃ³rdoba            9254\n",
       "Rosario             8504\n",
       "Mar del Plata       6534\n",
       "Tigre               3324\n",
       "Nordelta            3315\n",
       "                    ... \n",
       "El Viejo Vivero        1\n",
       "Haras del Sur II       1\n",
       "El Dorado              1\n",
       "Villa Amancay          1\n",
       "Gorina                 1\n",
       "Name: barrio, Length: 1061, dtype: int64"
      ]
     },
     "execution_count": 46,
     "metadata": {},
     "output_type": "execute_result"
    }
   ],
   "source": [
    "data.barrio.value_counts()"
   ]
  },
  {
   "cell_type": "code",
   "execution_count": 47,
   "id": "d8090873",
   "metadata": {},
   "outputs": [],
   "source": [
    "#geonames_data.iloc[geonames_data.index== 3427200.0,: ]\n",
    "geonames_data = pd.read_csv('AR.txt', delimiter='\\t', names=geonames_columns)"
   ]
  },
  {
   "cell_type": "code",
   "execution_count": 48,
   "id": "0d3a04af",
   "metadata": {},
   "outputs": [
    {
     "name": "stdout",
     "output_type": "stream",
     "text": [
      "         name  latitude  longitude\n",
      "3024  Palermo -34.58856  -58.43053\n",
      "       geonames_id place_name       lat       lon\n",
      "97698    3430234.0    Palermo -34.58856 -58.43053\n"
     ]
    }
   ],
   "source": [
    "#chequeamos que coincidan los registros de geoname entre los datasets.\n",
    "\n",
    "caso_1 = geonames_data[geonames_data['geonames_id'] == 3430234.0]\n",
    "print(caso_1.loc[:,[ \"name\", \"latitude\", \"longitude\"]])\n",
    "\n",
    "caso_2 = data[data['geonames_id'] == 3430234.0].sample(1)\n",
    "print(caso_2.loc[:,[\"geonames_id\", \"place_name\", \"lat\", \"lon\"]])"
   ]
  },
  {
   "cell_type": "code",
   "execution_count": 49,
   "id": "8bb835d7",
   "metadata": {},
   "outputs": [],
   "source": [
    "#Mergeamos los dataset por \"geonames_id\", asumiendo entonces que coinciden estos datos en ambos.\n",
    "\n",
    "data = data.merge(geonames_data, how='left', on= 'geonames_id', left_on=None, right_on=None,\n",
    "         left_index=True, right_index=True, sort=True)"
   ]
  },
  {
   "cell_type": "code",
   "execution_count": 50,
   "id": "dd95cf38",
   "metadata": {},
   "outputs": [],
   "source": [
    "# Ahora vamos a imputar los datos faltantes de latitud y longitud, a partir de los geonames.\n",
    "\n",
    "data['lat'] = data['lat'].fillna(data['latitude'])\n",
    "data['lon'] = data['lon'].fillna(data['longitude'])"
   ]
  },
  {
   "cell_type": "code",
   "execution_count": 51,
   "id": "03d0c08b",
   "metadata": {},
   "outputs": [
    {
     "name": "stdout",
     "output_type": "stream",
     "text": [
      "Este es el porentaje de valores nulos de la columna latitud: 5.780399274047187\n",
      "Este es el porentaje de valores nulos de la columna longitud: 5.780399274047187\n"
     ]
    }
   ],
   "source": [
    "#Verificaremos entonces el porcentaje de nulos de ambas columnas, post imputación. Como vemos, se redujo de un 38% a un 7%.\n",
    "\n",
    "print(\"Este es el porentaje de valores nulos de la columna latitud: {}\".format(data['lat'].isnull().sum()*100 / len(data)))\n",
    "print(\"Este es el porentaje de valores nulos de la columna longitud: {}\".format(data['lon'].isnull().sum()*100 / len(data)))"
   ]
  },
  {
   "cell_type": "code",
   "execution_count": 52,
   "id": "68b2cea6",
   "metadata": {},
   "outputs": [
    {
     "name": "stdout",
     "output_type": "stream",
     "text": [
      "                           state_name        lat        lon\n",
      "0                     Capital Federal -34.661824 -58.508839\n",
      "1              Bs.As. G.B.A. Zona Sur -34.903883 -57.964330\n",
      "2                     Capital Federal -34.652262 -58.522982\n",
      "3                     Capital Federal -34.647797 -58.516424\n",
      "4       Buenos Aires Costa AtlÃ¡ntica -38.002626 -57.549447\n",
      "...                               ...        ...        ...\n",
      "121215                Capital Federal -34.562700 -58.458290\n",
      "121216       Bs.As. G.B.A. Zona Norte -34.463120 -58.534810\n",
      "121217                Capital Federal -34.570639 -58.475596\n",
      "121218  Buenos Aires Costa AtlÃ¡ntica        NaN        NaN\n",
      "121219                Capital Federal -34.600000 -58.450000\n",
      "\n",
      "[121220 rows x 3 columns]\n"
     ]
    }
   ],
   "source": [
    "dg = data.loc[:,['state_name', 'lat',\"lon\"]]\n",
    "print(dg)"
   ]
  },
  {
   "cell_type": "code",
   "execution_count": 53,
   "id": "bdaae2a4",
   "metadata": {},
   "outputs": [
    {
     "name": "stdout",
     "output_type": "stream",
     "text": [
      "                           state_name        lat        lon  \\\n",
      "0                     Capital Federal -34.661824 -58.508839   \n",
      "1              Bs.As. G.B.A. Zona Sur -34.903883 -57.964330   \n",
      "2                     Capital Federal -34.652262 -58.522982   \n",
      "3                     Capital Federal -34.647797 -58.516424   \n",
      "4       Buenos Aires Costa AtlÃ¡ntica -38.002626 -57.549447   \n",
      "...                               ...        ...        ...   \n",
      "121215                Capital Federal -34.562700 -58.458290   \n",
      "121216       Bs.As. G.B.A. Zona Norte -34.463120 -58.534810   \n",
      "121217                Capital Federal -34.570639 -58.475596   \n",
      "121218  Buenos Aires Costa AtlÃ¡ntica        NaN        NaN   \n",
      "121219                Capital Federal -34.600000 -58.450000   \n",
      "\n",
      "                           geometry  \n",
      "0       POINT (-58.50884 -34.66182)  \n",
      "1       POINT (-57.96433 -34.90388)  \n",
      "2       POINT (-58.52298 -34.65226)  \n",
      "3       POINT (-58.51642 -34.64780)  \n",
      "4       POINT (-57.54945 -38.00263)  \n",
      "...                             ...  \n",
      "121215  POINT (-58.45829 -34.56270)  \n",
      "121216  POINT (-58.53481 -34.46312)  \n",
      "121217  POINT (-58.47560 -34.57064)  \n",
      "121218              POINT (nan nan)  \n",
      "121219  POINT (-58.45000 -34.60000)  \n",
      "\n",
      "[121220 rows x 4 columns]\n"
     ]
    }
   ],
   "source": [
    "#Agregamos la columna 'geometry'\n",
    "geodg = gpd.GeoDataFrame(dg, geometry=gpd.points_from_xy(dg.lon, dg.lat))\n",
    "print (geodg)"
   ]
  },
  {
   "cell_type": "code",
   "execution_count": 54,
   "id": "1ba7be40",
   "metadata": {},
   "outputs": [
    {
     "name": "stdout",
     "output_type": "stream",
     "text": [
      "    pop_est      continent       name iso_a3  gdp_md_est  \\\n",
      "9  44293293  South America  Argentina    ARG    879400.0   \n",
      "\n",
      "                                            geometry  \n",
      "9  MULTIPOLYGON (((-68.63401 -52.63637, -68.25000...  \n"
     ]
    }
   ],
   "source": [
    "world = gpd.read_file(gpd.datasets.get_path('naturalearth_lowres'))\n",
    "geoarg = world[world.name=='Argentina']\n",
    "print (geoarg)"
   ]
  },
  {
   "cell_type": "code",
   "execution_count": 55,
   "id": "21f46acc",
   "metadata": {},
   "outputs": [],
   "source": [
    "#revistar gráfico mapa país\n",
    "def to_chart(p_ciudad, p_pais):\n",
    "    \n",
    "    ax = p_pais.plot(figsize=(10,15), color='white', edgecolor='black')\n",
    "\n",
    "    p_ciudad.plot(ax=ax, color='red', alpha= 0.4)\n",
    "\n",
    "\n",
    "plt.show()"
   ]
  },
  {
   "cell_type": "code",
   "execution_count": 56,
   "id": "1f21beff",
   "metadata": {},
   "outputs": [],
   "source": [
    "data.drop(['asciiname', 'alternatenames', 'feature_class', 'feature_code', 'cc2', 'admin1_code', 'admin2_code', 'admin3_code', 'population', 'dem', 'timezone', 'modification date', 'elevation', 'admin4 code', 'country_code', 'name','latitude','longitude', ],axis=1, inplace=True)"
   ]
  },
  {
   "cell_type": "code",
   "execution_count": 57,
   "id": "90ae84ca",
   "metadata": {},
   "outputs": [
    {
     "data": {
      "text/html": [
       "<div>\n",
       "<style scoped>\n",
       "    .dataframe tbody tr th:only-of-type {\n",
       "        vertical-align: middle;\n",
       "    }\n",
       "\n",
       "    .dataframe tbody tr th {\n",
       "        vertical-align: top;\n",
       "    }\n",
       "\n",
       "    .dataframe thead th {\n",
       "        text-align: right;\n",
       "    }\n",
       "</style>\n",
       "<table border=\"1\" class=\"dataframe\">\n",
       "  <thead>\n",
       "    <tr style=\"text-align: right;\">\n",
       "      <th></th>\n",
       "      <th>Null</th>\n",
       "      <th>% Null</th>\n",
       "      <th>Types</th>\n",
       "    </tr>\n",
       "  </thead>\n",
       "  <tbody>\n",
       "    <tr>\n",
       "      <th>property_type</th>\n",
       "      <td>0</td>\n",
       "      <td>0.000</td>\n",
       "      <td>object</td>\n",
       "    </tr>\n",
       "    <tr>\n",
       "      <th>place_name</th>\n",
       "      <td>0</td>\n",
       "      <td>0.000</td>\n",
       "      <td>object</td>\n",
       "    </tr>\n",
       "    <tr>\n",
       "      <th>place_with_parent_names</th>\n",
       "      <td>0</td>\n",
       "      <td>0.000</td>\n",
       "      <td>object</td>\n",
       "    </tr>\n",
       "    <tr>\n",
       "      <th>state_name</th>\n",
       "      <td>0</td>\n",
       "      <td>0.000</td>\n",
       "      <td>object</td>\n",
       "    </tr>\n",
       "    <tr>\n",
       "      <th>geonames_id</th>\n",
       "      <td>18717</td>\n",
       "      <td>15.441</td>\n",
       "      <td>float64</td>\n",
       "    </tr>\n",
       "    <tr>\n",
       "      <th>lat-lon</th>\n",
       "      <td>51550</td>\n",
       "      <td>42.526</td>\n",
       "      <td>object</td>\n",
       "    </tr>\n",
       "    <tr>\n",
       "      <th>lat</th>\n",
       "      <td>7007</td>\n",
       "      <td>5.780</td>\n",
       "      <td>float64</td>\n",
       "    </tr>\n",
       "    <tr>\n",
       "      <th>lon</th>\n",
       "      <td>7007</td>\n",
       "      <td>5.780</td>\n",
       "      <td>float64</td>\n",
       "    </tr>\n",
       "    <tr>\n",
       "      <th>price</th>\n",
       "      <td>20410</td>\n",
       "      <td>16.837</td>\n",
       "      <td>float64</td>\n",
       "    </tr>\n",
       "    <tr>\n",
       "      <th>currency</th>\n",
       "      <td>0</td>\n",
       "      <td>0.000</td>\n",
       "      <td>object</td>\n",
       "    </tr>\n",
       "    <tr>\n",
       "      <th>price_aprox_local_currency</th>\n",
       "      <td>20410</td>\n",
       "      <td>16.837</td>\n",
       "      <td>float64</td>\n",
       "    </tr>\n",
       "    <tr>\n",
       "      <th>price_aprox_usd</th>\n",
       "      <td>20410</td>\n",
       "      <td>16.837</td>\n",
       "      <td>float64</td>\n",
       "    </tr>\n",
       "    <tr>\n",
       "      <th>surface_total_in_m2</th>\n",
       "      <td>39328</td>\n",
       "      <td>32.443</td>\n",
       "      <td>float64</td>\n",
       "    </tr>\n",
       "    <tr>\n",
       "      <th>surface_covered_in_m2</th>\n",
       "      <td>19907</td>\n",
       "      <td>16.422</td>\n",
       "      <td>float64</td>\n",
       "    </tr>\n",
       "    <tr>\n",
       "      <th>price_usd_per_m2</th>\n",
       "      <td>52354</td>\n",
       "      <td>43.189</td>\n",
       "      <td>float64</td>\n",
       "    </tr>\n",
       "    <tr>\n",
       "      <th>price_per_m2</th>\n",
       "      <td>33562</td>\n",
       "      <td>27.687</td>\n",
       "      <td>float64</td>\n",
       "    </tr>\n",
       "    <tr>\n",
       "      <th>rooms</th>\n",
       "      <td>32912</td>\n",
       "      <td>27.151</td>\n",
       "      <td>float64</td>\n",
       "    </tr>\n",
       "    <tr>\n",
       "      <th>properati_url</th>\n",
       "      <td>0</td>\n",
       "      <td>0.000</td>\n",
       "      <td>object</td>\n",
       "    </tr>\n",
       "    <tr>\n",
       "      <th>description</th>\n",
       "      <td>0</td>\n",
       "      <td>0.000</td>\n",
       "      <td>object</td>\n",
       "    </tr>\n",
       "    <tr>\n",
       "      <th>title</th>\n",
       "      <td>0</td>\n",
       "      <td>0.000</td>\n",
       "      <td>object</td>\n",
       "    </tr>\n",
       "    <tr>\n",
       "      <th>ciudad</th>\n",
       "      <td>0</td>\n",
       "      <td>0.000</td>\n",
       "      <td>object</td>\n",
       "    </tr>\n",
       "    <tr>\n",
       "      <th>barrio</th>\n",
       "      <td>0</td>\n",
       "      <td>0.000</td>\n",
       "      <td>object</td>\n",
       "    </tr>\n",
       "  </tbody>\n",
       "</table>\n",
       "</div>"
      ],
      "text/plain": [
       "                             Null  % Null    Types\n",
       "property_type                   0   0.000   object\n",
       "place_name                      0   0.000   object\n",
       "place_with_parent_names         0   0.000   object\n",
       "state_name                      0   0.000   object\n",
       "geonames_id                 18717  15.441  float64\n",
       "lat-lon                     51550  42.526   object\n",
       "lat                          7007   5.780  float64\n",
       "lon                          7007   5.780  float64\n",
       "price                       20410  16.837  float64\n",
       "currency                        0   0.000   object\n",
       "price_aprox_local_currency  20410  16.837  float64\n",
       "price_aprox_usd             20410  16.837  float64\n",
       "surface_total_in_m2         39328  32.443  float64\n",
       "surface_covered_in_m2       19907  16.422  float64\n",
       "price_usd_per_m2            52354  43.189  float64\n",
       "price_per_m2                33562  27.687  float64\n",
       "rooms                       32912  27.151  float64\n",
       "properati_url                   0   0.000   object\n",
       "description                     0   0.000   object\n",
       "title                           0   0.000   object\n",
       "ciudad                          0   0.000   object\n",
       "barrio                          0   0.000   object"
      ]
     },
     "execution_count": 57,
     "metadata": {},
     "output_type": "execute_result"
    }
   ],
   "source": [
    "dataset=describe_data(cols=data.columns,data=data)\n",
    "dataset\n"
   ]
  },
  {
   "cell_type": "code",
   "execution_count": 58,
   "id": "1128e22f",
   "metadata": {},
   "outputs": [
    {
     "data": {
      "text/plain": [
       "(121220, 22)"
      ]
     },
     "execution_count": 58,
     "metadata": {},
     "output_type": "execute_result"
    }
   ],
   "source": [
    "data.shape"
   ]
  },
  {
   "cell_type": "code",
   "execution_count": 59,
   "id": "5c5ebe94",
   "metadata": {},
   "outputs": [
    {
     "data": {
      "text/html": [
       "<div>\n",
       "<style scoped>\n",
       "    .dataframe tbody tr th:only-of-type {\n",
       "        vertical-align: middle;\n",
       "    }\n",
       "\n",
       "    .dataframe tbody tr th {\n",
       "        vertical-align: top;\n",
       "    }\n",
       "\n",
       "    .dataframe thead th {\n",
       "        text-align: right;\n",
       "    }\n",
       "</style>\n",
       "<table border=\"1\" class=\"dataframe\">\n",
       "  <thead>\n",
       "    <tr style=\"text-align: right;\">\n",
       "      <th></th>\n",
       "      <th></th>\n",
       "      <th>price_usd_per_m2</th>\n",
       "    </tr>\n",
       "    <tr>\n",
       "      <th>state_name</th>\n",
       "      <th>barrio</th>\n",
       "      <th></th>\n",
       "    </tr>\n",
       "  </thead>\n",
       "  <tbody>\n",
       "    <tr>\n",
       "      <th rowspan=\"5\" valign=\"top\">Bs.As. G.B.A. Zona Norte</th>\n",
       "      <th></th>\n",
       "      <td>2027.674620</td>\n",
       "    </tr>\n",
       "    <tr>\n",
       "      <th>Country Maschwitz Club</th>\n",
       "      <td>1369.986720</td>\n",
       "    </tr>\n",
       "    <tr>\n",
       "      <th>los alamos</th>\n",
       "      <td>1600.000000</td>\n",
       "    </tr>\n",
       "    <tr>\n",
       "      <th>Acacias Blancas</th>\n",
       "      <td>1181.861023</td>\n",
       "    </tr>\n",
       "    <tr>\n",
       "      <th>Acassuso</th>\n",
       "      <td>2062.722980</td>\n",
       "    </tr>\n",
       "    <tr>\n",
       "      <th>...</th>\n",
       "      <th>...</th>\n",
       "      <td>...</td>\n",
       "    </tr>\n",
       "    <tr>\n",
       "      <th rowspan=\"5\" valign=\"top\">TucumÃ¡n</th>\n",
       "      <th>TafÃ­ Viejo</th>\n",
       "      <td>716.978807</td>\n",
       "    </tr>\n",
       "    <tr>\n",
       "      <th>TafÃ­ del Valle</th>\n",
       "      <td>569.477620</td>\n",
       "    </tr>\n",
       "    <tr>\n",
       "      <th>TucumÃ¡n</th>\n",
       "      <td>636.118219</td>\n",
       "    </tr>\n",
       "    <tr>\n",
       "      <th>Villa Belgrano</th>\n",
       "      <td>NaN</td>\n",
       "    </tr>\n",
       "    <tr>\n",
       "      <th>Yerba Buena</th>\n",
       "      <td>958.932482</td>\n",
       "    </tr>\n",
       "  </tbody>\n",
       "</table>\n",
       "<p>1099 rows × 1 columns</p>\n",
       "</div>"
      ],
      "text/plain": [
       "                                                  price_usd_per_m2\n",
       "state_name               barrio                                   \n",
       "Bs.As. G.B.A. Zona Norte                               2027.674620\n",
       "                          Country Maschwitz Club       1369.986720\n",
       "                          los alamos                   1600.000000\n",
       "                         Acacias Blancas               1181.861023\n",
       "                         Acassuso                      2062.722980\n",
       "...                                                            ...\n",
       "TucumÃ¡n                 TafÃ­ Viejo                    716.978807\n",
       "                         TafÃ­ del Valle                569.477620\n",
       "                         TucumÃ¡n                       636.118219\n",
       "                         Villa Belgrano                        NaN\n",
       "                         Yerba Buena                    958.932482\n",
       "\n",
       "[1099 rows x 1 columns]"
      ]
     },
     "execution_count": 59,
     "metadata": {},
     "output_type": "execute_result"
    }
   ],
   "source": [
    "#Calculo el valor medio por barrio\n",
    "Valor_medio = data.groupby(['state_name','barrio'])['price_usd_per_m2'].mean()\n",
    "Valor_medio\n",
    "pd.DataFrame(Valor_medio)\n"
   ]
  },
  {
   "cell_type": "code",
   "execution_count": 60,
   "id": "263d658c",
   "metadata": {},
   "outputs": [],
   "source": [
    "data = pd.merge(data, Valor_medio, how='left', on='barrio') #Creo una columna auxiliar en el dataframe con los datos nuevos"
   ]
  },
  {
   "cell_type": "code",
   "execution_count": 61,
   "id": "ea699070",
   "metadata": {},
   "outputs": [],
   "source": [
    "#data.shape"
   ]
  },
  {
   "cell_type": "code",
   "execution_count": 62,
   "id": "892876cc",
   "metadata": {},
   "outputs": [
    {
     "data": {
      "text/html": [
       "<div>\n",
       "<style scoped>\n",
       "    .dataframe tbody tr th:only-of-type {\n",
       "        vertical-align: middle;\n",
       "    }\n",
       "\n",
       "    .dataframe tbody tr th {\n",
       "        vertical-align: top;\n",
       "    }\n",
       "\n",
       "    .dataframe thead th {\n",
       "        text-align: right;\n",
       "    }\n",
       "</style>\n",
       "<table border=\"1\" class=\"dataframe\">\n",
       "  <thead>\n",
       "    <tr style=\"text-align: right;\">\n",
       "      <th></th>\n",
       "      <th>property_type</th>\n",
       "      <th>place_name</th>\n",
       "      <th>place_with_parent_names</th>\n",
       "      <th>state_name</th>\n",
       "      <th>geonames_id</th>\n",
       "      <th>lat-lon</th>\n",
       "      <th>lat</th>\n",
       "      <th>lon</th>\n",
       "      <th>price</th>\n",
       "      <th>currency</th>\n",
       "      <th>...</th>\n",
       "      <th>surface_covered_in_m2</th>\n",
       "      <th>price_usd_per_m2_x</th>\n",
       "      <th>price_per_m2</th>\n",
       "      <th>rooms</th>\n",
       "      <th>properati_url</th>\n",
       "      <th>description</th>\n",
       "      <th>title</th>\n",
       "      <th>ciudad</th>\n",
       "      <th>barrio</th>\n",
       "      <th>price_usd_per_m2</th>\n",
       "    </tr>\n",
       "  </thead>\n",
       "  <tbody>\n",
       "    <tr>\n",
       "      <th>0</th>\n",
       "      <td>PH</td>\n",
       "      <td>Mataderos</td>\n",
       "      <td>|Argentina|Capital Federal|Mataderos|</td>\n",
       "      <td>Capital Federal</td>\n",
       "      <td>3430787.0</td>\n",
       "      <td>-34.6618237,-58.5088387</td>\n",
       "      <td>-34.661824</td>\n",
       "      <td>-58.508839</td>\n",
       "      <td>62000.0</td>\n",
       "      <td>USD</td>\n",
       "      <td>...</td>\n",
       "      <td>40.0</td>\n",
       "      <td>1127.272727</td>\n",
       "      <td>1550.000000</td>\n",
       "      <td>2.0</td>\n",
       "      <td>http://www.properati.com.ar/15bo8_venta_ph_mat...</td>\n",
       "      <td>2 AMBIENTES TIPO CASA PLANTA BAJA POR PASILLO,...</td>\n",
       "      <td>2 AMB TIPO CASA SIN EXPENSAS EN PB</td>\n",
       "      <td>Mataderos</td>\n",
       "      <td>Mataderos</td>\n",
       "      <td>1552.250025</td>\n",
       "    </tr>\n",
       "    <tr>\n",
       "      <th>1</th>\n",
       "      <td>apartment</td>\n",
       "      <td>La Plata</td>\n",
       "      <td>|Argentina|Bs.As. G.B.A. Zona Sur|La Plata|</td>\n",
       "      <td>Bs.As. G.B.A. Zona Sur</td>\n",
       "      <td>3432039.0</td>\n",
       "      <td>-34.9038831,-57.9643295</td>\n",
       "      <td>-34.903883</td>\n",
       "      <td>-57.964330</td>\n",
       "      <td>150000.0</td>\n",
       "      <td>USD</td>\n",
       "      <td>...</td>\n",
       "      <td>NaN</td>\n",
       "      <td>1584.960195</td>\n",
       "      <td>NaN</td>\n",
       "      <td>NaN</td>\n",
       "      <td>http://www.properati.com.ar/15bob_venta_depart...</td>\n",
       "      <td>Venta de departamento en dÃ©cimo piso al frent...</td>\n",
       "      <td>VENTA Depto 2 dorm. a estrenar 7 e/ 36 y 37   ...</td>\n",
       "      <td>La Plata</td>\n",
       "      <td>La Plata</td>\n",
       "      <td>1584.960195</td>\n",
       "    </tr>\n",
       "    <tr>\n",
       "      <th>2</th>\n",
       "      <td>apartment</td>\n",
       "      <td>Mataderos</td>\n",
       "      <td>|Argentina|Capital Federal|Mataderos|</td>\n",
       "      <td>Capital Federal</td>\n",
       "      <td>3430787.0</td>\n",
       "      <td>-34.6522615,-58.5229825</td>\n",
       "      <td>-34.652262</td>\n",
       "      <td>-58.522982</td>\n",
       "      <td>72000.0</td>\n",
       "      <td>USD</td>\n",
       "      <td>...</td>\n",
       "      <td>55.0</td>\n",
       "      <td>1309.090909</td>\n",
       "      <td>1309.090909</td>\n",
       "      <td>2.0</td>\n",
       "      <td>http://www.properati.com.ar/15bod_venta_depart...</td>\n",
       "      <td>2 AMBIENTES 3ER PISO LATERAL LIVING COMEDOR AM...</td>\n",
       "      <td>2 AMB 3ER PISO CON ASCENSOR APTO CREDITO</td>\n",
       "      <td>Mataderos</td>\n",
       "      <td>Mataderos</td>\n",
       "      <td>1552.250025</td>\n",
       "    </tr>\n",
       "    <tr>\n",
       "      <th>3</th>\n",
       "      <td>PH</td>\n",
       "      <td>Liniers</td>\n",
       "      <td>|Argentina|Capital Federal|Liniers|</td>\n",
       "      <td>Capital Federal</td>\n",
       "      <td>3431333.0</td>\n",
       "      <td>-34.6477969,-58.5164244</td>\n",
       "      <td>-34.647797</td>\n",
       "      <td>-58.516424</td>\n",
       "      <td>95000.0</td>\n",
       "      <td>USD</td>\n",
       "      <td>...</td>\n",
       "      <td>NaN</td>\n",
       "      <td>1803.908335</td>\n",
       "      <td>NaN</td>\n",
       "      <td>3.0</td>\n",
       "      <td>http://www.properati.com.ar/15boh_venta_ph_lin...</td>\n",
       "      <td>PH 3 ambientes con patio. Hay 3 deptos en lote...</td>\n",
       "      <td>PH 3 amb. cfte. reciclado</td>\n",
       "      <td>Liniers</td>\n",
       "      <td>Liniers</td>\n",
       "      <td>1803.908335</td>\n",
       "    </tr>\n",
       "    <tr>\n",
       "      <th>4</th>\n",
       "      <td>apartment</td>\n",
       "      <td>Centro</td>\n",
       "      <td>|Argentina|Buenos Aires Costa AtlÃ¡ntica|Mar d...</td>\n",
       "      <td>Buenos Aires Costa AtlÃ¡ntica</td>\n",
       "      <td>3435548.0</td>\n",
       "      <td>-38.0026256,-57.5494468</td>\n",
       "      <td>-38.002626</td>\n",
       "      <td>-57.549447</td>\n",
       "      <td>64000.0</td>\n",
       "      <td>USD</td>\n",
       "      <td>...</td>\n",
       "      <td>35.0</td>\n",
       "      <td>1828.571429</td>\n",
       "      <td>1828.571429</td>\n",
       "      <td>1.0</td>\n",
       "      <td>http://www.properati.com.ar/15bok_venta_depart...</td>\n",
       "      <td>DEPARTAMENTO CON FANTÃSTICA ILUMINACIÃN NATU...</td>\n",
       "      <td>DEPTO 2 AMB AL CONTRAFRENTE ZONA CENTRO/PLAZA ...</td>\n",
       "      <td>Mar del Plata</td>\n",
       "      <td>Centro</td>\n",
       "      <td>1867.158914</td>\n",
       "    </tr>\n",
       "  </tbody>\n",
       "</table>\n",
       "<p>5 rows × 23 columns</p>\n",
       "</div>"
      ],
      "text/plain": [
       "  property_type place_name                            place_with_parent_names  \\\n",
       "0            PH  Mataderos              |Argentina|Capital Federal|Mataderos|   \n",
       "1     apartment   La Plata        |Argentina|Bs.As. G.B.A. Zona Sur|La Plata|   \n",
       "2     apartment  Mataderos              |Argentina|Capital Federal|Mataderos|   \n",
       "3            PH    Liniers                |Argentina|Capital Federal|Liniers|   \n",
       "4     apartment     Centro  |Argentina|Buenos Aires Costa AtlÃ¡ntica|Mar d...   \n",
       "\n",
       "                      state_name  geonames_id                  lat-lon  \\\n",
       "0                Capital Federal    3430787.0  -34.6618237,-58.5088387   \n",
       "1         Bs.As. G.B.A. Zona Sur    3432039.0  -34.9038831,-57.9643295   \n",
       "2                Capital Federal    3430787.0  -34.6522615,-58.5229825   \n",
       "3                Capital Federal    3431333.0  -34.6477969,-58.5164244   \n",
       "4  Buenos Aires Costa AtlÃ¡ntica    3435548.0  -38.0026256,-57.5494468   \n",
       "\n",
       "         lat        lon     price currency  ...  surface_covered_in_m2  \\\n",
       "0 -34.661824 -58.508839   62000.0      USD  ...                   40.0   \n",
       "1 -34.903883 -57.964330  150000.0      USD  ...                    NaN   \n",
       "2 -34.652262 -58.522982   72000.0      USD  ...                   55.0   \n",
       "3 -34.647797 -58.516424   95000.0      USD  ...                    NaN   \n",
       "4 -38.002626 -57.549447   64000.0      USD  ...                   35.0   \n",
       "\n",
       "   price_usd_per_m2_x  price_per_m2  rooms  \\\n",
       "0         1127.272727   1550.000000    2.0   \n",
       "1         1584.960195           NaN    NaN   \n",
       "2         1309.090909   1309.090909    2.0   \n",
       "3         1803.908335           NaN    3.0   \n",
       "4         1828.571429   1828.571429    1.0   \n",
       "\n",
       "                                       properati_url  \\\n",
       "0  http://www.properati.com.ar/15bo8_venta_ph_mat...   \n",
       "1  http://www.properati.com.ar/15bob_venta_depart...   \n",
       "2  http://www.properati.com.ar/15bod_venta_depart...   \n",
       "3  http://www.properati.com.ar/15boh_venta_ph_lin...   \n",
       "4  http://www.properati.com.ar/15bok_venta_depart...   \n",
       "\n",
       "                                         description  \\\n",
       "0  2 AMBIENTES TIPO CASA PLANTA BAJA POR PASILLO,...   \n",
       "1  Venta de departamento en dÃ©cimo piso al frent...   \n",
       "2  2 AMBIENTES 3ER PISO LATERAL LIVING COMEDOR AM...   \n",
       "3  PH 3 ambientes con patio. Hay 3 deptos en lote...   \n",
       "4  DEPARTAMENTO CON FANTÃSTICA ILUMINACIÃN NATU...   \n",
       "\n",
       "                                               title         ciudad  \\\n",
       "0                 2 AMB TIPO CASA SIN EXPENSAS EN PB      Mataderos   \n",
       "1  VENTA Depto 2 dorm. a estrenar 7 e/ 36 y 37   ...       La Plata   \n",
       "2           2 AMB 3ER PISO CON ASCENSOR APTO CREDITO      Mataderos   \n",
       "3                       PH 3 amb. cfte. reciclado           Liniers   \n",
       "4  DEPTO 2 AMB AL CONTRAFRENTE ZONA CENTRO/PLAZA ...  Mar del Plata   \n",
       "\n",
       "      barrio price_usd_per_m2  \n",
       "0  Mataderos      1552.250025  \n",
       "1   La Plata      1584.960195  \n",
       "2  Mataderos      1552.250025  \n",
       "3    Liniers      1803.908335  \n",
       "4     Centro      1867.158914  \n",
       "\n",
       "[5 rows x 23 columns]"
      ]
     },
     "execution_count": 62,
     "metadata": {},
     "output_type": "execute_result"
    }
   ],
   "source": [
    "#Reemplazo los nulls de price_usd_per_m2 con los valores de la columna auxiliar\n",
    "data[\"price_usd_per_m2_x\"].fillna(data[\"price_usd_per_m2_y\"], inplace = True)\n",
    "\n",
    "data.rename(columns={\"price_usd_per_m2_y\": \"price_usd_per_m2\"},inplace = True)\n",
    "\n",
    "data.head(5)"
   ]
  },
  {
   "cell_type": "code",
   "execution_count": 63,
   "id": "f4c36577",
   "metadata": {},
   "outputs": [
    {
     "data": {
      "text/html": [
       "<div>\n",
       "<style scoped>\n",
       "    .dataframe tbody tr th:only-of-type {\n",
       "        vertical-align: middle;\n",
       "    }\n",
       "\n",
       "    .dataframe tbody tr th {\n",
       "        vertical-align: top;\n",
       "    }\n",
       "\n",
       "    .dataframe thead th {\n",
       "        text-align: right;\n",
       "    }\n",
       "</style>\n",
       "<table border=\"1\" class=\"dataframe\">\n",
       "  <thead>\n",
       "    <tr style=\"text-align: right;\">\n",
       "      <th></th>\n",
       "      <th>Null</th>\n",
       "      <th>% Null</th>\n",
       "      <th>Types</th>\n",
       "    </tr>\n",
       "  </thead>\n",
       "  <tbody>\n",
       "    <tr>\n",
       "      <th>property_type</th>\n",
       "      <td>0</td>\n",
       "      <td>0.000</td>\n",
       "      <td>object</td>\n",
       "    </tr>\n",
       "    <tr>\n",
       "      <th>place_name</th>\n",
       "      <td>0</td>\n",
       "      <td>0.000</td>\n",
       "      <td>object</td>\n",
       "    </tr>\n",
       "    <tr>\n",
       "      <th>place_with_parent_names</th>\n",
       "      <td>0</td>\n",
       "      <td>0.000</td>\n",
       "      <td>object</td>\n",
       "    </tr>\n",
       "    <tr>\n",
       "      <th>state_name</th>\n",
       "      <td>0</td>\n",
       "      <td>0.000</td>\n",
       "      <td>object</td>\n",
       "    </tr>\n",
       "    <tr>\n",
       "      <th>geonames_id</th>\n",
       "      <td>19939</td>\n",
       "      <td>15.241</td>\n",
       "      <td>float64</td>\n",
       "    </tr>\n",
       "    <tr>\n",
       "      <th>lat-lon</th>\n",
       "      <td>55985</td>\n",
       "      <td>42.794</td>\n",
       "      <td>object</td>\n",
       "    </tr>\n",
       "    <tr>\n",
       "      <th>lat</th>\n",
       "      <td>7401</td>\n",
       "      <td>5.657</td>\n",
       "      <td>float64</td>\n",
       "    </tr>\n",
       "    <tr>\n",
       "      <th>lon</th>\n",
       "      <td>7401</td>\n",
       "      <td>5.657</td>\n",
       "      <td>float64</td>\n",
       "    </tr>\n",
       "    <tr>\n",
       "      <th>price</th>\n",
       "      <td>21955</td>\n",
       "      <td>16.782</td>\n",
       "      <td>float64</td>\n",
       "    </tr>\n",
       "    <tr>\n",
       "      <th>currency</th>\n",
       "      <td>0</td>\n",
       "      <td>0.000</td>\n",
       "      <td>object</td>\n",
       "    </tr>\n",
       "    <tr>\n",
       "      <th>price_aprox_local_currency</th>\n",
       "      <td>21955</td>\n",
       "      <td>16.782</td>\n",
       "      <td>float64</td>\n",
       "    </tr>\n",
       "    <tr>\n",
       "      <th>price_aprox_usd</th>\n",
       "      <td>21955</td>\n",
       "      <td>16.782</td>\n",
       "      <td>float64</td>\n",
       "    </tr>\n",
       "    <tr>\n",
       "      <th>surface_total_in_m2</th>\n",
       "      <td>42057</td>\n",
       "      <td>32.148</td>\n",
       "      <td>float64</td>\n",
       "    </tr>\n",
       "    <tr>\n",
       "      <th>surface_covered_in_m2</th>\n",
       "      <td>21066</td>\n",
       "      <td>16.102</td>\n",
       "      <td>float64</td>\n",
       "    </tr>\n",
       "    <tr>\n",
       "      <th>price_usd_per_m2_x</th>\n",
       "      <td>2838</td>\n",
       "      <td>2.169</td>\n",
       "      <td>float64</td>\n",
       "    </tr>\n",
       "    <tr>\n",
       "      <th>price_per_m2</th>\n",
       "      <td>35921</td>\n",
       "      <td>27.457</td>\n",
       "      <td>float64</td>\n",
       "    </tr>\n",
       "    <tr>\n",
       "      <th>rooms</th>\n",
       "      <td>35610</td>\n",
       "      <td>27.220</td>\n",
       "      <td>float64</td>\n",
       "    </tr>\n",
       "    <tr>\n",
       "      <th>properati_url</th>\n",
       "      <td>0</td>\n",
       "      <td>0.000</td>\n",
       "      <td>object</td>\n",
       "    </tr>\n",
       "    <tr>\n",
       "      <th>description</th>\n",
       "      <td>0</td>\n",
       "      <td>0.000</td>\n",
       "      <td>object</td>\n",
       "    </tr>\n",
       "    <tr>\n",
       "      <th>title</th>\n",
       "      <td>0</td>\n",
       "      <td>0.000</td>\n",
       "      <td>object</td>\n",
       "    </tr>\n",
       "    <tr>\n",
       "      <th>ciudad</th>\n",
       "      <td>0</td>\n",
       "      <td>0.000</td>\n",
       "      <td>object</td>\n",
       "    </tr>\n",
       "    <tr>\n",
       "      <th>barrio</th>\n",
       "      <td>0</td>\n",
       "      <td>0.000</td>\n",
       "      <td>object</td>\n",
       "    </tr>\n",
       "    <tr>\n",
       "      <th>price_usd_per_m2</th>\n",
       "      <td>5355</td>\n",
       "      <td>4.093</td>\n",
       "      <td>float64</td>\n",
       "    </tr>\n",
       "  </tbody>\n",
       "</table>\n",
       "</div>"
      ],
      "text/plain": [
       "                             Null  % Null    Types\n",
       "property_type                   0   0.000   object\n",
       "place_name                      0   0.000   object\n",
       "place_with_parent_names         0   0.000   object\n",
       "state_name                      0   0.000   object\n",
       "geonames_id                 19939  15.241  float64\n",
       "lat-lon                     55985  42.794   object\n",
       "lat                          7401   5.657  float64\n",
       "lon                          7401   5.657  float64\n",
       "price                       21955  16.782  float64\n",
       "currency                        0   0.000   object\n",
       "price_aprox_local_currency  21955  16.782  float64\n",
       "price_aprox_usd             21955  16.782  float64\n",
       "surface_total_in_m2         42057  32.148  float64\n",
       "surface_covered_in_m2       21066  16.102  float64\n",
       "price_usd_per_m2_x           2838   2.169  float64\n",
       "price_per_m2                35921  27.457  float64\n",
       "rooms                       35610  27.220  float64\n",
       "properati_url                   0   0.000   object\n",
       "description                     0   0.000   object\n",
       "title                           0   0.000   object\n",
       "ciudad                          0   0.000   object\n",
       "barrio                          0   0.000   object\n",
       "price_usd_per_m2             5355   4.093  float64"
      ]
     },
     "execution_count": 63,
     "metadata": {},
     "output_type": "execute_result"
    }
   ],
   "source": [
    "dataset=describe_data(cols=data.columns,data=data)\n",
    "dataset"
   ]
  },
  {
   "cell_type": "code",
   "execution_count": 64,
   "id": "da974ba4",
   "metadata": {},
   "outputs": [
    {
     "data": {
      "text/plain": [
       "Capital Federal                  26.243455\n",
       "Bs.As. G.B.A. Zona Norte         22.131091\n",
       "Bs.As. G.B.A. Zona Sur           11.237149\n",
       "CÃ³rdoba                          9.376648\n",
       "Bs.As. G.B.A. Zona Oeste          8.535830\n",
       "Santa Fe                          7.990827\n",
       "Buenos Aires Costa AtlÃ¡ntica     7.834894\n",
       "Buenos Aires Interior             1.754252\n",
       "Corrientes                        0.836232\n",
       "Mendoza                           0.648194\n",
       "RÃ­o Negro                        0.617619\n",
       "NeuquÃ©n                          0.560290\n",
       "TucumÃ¡n                          0.515192\n",
       "Misiones                          0.356201\n",
       "Entre RÃ­os                       0.301166\n",
       "San Luis                          0.282056\n",
       "Salta                             0.212498\n",
       "Chubut                            0.201032\n",
       "La Pampa                          0.120008\n",
       "San Juan                          0.063444\n",
       "Formosa                           0.049685\n",
       "Chaco                             0.043570\n",
       "Tierra Del Fuego                  0.023696\n",
       "Catamarca                         0.023696\n",
       "Jujuy                             0.019874\n",
       "Santa Cruz                        0.015288\n",
       "Santiago Del Estero               0.003058\n",
       "La Rioja                          0.003058\n",
       "Name: state_name, dtype: float64"
      ]
     },
     "execution_count": 64,
     "metadata": {},
     "output_type": "execute_result"
    }
   ],
   "source": [
    "# Vemos la cantidad de registros que hay de cada provincia/localidad, agregando una columna \"total por provincia\".\n",
    "grouped_by_state = data.groupby(\"state_name\").size().reset_index(name=\"Total_por_provincia\")\n",
    "grouped_by_state\n",
    "#Calculamos la frecuencia de cada provincia en proporción al total:\n",
    "data_por_state = data[\"state_name\"]\n",
    "proportions = 100. * data_por_state.value_counts() / len(data_por_state)\n",
    "proportions"
   ]
  },
  {
   "cell_type": "code",
   "execution_count": 65,
   "id": "a57a6045",
   "metadata": {},
   "outputs": [],
   "source": [
    "#Corregimos los nombres de las provincias en la columna \"state_name\" utilizando diccionarios:\n",
    "values_to_replace = {'CÃ³rdoba':'Córdoba', 'Buenos Aires Costa AtlÃ¡ntica':'Buenos Aires Costa Atlántica', 'RÃo Negro':'Río Negro', \"TucumÃ¡n\":\"Tucumán\", \"NeuquÃ©n\":\"Neuquén\", \"Entre RÃos\":\"Entre Ríos\",\n",
    "                    \"Capital Federal\":\"Capital Federal\", \"Bs.As. G.B.A. Zona Sur\":\"Bs.As. G.B.A. Zona Sur\", \"Santa Fe\":\"Santa Fé\", \"Bs.As. G.B.A. Zona Oeste\":\"Bs.As. G.B.A. Zona Oeste\", \n",
    "                    \"Buenos Aires Interior\":\"Buenos Aires Interior\", \"Mendoza\":\"Mendoza\", \"Misiones\":\"Misiones\", \"Chubut\":\"Chubut\", \"San Luis\":\"San Luis\",\n",
    "                    \"Corrientes\":\"Corrientes\", \"Salta\":\"Salta\", \"La Pampa\":\"La Pampa\", \"Chaco\":\"Chaco\", \"San Juan\":\"San Juan\", \"Catamarca\":\"Catamarca\",\n",
    "                    \"Santa Cruz\":\"Santa Cruz\", \"Tierra Del Fuego\":\"Tierra Del Fuego\", \"Jujuy\":\"Jujuy\", \"Formosa\":\"Formosa\", \"Santiago Del Estero\":\"Santiago Del Estero\",\n",
    "                    \"La Rioja\":\"La Rioja\"}"
   ]
  },
  {
   "cell_type": "code",
   "execution_count": 66,
   "id": "f3fecfef",
   "metadata": {},
   "outputs": [
    {
     "data": {
      "text/plain": [
       "Capital Federal                 34333\n",
       "Bs.As. G.B.A. Zona Sur          14701\n",
       "Córdoba                         12267\n",
       "Bs.As. G.B.A. Zona Oeste        11167\n",
       "Santa Fé                        10454\n",
       "Buenos Aires Costa Atlántica    10250\n",
       "Buenos Aires Interior            2295\n",
       "Corrientes                       1094\n",
       "Mendoza                           848\n",
       "Neuquén                           733\n",
       "Tucumán                           674\n",
       "Misiones                          466\n",
       "San Luis                          369\n",
       "Salta                             278\n",
       "Chubut                            263\n",
       "La Pampa                          157\n",
       "San Juan                           83\n",
       "Formosa                            65\n",
       "Chaco                              57\n",
       "Catamarca                          31\n",
       "Tierra Del Fuego                   31\n",
       "Jujuy                              26\n",
       "Santa Cruz                         20\n",
       "La Rioja                            4\n",
       "Santiago Del Estero                 4\n",
       "Name: state_name, dtype: int64"
      ]
     },
     "execution_count": 66,
     "metadata": {},
     "output_type": "execute_result"
    }
   ],
   "source": [
    "# A continuación usamos el método map para sustituir los nuevos valores acordes al último diccionario:\n",
    "data[\"state_name\"] = data['state_name'].map(values_to_replace)\n",
    "data[\"state_name\"].value_counts()"
   ]
  },
  {
   "cell_type": "code",
   "execution_count": 67,
   "id": "803b7b78",
   "metadata": {},
   "outputs": [
    {
     "data": {
      "text/plain": [
       "<AxesSubplot:xlabel='state_name', ylabel='Count'>"
      ]
     },
     "execution_count": 67,
     "metadata": {},
     "output_type": "execute_result"
    },
    {
     "data": {
      "image/png": "[encoded data removed]",
      "text/plain": [
       "<Figure size 432x288 with 1 Axes>"
      ]
     },
     "metadata": {
      "needs_background": "light"
     },
     "output_type": "display_data"
    }
   ],
   "source": [
    "#armamos una máscara y reducimos el dataset quedandonos con datos de CABA, BA, Córdoba y Santa Fe\n",
    "freq_mask = proportions > 7\n",
    "final_states = proportions[freq_mask]\n",
    "states_list = list(final_states.index)\n",
    "mask_1 = data[\"state_name\"] == 'Capital Federal'\n",
    "mask_2 = data[\"state_name\"] == 'Bs.As. G.B.A. Zona Norte'\n",
    "mask_3 = data[\"state_name\"] == 'Bs.As. G.B.A. Zona Sur'\n",
    "mask_4 = data[\"state_name\"] == 'Bs.As. G.B.A. Zona Oeste'\n",
    "mask_5 = data[\"state_name\"] == 'Buenos Aires Costa Atlántica'\n",
    "mask_6 = data[\"state_name\"] == 'Santa Fé'\n",
    "mask_7 = data[\"state_name\"] == 'Córdoba'\n",
    "state_mask = mask_1 | mask_2 | mask_3 | mask_4 | mask_5 | mask_6 | mask_7\n",
    "filtered_data = data[state_mask]\n",
    "filtered_data.columns\n",
    "sns.histplot(filtered_data.state_name\n",
    "             , bins=400, alpha=1, edgecolor = 'black',  linewidth=2)"
   ]
  },
  {
   "cell_type": "code",
   "execution_count": 68,
   "id": "d10c30d9",
   "metadata": {},
   "outputs": [
    {
     "data": {
      "text/plain": [
       "(93172, 23)"
      ]
     },
     "execution_count": 68,
     "metadata": {},
     "output_type": "execute_result"
    }
   ],
   "source": [
    "filtered_data.shape\n",
    "#filtered_data.head(1)"
   ]
  },
  {
   "cell_type": "code",
   "execution_count": 69,
   "id": "d160ad2b",
   "metadata": {},
   "outputs": [],
   "source": [
    "#Evaluamos monedas aceptadas en la transacción \n",
    "#table_price = pd.pivot_table(filtered_data, index=['currency'], values=['price_aprox_local_currency'], aggfunc=['count'])\n",
    "#table_price"
   ]
  },
  {
   "cell_type": "code",
   "execution_count": 70,
   "id": "9f8e97dc",
   "metadata": {},
   "outputs": [
    {
     "name": "stderr",
     "output_type": "stream",
     "text": [
      "C:\\Users\\fox00\\anaconda3\\envs\\dhdsblend2021\\lib\\site-packages\\pandas\\core\\frame.py:4167: SettingWithCopyWarning: \n",
      "A value is trying to be set on a copy of a slice from a DataFrame\n",
      "\n",
      "See the caveats in the documentation: https://pandas.pydata.org/pandas-docs/stable/user_guide/indexing.html#returning-a-view-versus-a-copy\n",
      "  return super().drop(\n"
     ]
    },
    {
     "data": {
      "text/plain": [
       "0         USD\n",
       "1         USD\n",
       "2         USD\n",
       "3         USD\n",
       "4         USD\n",
       "         ... \n",
       "130819    USD\n",
       "130821    USD\n",
       "130822    USD\n",
       "130823    USD\n",
       "130824    USD\n",
       "Name: currency, Length: 65146, dtype: object"
      ]
     },
     "execution_count": 70,
     "metadata": {},
     "output_type": "execute_result"
    }
   ],
   "source": [
    "#Eliminamos monedas que no utilizadas con frecuencia en relación al peso y al dólar\n",
    "filtered_data.drop(filtered_data[filtered_data.currency=='PEN'].index, inplace=True)\n",
    "filtered_data.drop(filtered_data[filtered_data.currency=='PEN'].index, inplace=True)\n",
    "filtered_data.drop(filtered_data[filtered_data.currency=='ARS'].index, inplace=True)\n",
    "filtered_data.drop(filtered_data[filtered_data.currency=='nan'].index, inplace=True)\n",
    "\n",
    "filtered_data.currency"
   ]
  },
  {
   "cell_type": "code",
   "execution_count": 71,
   "id": "56589329",
   "metadata": {},
   "outputs": [],
   "source": [
    "#filtered_data.columns"
   ]
  },
  {
   "cell_type": "markdown",
   "id": "1f4eaf45",
   "metadata": {},
   "source": [
    "Preparamos los datos para evaluar los outliners"
   ]
  },
  {
   "cell_type": "code",
   "execution_count": 72,
   "id": "a66fb5be",
   "metadata": {},
   "outputs": [
    {
     "data": {
      "text/html": [
       "<div>\n",
       "<style scoped>\n",
       "    .dataframe tbody tr th:only-of-type {\n",
       "        vertical-align: middle;\n",
       "    }\n",
       "\n",
       "    .dataframe tbody tr th {\n",
       "        vertical-align: top;\n",
       "    }\n",
       "\n",
       "    .dataframe thead th {\n",
       "        text-align: right;\n",
       "    }\n",
       "</style>\n",
       "<table border=\"1\" class=\"dataframe\">\n",
       "  <thead>\n",
       "    <tr style=\"text-align: right;\">\n",
       "      <th></th>\n",
       "      <th>rooms</th>\n",
       "      <th>price</th>\n",
       "      <th>surface_total_in_m2</th>\n",
       "      <th>property_type</th>\n",
       "      <th>surface_covered_in_m2</th>\n",
       "      <th>price_usd_per_m2</th>\n",
       "    </tr>\n",
       "  </thead>\n",
       "  <tbody>\n",
       "    <tr>\n",
       "      <th>0</th>\n",
       "      <td>2.0</td>\n",
       "      <td>62000.0</td>\n",
       "      <td>55.0</td>\n",
       "      <td>PH</td>\n",
       "      <td>40.0</td>\n",
       "      <td>1552.250025</td>\n",
       "    </tr>\n",
       "    <tr>\n",
       "      <th>1</th>\n",
       "      <td>NaN</td>\n",
       "      <td>150000.0</td>\n",
       "      <td>NaN</td>\n",
       "      <td>apartment</td>\n",
       "      <td>NaN</td>\n",
       "      <td>1584.960195</td>\n",
       "    </tr>\n",
       "    <tr>\n",
       "      <th>2</th>\n",
       "      <td>2.0</td>\n",
       "      <td>72000.0</td>\n",
       "      <td>55.0</td>\n",
       "      <td>apartment</td>\n",
       "      <td>55.0</td>\n",
       "      <td>1552.250025</td>\n",
       "    </tr>\n",
       "    <tr>\n",
       "      <th>3</th>\n",
       "      <td>3.0</td>\n",
       "      <td>95000.0</td>\n",
       "      <td>NaN</td>\n",
       "      <td>PH</td>\n",
       "      <td>NaN</td>\n",
       "      <td>1803.908335</td>\n",
       "    </tr>\n",
       "    <tr>\n",
       "      <th>4</th>\n",
       "      <td>1.0</td>\n",
       "      <td>64000.0</td>\n",
       "      <td>35.0</td>\n",
       "      <td>apartment</td>\n",
       "      <td>35.0</td>\n",
       "      <td>1867.158914</td>\n",
       "    </tr>\n",
       "  </tbody>\n",
       "</table>\n",
       "</div>"
      ],
      "text/plain": [
       "   rooms     price  surface_total_in_m2 property_type  surface_covered_in_m2  \\\n",
       "0    2.0   62000.0                 55.0            PH                   40.0   \n",
       "1    NaN  150000.0                  NaN     apartment                    NaN   \n",
       "2    2.0   72000.0                 55.0     apartment                   55.0   \n",
       "3    3.0   95000.0                  NaN            PH                    NaN   \n",
       "4    1.0   64000.0                 35.0     apartment                   35.0   \n",
       "\n",
       "   price_usd_per_m2  \n",
       "0       1552.250025  \n",
       "1       1584.960195  \n",
       "2       1552.250025  \n",
       "3       1803.908335  \n",
       "4       1867.158914  "
      ]
     },
     "execution_count": 72,
     "metadata": {},
     "output_type": "execute_result"
    }
   ],
   "source": [
    "#Se seleccionan las columnas que se van a analizar\n",
    "new_data = data[['rooms','price','surface_total_in_m2','property_type','surface_covered_in_m2','price_usd_per_m2']]\n",
    "new_data.head()"
   ]
  },
  {
   "cell_type": "code",
   "execution_count": 73,
   "id": "bb39da34",
   "metadata": {},
   "outputs": [
    {
     "data": {
      "text/plain": [
       "Text(0.5, 8.95999999999998, 'Superficie total')"
      ]
     },
     "execution_count": 73,
     "metadata": {},
     "output_type": "execute_result"
    },
    {
     "data": {
      "image/png": "[encoded data removed]",
      "text/plain": [
       "<Figure size 360x360 with 1 Axes>"
      ]
     },
     "metadata": {},
     "output_type": "display_data"
    }
   ],
   "source": [
    "#Se grafica la distribución de la superficie total según los tipos de propiedades\n",
    "sns.set_theme(style=\"ticks\")\n",
    "sns.catplot(data = new_data, x = \"surface_total_in_m2\", y = \"property_type\")\n",
    "plt.title('Distribución de superficie total según el tipo de propiedad')\n",
    "plt.ylabel('Tipo de propiedad')\n",
    "plt.xlabel('Superficie total')"
   ]
  },
  {
   "cell_type": "code",
   "execution_count": 74,
   "id": "f2912c67",
   "metadata": {},
   "outputs": [
    {
     "data": {
      "text/plain": [
       "Text(0.5, 0, 'Superficie total')"
      ]
     },
     "execution_count": 74,
     "metadata": {},
     "output_type": "execute_result"
    },
    {
     "data": {
      "image/png": "[encoded data removed]",
      "text/plain": [
       "<Figure size 432x288 with 1 Axes>"
      ]
     },
     "metadata": {},
     "output_type": "display_data"
    }
   ],
   "source": [
    "#Según el gráfico anterior se puede analizar que la concentración de los datos se encuentra dentro del primer cuadrante (200.000 de superficie total)\n",
    "#Se grafican boxplots para analizar outliers\n",
    "sns.boxplot(data = new_data[new_data['surface_total_in_m2'] < 2000], y = \"property_type\", x = \"surface_total_in_m2\")\n",
    "plt.title('Grafico con un limite de superficie total de 2000')\n",
    "plt.ylabel('Tipo de propiedad')\n",
    "plt.xlabel('Superficie total')"
   ]
  },
  {
   "cell_type": "code",
   "execution_count": 75,
   "id": "12c6e37a",
   "metadata": {},
   "outputs": [
    {
     "data": {
      "text/plain": [
       "Text(0.5, 0, 'Superficie total')"
      ]
     },
     "execution_count": 75,
     "metadata": {},
     "output_type": "execute_result"
    },
    {
     "data": {
      "image/png": "[encoded data removed]",
      "text/plain": [
       "<Figure size 432x288 with 1 Axes>"
      ]
     },
     "metadata": {},
     "output_type": "display_data"
    }
   ],
   "source": [
    "#Se puede analizar que la propiedad con mayor superficie total \n",
    "sns.boxplot(data = new_data[new_data['surface_total_in_m2'] < 550], y = \"property_type\", x = \"surface_total_in_m2\")\n",
    "plt.title('Grafico con un limite de superficie total de 550')\n",
    "plt.ylabel('Tipo de propiedad')\n",
    "plt.xlabel('Superficie total')"
   ]
  },
  {
   "cell_type": "code",
   "execution_count": 76,
   "id": "833b1d17",
   "metadata": {},
   "outputs": [],
   "source": [
    "# Se crean nuevos dataset según el tipo de propiedad \n",
    "data_ph = new_data[new_data[\"property_type\"].isin(['PH'])]\n",
    "data_apartm = new_data[new_data[\"property_type\"].isin(['apartment'])]\n",
    "data_house = new_data[new_data[\"property_type\"].isin(['house'])]\n",
    "data_store = new_data[new_data[\"property_type\"].isin(['store'])]\n",
    "#data_ph\n",
    "#data_apartm"
   ]
  },
  {
   "cell_type": "code",
   "execution_count": 77,
   "id": "0ddcfffb",
   "metadata": {},
   "outputs": [],
   "source": [
    "def get_iqr_values(datafr_indx, colmn_name):\n",
    "    median = datafr_indx[colmn_name].median()\n",
    "    q1 = datafr_indx[colmn_name].quantile(0.25) # 1st quartile\n",
    "    q3 = datafr_indx[colmn_name].quantile(0.75) # 3rd quartile\n",
    "    iqr = (q3-q1)*1.5 #Interquantile range\n",
    "    minimum  = q1-iqr # The minimum value or the |- marker in the box plot\n",
    "    maximum = q3+iqr # The maximum value or the -| marker in the box plot\n",
    "    print(\"- Valor minimo:\", minimum)\n",
    "    print(\"- Valor maximo:\", maximum)\n",
    "    #por si queremos ver los valores antes y despues con describe\n",
    "    \n",
    "    #low_filt= (datafr_indx[colmn_name]>minimum)\n",
    "    #up_filt= (datafr_indx[colmn_name]>maximum)\n",
    "    #data_mask=np.logical_and(low_filt,up_filt)\n",
    "    #data_clean_up_down= datafr_indx[~data_mask]\n",
    "    #print(datafr_indx.describe())\n",
    "    #print(data_clean_up_down.describe())"
   ]
  },
  {
   "cell_type": "code",
   "execution_count": 78,
   "id": "9bc24306",
   "metadata": {},
   "outputs": [
    {
     "name": "stdout",
     "output_type": "stream",
     "text": [
      "Valores de tipo de propiedad PH:\n",
      "- Valor minimo: -56.5\n",
      "- Valor maximo: 259.5\n",
      "----------------------------------\n",
      "Valores de tipo de propiedad Apartm:\n",
      "- Valor minimo: -23.0\n",
      "- Valor maximo: 153.0\n",
      "----------------------------------\n",
      "Valores de tipo de propiedad House:\n",
      "- Valor minimo: -240.0\n",
      "- Valor maximo: 880.0\n",
      "----------------------------------\n",
      "Valores de tipo de propiedad Store:\n",
      "- Valor minimo: -397.5\n",
      "- Valor maximo: 822.5\n"
     ]
    }
   ],
   "source": [
    "#Se obtienen los valores maximos y minimos de cada propiedad\n",
    "print(\"Valores de tipo de propiedad PH:\")\n",
    "get_iqr_values(data_ph, 'surface_total_in_m2')\n",
    "print(\"----------------------------------\")\n",
    "print(\"Valores de tipo de propiedad Apartm:\")\n",
    "get_iqr_values(data_apartm, 'surface_total_in_m2')\n",
    "print(\"----------------------------------\")\n",
    "print(\"Valores de tipo de propiedad House:\")\n",
    "get_iqr_values(data_house, 'surface_total_in_m2')\n",
    "print(\"----------------------------------\")\n",
    "print(\"Valores de tipo de propiedad Store:\")\n",
    "get_iqr_values(data_store, 'surface_total_in_m2')"
   ]
  },
  {
   "cell_type": "code",
   "execution_count": 86,
   "id": "9a8405c2",
   "metadata": {},
   "outputs": [
    {
     "name": "stdout",
     "output_type": "stream",
     "text": [
      "Cantidad de propiedades de tipo PH antes de eliminar outliers (6281, 6)\n",
      "Cantidad de propiedades de tipo PH después de eliminar outliers (3731, 6)\n",
      "--------------------------------------------------------------------\n",
      "Cantidad de propiedades de tipo Apartm antes de eliminar outliers (75370, 6)\n",
      "Cantidad de propiedades de tipo Apartm después de eliminar outliers (50507, 6)\n",
      "--------------------------------------------------------------------\n",
      "Cantidad de propiedades de tipo House antes de eliminar outliers (44768, 6)\n",
      "Cantidad de propiedades de tipo House después de eliminar outliers (24796, 6)\n",
      "--------------------------------------------------------------------\n",
      "Cantidad de propiedades de tipo Store antes de eliminar outliers (4406, 6)\n",
      "Cantidad de propiedades de tipo Store después de eliminar outliers (2558, 6)\n",
      "--------------------------------------------------------------------\n",
      "Tamaño del data set con outliers:       130825\n",
      "Tamaño del nuevo data set sin outliers:  81592\n"
     ]
    }
   ],
   "source": [
    "#Se eliminan los outliers según los valores máximos de cada propiedad obtenidos anteriormente\n",
    "#Los valores minimos al ser negativos, se filtran los mayores a 0\n",
    "#Y se filtran los valores menores al valor máximo de cada tipo de propiedad.\n",
    "print(\"Cantidad de propiedades de tipo PH antes de eliminar outliers\",data_ph.shape)\n",
    "new_data_ph = data_ph[(data_ph['surface_total_in_m2'] <= 259) & (data_ph['surface_total_in_m2'] >= 0)]\n",
    "print(\"Cantidad de propiedades de tipo PH después de eliminar outliers\",new_data_ph.shape)\n",
    "print(\"--------------------------------------------------------------------\")\n",
    "print(\"Cantidad de propiedades de tipo Apartm antes de eliminar outliers\",data_apartm.shape)\n",
    "new_data_apartm = data_apartm[(data_apartm['surface_total_in_m2'] <= 153) & (data_apartm['surface_total_in_m2'] >= 0)]\n",
    "print(\"Cantidad de propiedades de tipo Apartm después de eliminar outliers\",new_data_apartm.shape)\n",
    "print(\"--------------------------------------------------------------------\")\n",
    "print(\"Cantidad de propiedades de tipo House antes de eliminar outliers\",data_house.shape)\n",
    "new_data_house = data_house[(data_house['surface_total_in_m2'] <= 880) & (data_house['surface_total_in_m2'] >= 0)]\n",
    "print(\"Cantidad de propiedades de tipo House después de eliminar outliers\",new_data_house.shape)\n",
    "print(\"--------------------------------------------------------------------\")\n",
    "print(\"Cantidad de propiedades de tipo Store antes de eliminar outliers\",data_store.shape)\n",
    "new_data_store = data_store[(data_store['surface_total_in_m2'] <= 822) & (data_store['surface_total_in_m2'] >= 0)]\n",
    "\n",
    "print(\"Cantidad de propiedades de tipo Store después de eliminar outliers\",new_data_store.shape)\n",
    "\n",
    "\n",
    "long_ph = len(new_data_ph)\n",
    "long_apartm = len(new_data_apartm)\n",
    "long_casa = len(new_data_house)\n",
    "long_store = len(new_data_store)\n",
    "\n",
    "new_long = long_ph + long_apartm + long_casa + long_store\n",
    "print(\"--------------------------------------------------------------------\")\n",
    "print(\"Tamaño del data set con outliers:      \", len(new_data))\n",
    "print(\"Tamaño del nuevo data set sin outliers: \", new_long)"
   ]
  },
  {
   "cell_type": "markdown",
   "id": "ce7126f3",
   "metadata": {},
   "source": [
    "Graficamos los Datos con y sin Outliners de PH, APARTMENT, HOUSE y STORE con respecto a surface_total_in_m2"
   ]
  },
  {
   "cell_type": "code",
   "execution_count": 88,
   "id": "ddc3d5d9",
   "metadata": {},
   "outputs": [
    {
     "data": {
      "text/plain": [
       "<AxesSubplot:>"
      ]
     },
     "execution_count": 88,
     "metadata": {},
     "output_type": "execute_result"
    },
    {
     "data": {
      "image/png": "[encoded data removed]",
      "text/plain": [
       "<Figure size 1080x288 with 2 Axes>"
      ]
     },
     "metadata": {},
     "output_type": "display_data"
    }
   ],
   "source": [
    "fig,ax  = plt.subplots(1,2, figsize=(15,4))\n",
    "sns.boxplot(x=data_ph['surface_total_in_m2'].values,ax=ax[0])\n",
    "sns.boxplot(x=new_data_ph['surface_total_in_m2'].values,ax=ax[1])"
   ]
  },
  {
   "cell_type": "code",
   "execution_count": 89,
   "id": "36d71e63",
   "metadata": {},
   "outputs": [
    {
     "data": {
      "text/plain": [
       "<AxesSubplot:>"
      ]
     },
     "execution_count": 89,
     "metadata": {},
     "output_type": "execute_result"
    },
    {
     "data": {
      "image/png": "[encoded data removed]",
      "text/plain": [
       "<Figure size 1080x288 with 2 Axes>"
      ]
     },
     "metadata": {},
     "output_type": "display_data"
    }
   ],
   "source": [
    "fig,ax  = plt.subplots(1,2, figsize=(15,4))\n",
    "sns.boxplot(x=data_apartm['surface_total_in_m2'].values,ax=ax[0])\n",
    "sns.boxplot(x=new_data_apartm['surface_total_in_m2'].values,ax=ax[1])"
   ]
  },
  {
   "cell_type": "code",
   "execution_count": 90,
   "id": "733bfc94",
   "metadata": {},
   "outputs": [
    {
     "data": {
      "text/plain": [
       "<AxesSubplot:>"
      ]
     },
     "execution_count": 90,
     "metadata": {},
     "output_type": "execute_result"
    },
    {
     "data": {
      "image/png": "[encoded data removed]",
      "text/plain": [
       "<Figure size 1080x288 with 2 Axes>"
      ]
     },
     "metadata": {},
     "output_type": "display_data"
    }
   ],
   "source": [
    "fig,ax  = plt.subplots(1,2, figsize=(15,4))\n",
    "sns.boxplot(x=data_house['surface_total_in_m2'].values,ax=ax[0])\n",
    "sns.boxplot(x=new_data_house['surface_total_in_m2'].values,ax=ax[1])"
   ]
  },
  {
   "cell_type": "code",
   "execution_count": 91,
   "id": "f6576a26",
   "metadata": {},
   "outputs": [
    {
     "data": {
      "text/plain": [
       "<AxesSubplot:>"
      ]
     },
     "execution_count": 91,
     "metadata": {},
     "output_type": "execute_result"
    },
    {
     "data": {
      "image/png": "[encoded data removed]",
      "text/plain": [
       "<Figure size 1080x288 with 2 Axes>"
      ]
     },
     "metadata": {},
     "output_type": "display_data"
    }
   ],
   "source": [
    "fig,ax  = plt.subplots(1,2, figsize=(15,4))\n",
    "sns.boxplot(x=data_store['surface_total_in_m2'].values,ax=ax[0])\n",
    "sns.boxplot(x=new_data_store['surface_total_in_m2'].values,ax=ax[1])\n"
   ]
  },
  {
   "cell_type": "code",
   "execution_count": 92,
   "id": "580ff488",
   "metadata": {},
   "outputs": [],
   "source": [
    "#dataset"
   ]
  },
  {
   "cell_type": "code",
   "execution_count": 94,
   "id": "845d4f4e",
   "metadata": {},
   "outputs": [
    {
     "data": {
      "text/plain": [
       "(81592, 6)"
      ]
     },
     "execution_count": 94,
     "metadata": {},
     "output_type": "execute_result"
    }
   ],
   "source": [
    "#Se concatenan los data set sin outliers\n",
    "frames = [new_data_ph,new_data_apartm,new_data_house,new_data_store]\n",
    "dataset_clear = pd.concat(frames)\n",
    "dataset_clear.shape\n",
    "\n",
    "#dataset_clear = data.merge(dataset_clear, how='left', on= frames)\n",
    "#dataset_clear.sample(3)"
   ]
  },
  {
   "cell_type": "code",
   "execution_count": 95,
   "id": "bc28d587",
   "metadata": {},
   "outputs": [
    {
     "name": "stdout",
     "output_type": "stream",
     "text": [
      "Cantidad de propiedades con superficie cubierta no mayor a la total (72954, 6)\n"
     ]
    },
    {
     "data": {
      "image/png": "[encoded data removed]",
      "text/plain": [
       "<Figure size 432x288 with 1 Axes>"
      ]
     },
     "metadata": {},
     "output_type": "display_data"
    }
   ],
   "source": [
    "#filtered_data\n",
    "#Se filtran las propiedades que tienen una superficie cubierta mayor a la superficie total.\n",
    "dataset_clear = dataset_clear[dataset_clear['surface_covered_in_m2'] <= dataset_clear['surface_total_in_m2']]\n",
    "sns.scatterplot(x=\"surface_total_in_m2\", y=\"surface_covered_in_m2\", data = dataset_clear)\n",
    "plt.title('Filtrado de propiedades donde superficie cubierta no es mayor a la total')\n",
    "plt.xlabel('Superficie Total')\n",
    "plt.ylabel('Superficie Cubierta')\n",
    "print(\"Cantidad de propiedades con superficie cubierta no mayor a la total\",dataset_clear.shape)"
   ]
  },
  {
   "cell_type": "code",
   "execution_count": 96,
   "id": "660d8b78",
   "metadata": {},
   "outputs": [
    {
     "data": {
      "text/plain": [
       "['USD']"
      ]
     },
     "execution_count": 96,
     "metadata": {},
     "output_type": "execute_result"
    }
   ],
   "source": [
    "#Se analiza si todos los tipos de moneda son en dólares\n",
    "filtered_data['currency'].unique().tolist()"
   ]
  },
  {
   "cell_type": "code",
   "execution_count": 101,
   "id": "e8dcf7b3",
   "metadata": {},
   "outputs": [
    {
     "data": {
      "text/plain": [
       "Text(0.5, 1.0, 'Cantidad de propiedades por precio')"
      ]
     },
     "execution_count": 101,
     "metadata": {},
     "output_type": "execute_result"
    },
    {
     "data": {
      "image/png": "[encoded data removed]",
      "text/plain": [
       "<Figure size 432x288 with 1 Axes>"
      ]
     },
     "metadata": {},
     "output_type": "display_data"
    }
   ],
   "source": [
    "#Se analiza la distribución del precio\n",
    "#La mayor cantidad de propiedades tienen un precio entre 100.000 y 200.000 \n",
    "#Es poca la cantidad de propiedades que tienen precios mayores a 400.000\n",
    "sns.histplot(filtered_data['price']);\n",
    "plt.xlim(0,800000)\n",
    "plt.xlabel('Precio (USD)')\n",
    "plt.ylabel('Cantidad de propiedades')\n",
    "plt.title('Cantidad de propiedades por precio')"
   ]
  },
  {
   "cell_type": "markdown",
   "id": "48bc7008",
   "metadata": {},
   "source": [
    "Graficamos nuevamente con los datos sin los outliners"
   ]
  },
  {
   "cell_type": "code",
   "execution_count": 102,
   "id": "220146d7",
   "metadata": {},
   "outputs": [
    {
     "data": {
      "text/plain": [
       "Text(0.5, 8.95999999999998, 'Superficie total')"
      ]
     },
     "execution_count": 102,
     "metadata": {},
     "output_type": "execute_result"
    },
    {
     "data": {
      "image/png": "[encoded data removed]",
      "text/plain": [
       "<Figure size 360x360 with 1 Axes>"
      ]
     },
     "metadata": {},
     "output_type": "display_data"
    }
   ],
   "source": [
    "#Se grafica la distribución de la superficie total según los tipos de propiedades sin los outliners\n",
    "sns.set_theme(style=\"ticks\")\n",
    "sns.catplot(data = dataset_clear, x = \"surface_total_in_m2\", y = \"property_type\")\n",
    "plt.title('Distribución de superficie total según el tipo de propiedad sin outliner')\n",
    "plt.ylabel('Tipo de propiedad')\n",
    "plt.xlabel('Superficie total')"
   ]
  },
  {
   "cell_type": "code",
   "execution_count": 103,
   "id": "c16134c3",
   "metadata": {},
   "outputs": [
    {
     "name": "stderr",
     "output_type": "stream",
     "text": [
      "C:\\Users\\fox00\\AppData\\Local\\Temp\\ipykernel_6632\\1903285090.py:13: UserWarning: Matplotlib is currently using module://matplotlib_inline.backend_inline, which is a non-GUI backend, so cannot show the figure.\n",
      "  fig.show()\n"
     ]
    },
    {
     "data": {
      "image/png": "[encoded data removed]",
      "text/plain": [
       "<Figure size 1296x360 with 2 Axes>"
      ]
     },
     "metadata": {},
     "output_type": "display_data"
    }
   ],
   "source": [
    "#Graficar la distribución del precio según el tipo de propiedad\n",
    "\n",
    "fig, ax = plt.subplots(1,2, figsize=(18,5),constrained_layout = True)\n",
    "sns.barplot(data = dataset_clear, x=\"property_type\", y=\"price\", estimator=np.median, ci='sd',ax=ax[0])\n",
    "ax[0].set_xlabel('Tipo de propiedad')\n",
    "ax[0].set_ylabel('Precio')\n",
    "ax[0].set_ylim(0,1000000)\n",
    "sns.boxplot(data = dataset_clear, x = 'property_type', y = 'price',ax=ax[1])\n",
    "ax[1].set_xlabel('Tipo de propiedad')\n",
    "ax[1].set_ylabel('Precio')\n",
    "ax[1].set_ylim(0,1000000)\n",
    "plt.suptitle(\"Precios de propiedades según su tipo\")\n",
    "fig.show()"
   ]
  },
  {
   "cell_type": "code",
   "execution_count": 104,
   "id": "62ec72c6",
   "metadata": {},
   "outputs": [
    {
     "name": "stdout",
     "output_type": "stream",
     "text": [
      "Valores de tipo de propiedad PH:\n",
      "- Valor minimo: -47000.0\n",
      "- Valor maximo: 313000.0\n",
      "----------------------------------\n",
      "Valores de tipo de propiedad Apartment:\n",
      "- Valor minimo: -208750.0\n",
      "- Valor maximo: 601250.0\n",
      "----------------------------------\n",
      "Valores de tipo de propiedad house:\n",
      "- Valor minimo: -247500.0\n",
      "- Valor maximo: 852500.0\n",
      "----------------------------------\n",
      "Valores de tipo de propiedad Store:\n",
      "- Valor minimo: -458750.0\n",
      "- Valor maximo: 1075250.0\n"
     ]
    }
   ],
   "source": [
    "#Filtrado de outliers basandonos en el tipo de propiedad\n",
    "\n",
    "#Nuevos data set según el tipo de propiedad \n",
    "data_ph_clear = dataset_clear[dataset_clear[\"property_type\"] == 'PH']\n",
    "data_apartm_clear = dataset_clear[dataset_clear[\"property_type\"] == 'apartment']\n",
    "data_house_clear = dataset_clear[dataset_clear[\"property_type\"] == 'house']\n",
    "data_store_clear = dataset_clear[dataset_clear[\"property_type\"] == 'store']\n",
    "#Analizamos los valores maximos y minimos de cada dataset:\n",
    "print(\"Valores de tipo de propiedad PH:\")\n",
    "get_iqr_values(data_ph_clear, 'price')\n",
    "print(\"----------------------------------\")\n",
    "print(\"Valores de tipo de propiedad Apartment:\")\n",
    "get_iqr_values(data_apartm_clear, 'price')\n",
    "print(\"----------------------------------\")\n",
    "print(\"Valores de tipo de propiedad house:\")\n",
    "get_iqr_values(data_house_clear, 'price')\n",
    "print(\"----------------------------------\")\n",
    "print(\"Valores de tipo de propiedad Store:\")\n",
    "get_iqr_values(data_store_clear, 'price')"
   ]
  },
  {
   "cell_type": "code",
   "execution_count": 105,
   "id": "9f8199b6",
   "metadata": {},
   "outputs": [
    {
     "name": "stdout",
     "output_type": "stream",
     "text": [
      "Tamaño del data set con outliers en precio: 72954\n",
      "--------------------------------------------------------------------\n",
      "Cantidad de propiedades de tipo PH antes de eliminar outliers (3465, 6)\n",
      "Cantidad de propiedades de tipo PH después de eliminar outliers (2903, 6)\n",
      "--------------------------------------------------------------------\n",
      "Cantidad de propiedades de tipo Depto antes de eliminar outliers (45191, 6)\n",
      "Cantidad de propiedades de tipo Depto después de eliminar outliers (31821, 6)\n",
      "--------------------------------------------------------------------\n",
      "Cantidad de propiedades de tipo Casa antes de eliminar outliers (22221, 6)\n",
      "Cantidad de propiedades de tipo Casa después de eliminar outliers (17064, 6)\n",
      "--------------------------------------------------------------------\n",
      "Cantidad de propiedades de tipo Casa antes de eliminar outliers (2077, 6)\n",
      "Cantidad de propiedades de tipo Casa después de eliminar outliers (1509, 6)\n",
      "--------------------------------------------------------------------\n",
      "Tamaño del nuevo data set sin outliers en precio: 53297\n"
     ]
    }
   ],
   "source": [
    "#Filtramos los data set según los valores maximos y minimos calculados anteriormente\n",
    "#Los valores minimos al ser negativos, se filtran los mayores a 0\n",
    "#Y se filtran los valores menores al valor máximo de cada tipo de propiedad.\n",
    "print(\"Tamaño del data set con outliers en precio:\", len(dataset_clear))\n",
    "print(\"--------------------------------------------------------------------\")\n",
    "print(\"Cantidad de propiedades de tipo PH antes de eliminar outliers\",data_ph_clear.shape)\n",
    "new_data_ph_clear = data_ph_clear[(data_ph_clear['price'] <= 310000) & (data_ph_clear['surface_total_in_m2'] >= 0)]\n",
    "print(\"Cantidad de propiedades de tipo PH después de eliminar outliers\",new_data_ph_clear.shape)\n",
    "print(\"--------------------------------------------------------------------\")\n",
    "print(\"Cantidad de propiedades de tipo Depto antes de eliminar outliers\",data_apartm_clear.shape)\n",
    "new_data_apartm_clear = data_apartm_clear[(data_apartm_clear['price'] <= 607500) & (data_apartm_clear['surface_total_in_m2'] >= 0)]\n",
    "print(\"Cantidad de propiedades de tipo Depto después de eliminar outliers\",new_data_apartm_clear.shape)\n",
    "print(\"--------------------------------------------------------------------\")\n",
    "print(\"Cantidad de propiedades de tipo Casa antes de eliminar outliers\",data_house_clear.shape)\n",
    "new_data_house_clear = data_house_clear[(data_house_clear['price'] <= 860000) & (data_house_clear['surface_total_in_m2'] >= 0)]\n",
    "print(\"Cantidad de propiedades de tipo Casa después de eliminar outliers\",new_data_house_clear.shape)\n",
    "print(\"--------------------------------------------------------------------\")\n",
    "print(\"Cantidad de propiedades de tipo Casa antes de eliminar outliers\",data_store_clear.shape)\n",
    "new_data_store_clear = data_store_clear[(data_store_clear['price'] <= 1071500) & (data_store_clear['surface_total_in_m2'] >= 0)]\n",
    "print(\"Cantidad de propiedades de tipo Casa después de eliminar outliers\",new_data_store_clear.shape)\n",
    "\n",
    "#long_ph_clear = len(new_data_ph_clear)\n",
    "#long_apartm_clear = len(new_data_apartm_clear)\n",
    "#long_house_clear = len(new_data_house_clear)\n",
    "#long_store_clear = len(new_data_store_clear)\n",
    "\n",
    "new_long_clear = len(new_data_ph_clear) + len(new_data_apartm_clear) + len(new_data_house_clear) + len(new_data_store_clear)\n",
    "print(\"--------------------------------------------------------------------\")\n",
    "print(\"Tamaño del nuevo data set sin outliers en precio:\", new_long_clear)"
   ]
  },
  {
   "cell_type": "code",
   "execution_count": 106,
   "id": "0d914034",
   "metadata": {},
   "outputs": [
    {
     "data": {
      "text/plain": [
       "Text(0.5, 8.95999999999998, 'Superficie total')"
      ]
     },
     "execution_count": 106,
     "metadata": {},
     "output_type": "execute_result"
    },
    {
     "data": {
      "image/png": "[encoded data removed]",
      "text/plain": [
       "<Figure size 360x360 with 1 Axes>"
      ]
     },
     "metadata": {},
     "output_type": "display_data"
    }
   ],
   "source": [
    "#Se grafica la distribución de la superficie total según los tipos de propiedades sin los outliners\n",
    "sns.set_theme(style=\"ticks\")\n",
    "sns.catplot(data = dataset_clear, x = \"price\", y = \"property_type\")\n",
    "plt.title('Distribución de superficie total según el tipo de propiedad sin outliner')\n",
    "plt.ylabel('Tipo de propiedad')\n",
    "plt.xlabel('Superficie total')"
   ]
  },
  {
   "cell_type": "code",
   "execution_count": 107,
   "id": "d9655081",
   "metadata": {},
   "outputs": [
    {
     "data": {
      "text/plain": [
       "<seaborn.axisgrid.FacetGrid at 0x1c0a40813a0>"
      ]
     },
     "execution_count": 107,
     "metadata": {},
     "output_type": "execute_result"
    },
    {
     "data": {
      "image/png": "[encoded data removed]",
      "text/plain": [
       "<Figure size 516.35x360 with 1 Axes>"
      ]
     },
     "metadata": {},
     "output_type": "display_data"
    }
   ],
   "source": [
    "sns.color_palette(\"hls\", 8)\n",
    "sns.displot(data=data.isna().melt(value_name=\"missing\"), y=\"variable\", hue=\"missing\", multiple=\"fill\", aspect=1.25)"
   ]
  }
 ],
 "metadata": {
  "interpreter": {
   "hash": "b250aa66961dbf08ec300c7e4ab307d574e4f2224cbce059fe846b96b0364ebd"
  },
  "kernelspec": {
   "display_name": "Python [conda env:dhdsblend2021] *",
   "language": "python",
   "name": "conda-env-dhdsblend2021-py"
  },
  "language_info": {
   "codemirror_mode": {
    "name": "ipython",
    "version": 3
   },
   "file_extension": ".py",
   "mimetype": "text/x-python",
   "name": "python",
   "nbconvert_exporter": "python",
   "pygments_lexer": "ipython3",
   "version": "3.8.13"
  }
 },
 "nbformat": 4,
 "nbformat_minor": 5
}
